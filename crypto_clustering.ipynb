{
 "cells": [
  {
   "cell_type": "markdown",
   "metadata": {},
   "source": [
    "# Clustering Crypto"
   ]
  },
  {
   "cell_type": "code",
   "execution_count": 33,
   "metadata": {},
   "outputs": [],
   "source": [
    "# Initial imports\n",
    "import requests\n",
    "import pandas as pd\n",
    "import matplotlib.pyplot as plt\n",
    "import hvplot.pandas\n",
    "import plotly.express as px\n",
    "from sklearn.preprocessing import StandardScaler, MinMaxScaler\n",
    "from sklearn.decomposition import PCA\n",
    "from sklearn.cluster import KMeans\n",
    "from pathlib import Path"
   ]
  },
  {
   "cell_type": "markdown",
   "metadata": {},
   "source": [
    "### Fetching Cryptocurrency Data"
   ]
  },
  {
   "cell_type": "code",
   "execution_count": 34,
   "metadata": {},
   "outputs": [],
   "source": [
    "# Use the following endpoint to fetch json data\n",
    "url = \"https://min-api.cryptocompare.com/data/all/coinlist\""
   ]
  },
  {
   "cell_type": "code",
   "execution_count": 35,
   "metadata": {},
   "outputs": [],
   "source": [
    "# Create a DataFrame \n",
    "# HINT: You will need to use the 'Data' key from the json response, then transpose the DataFrame."
   ]
  },
  {
   "cell_type": "code",
   "execution_count": 36,
   "metadata": {},
   "outputs": [
    {
     "data": {
      "text/html": [
       "<div>\n",
       "<style scoped>\n",
       "    .dataframe tbody tr th:only-of-type {\n",
       "        vertical-align: middle;\n",
       "    }\n",
       "\n",
       "    .dataframe tbody tr th {\n",
       "        vertical-align: top;\n",
       "    }\n",
       "\n",
       "    .dataframe thead th {\n",
       "        text-align: right;\n",
       "    }\n",
       "</style>\n",
       "<table border=\"1\" class=\"dataframe\">\n",
       "  <thead>\n",
       "    <tr style=\"text-align: right;\">\n",
       "      <th></th>\n",
       "      <th>CoinName</th>\n",
       "      <th>Algorithm</th>\n",
       "      <th>IsTrading</th>\n",
       "      <th>ProofType</th>\n",
       "      <th>TotalCoinsMined</th>\n",
       "      <th>TotalCoinSupply</th>\n",
       "    </tr>\n",
       "  </thead>\n",
       "  <tbody>\n",
       "    <tr>\n",
       "      <th>42</th>\n",
       "      <td>42 Coin</td>\n",
       "      <td>Scrypt</td>\n",
       "      <td>True</td>\n",
       "      <td>PoW/PoS</td>\n",
       "      <td>4.199995e+01</td>\n",
       "      <td>42</td>\n",
       "    </tr>\n",
       "    <tr>\n",
       "      <th>365</th>\n",
       "      <td>365Coin</td>\n",
       "      <td>X11</td>\n",
       "      <td>True</td>\n",
       "      <td>PoW/PoS</td>\n",
       "      <td>NaN</td>\n",
       "      <td>2300000000</td>\n",
       "    </tr>\n",
       "    <tr>\n",
       "      <th>404</th>\n",
       "      <td>404Coin</td>\n",
       "      <td>Scrypt</td>\n",
       "      <td>True</td>\n",
       "      <td>PoW/PoS</td>\n",
       "      <td>1.055185e+09</td>\n",
       "      <td>532000000</td>\n",
       "    </tr>\n",
       "    <tr>\n",
       "      <th>611</th>\n",
       "      <td>SixEleven</td>\n",
       "      <td>SHA-256</td>\n",
       "      <td>True</td>\n",
       "      <td>PoW</td>\n",
       "      <td>NaN</td>\n",
       "      <td>611000</td>\n",
       "    </tr>\n",
       "    <tr>\n",
       "      <th>808</th>\n",
       "      <td>808</td>\n",
       "      <td>SHA-256</td>\n",
       "      <td>True</td>\n",
       "      <td>PoW/PoS</td>\n",
       "      <td>0.000000e+00</td>\n",
       "      <td>0</td>\n",
       "    </tr>\n",
       "  </tbody>\n",
       "</table>\n",
       "</div>"
      ],
      "text/plain": [
       "      CoinName Algorithm  IsTrading ProofType  TotalCoinsMined TotalCoinSupply\n",
       "42     42 Coin    Scrypt       True   PoW/PoS     4.199995e+01              42\n",
       "365    365Coin       X11       True   PoW/PoS              NaN      2300000000\n",
       "404    404Coin    Scrypt       True   PoW/PoS     1.055185e+09       532000000\n",
       "611  SixEleven   SHA-256       True       PoW              NaN          611000\n",
       "808        808   SHA-256       True   PoW/PoS     0.000000e+00               0"
      ]
     },
     "execution_count": 36,
     "metadata": {},
     "output_type": "execute_result"
    }
   ],
   "source": [
    "# Alternatively, use the provided csv file:\n",
    "file_path = Path(\"Resources/crypto_data.csv\")\n",
    "\n",
    "# Create a DataFrame\n",
    "crypto_df = pd.read_csv(file_path, index_col = 0)\n",
    "crypto_df.head()"
   ]
  },
  {
   "cell_type": "markdown",
   "metadata": {},
   "source": [
    "### Data Preprocessing"
   ]
  },
  {
   "cell_type": "code",
   "execution_count": 37,
   "metadata": {},
   "outputs": [],
   "source": [
    "# Keep only necessary columns:\n",
    "# 'CoinName','Algorithm','IsTrading','ProofType','TotalCoinsMined','TotalCoinSupply\\"
   ]
  },
  {
   "cell_type": "code",
   "execution_count": 38,
   "metadata": {},
   "outputs": [],
   "source": [
    "# Keep only cryptocurrencies that are trading\n",
    "crypto_df = crypto_df.loc[crypto_df[\"IsTrading\"] == True]"
   ]
  },
  {
   "cell_type": "code",
   "execution_count": 39,
   "metadata": {},
   "outputs": [],
   "source": [
    "# Keep only cryptocurrencies with a working algorithm"
   ]
  },
  {
   "cell_type": "code",
   "execution_count": 40,
   "metadata": {},
   "outputs": [],
   "source": [
    "# Remove the \"IsTrading\" column\n",
    "crypto_df.drop(\"IsTrading\", axis=1, inplace=True)"
   ]
  },
  {
   "cell_type": "code",
   "execution_count": 41,
   "metadata": {},
   "outputs": [],
   "source": [
    "# Remove rows with at least 1 null value\n",
    "crypto_df.dropna(inplace=True)\n"
   ]
  },
  {
   "cell_type": "code",
   "execution_count": 42,
   "metadata": {},
   "outputs": [],
   "source": [
    "# Remove rows with cryptocurrencies having no coins mined\n",
    "crypto_df = crypto_df.loc[crypto_df[\"TotalCoinsMined\"] > 0]"
   ]
  },
  {
   "cell_type": "code",
   "execution_count": 43,
   "metadata": {},
   "outputs": [
    {
     "data": {
      "text/plain": [
       "CoinName           0\n",
       "Algorithm          0\n",
       "ProofType          0\n",
       "TotalCoinsMined    0\n",
       "TotalCoinSupply    0\n",
       "dtype: int64"
      ]
     },
     "execution_count": 43,
     "metadata": {},
     "output_type": "execute_result"
    }
   ],
   "source": [
    "# Drop rows where there are 'N/A' text values\n",
    "crypto_df.isnull().sum()"
   ]
  },
  {
   "cell_type": "code",
   "execution_count": 44,
   "metadata": {},
   "outputs": [],
   "source": [
    "# Store the 'CoinName'column in its own DataFrame prior to dropping it from crypto_df\n",
    "coin_df = pd.DataFrame(data=crypto_df, columns=[\"CoinName\"])"
   ]
  },
  {
   "cell_type": "code",
   "execution_count": 45,
   "metadata": {},
   "outputs": [],
   "source": [
    "# Drop the 'CoinName' column since it's not going to be used on the clustering algorithm\n",
    "crypto_df.drop(\"CoinName\", axis=1, inplace=True)"
   ]
  },
  {
   "cell_type": "code",
   "execution_count": 46,
   "metadata": {},
   "outputs": [
    {
     "data": {
      "text/html": [
       "<div>\n",
       "<style scoped>\n",
       "    .dataframe tbody tr th:only-of-type {\n",
       "        vertical-align: middle;\n",
       "    }\n",
       "\n",
       "    .dataframe tbody tr th {\n",
       "        vertical-align: top;\n",
       "    }\n",
       "\n",
       "    .dataframe thead th {\n",
       "        text-align: right;\n",
       "    }\n",
       "</style>\n",
       "<table border=\"1\" class=\"dataframe\">\n",
       "  <thead>\n",
       "    <tr style=\"text-align: right;\">\n",
       "      <th></th>\n",
       "      <th>TotalCoinsMined</th>\n",
       "      <th>TotalCoinSupply</th>\n",
       "      <th>Algorithm_1GB AES Pattern Search</th>\n",
       "      <th>Algorithm_536</th>\n",
       "      <th>Algorithm_Argon2d</th>\n",
       "      <th>Algorithm_BLAKE256</th>\n",
       "      <th>Algorithm_Blake</th>\n",
       "      <th>Algorithm_Blake2S</th>\n",
       "      <th>Algorithm_Blake2b</th>\n",
       "      <th>Algorithm_C11</th>\n",
       "      <th>...</th>\n",
       "      <th>ProofType_PoW/PoS</th>\n",
       "      <th>ProofType_PoW/PoS</th>\n",
       "      <th>ProofType_PoW/PoW</th>\n",
       "      <th>ProofType_PoW/nPoS</th>\n",
       "      <th>ProofType_Pos</th>\n",
       "      <th>ProofType_Proof of Authority</th>\n",
       "      <th>ProofType_Proof of Trust</th>\n",
       "      <th>ProofType_TPoS</th>\n",
       "      <th>ProofType_Zero-Knowledge Proof</th>\n",
       "      <th>ProofType_dPoW/PoW</th>\n",
       "    </tr>\n",
       "  </thead>\n",
       "  <tbody>\n",
       "    <tr>\n",
       "      <th>42</th>\n",
       "      <td>4.199995e+01</td>\n",
       "      <td>42</td>\n",
       "      <td>0</td>\n",
       "      <td>0</td>\n",
       "      <td>0</td>\n",
       "      <td>0</td>\n",
       "      <td>0</td>\n",
       "      <td>0</td>\n",
       "      <td>0</td>\n",
       "      <td>0</td>\n",
       "      <td>...</td>\n",
       "      <td>1</td>\n",
       "      <td>0</td>\n",
       "      <td>0</td>\n",
       "      <td>0</td>\n",
       "      <td>0</td>\n",
       "      <td>0</td>\n",
       "      <td>0</td>\n",
       "      <td>0</td>\n",
       "      <td>0</td>\n",
       "      <td>0</td>\n",
       "    </tr>\n",
       "    <tr>\n",
       "      <th>404</th>\n",
       "      <td>1.055185e+09</td>\n",
       "      <td>532000000</td>\n",
       "      <td>0</td>\n",
       "      <td>0</td>\n",
       "      <td>0</td>\n",
       "      <td>0</td>\n",
       "      <td>0</td>\n",
       "      <td>0</td>\n",
       "      <td>0</td>\n",
       "      <td>0</td>\n",
       "      <td>...</td>\n",
       "      <td>1</td>\n",
       "      <td>0</td>\n",
       "      <td>0</td>\n",
       "      <td>0</td>\n",
       "      <td>0</td>\n",
       "      <td>0</td>\n",
       "      <td>0</td>\n",
       "      <td>0</td>\n",
       "      <td>0</td>\n",
       "      <td>0</td>\n",
       "    </tr>\n",
       "    <tr>\n",
       "      <th>1337</th>\n",
       "      <td>2.927942e+10</td>\n",
       "      <td>314159265359</td>\n",
       "      <td>0</td>\n",
       "      <td>0</td>\n",
       "      <td>0</td>\n",
       "      <td>0</td>\n",
       "      <td>0</td>\n",
       "      <td>0</td>\n",
       "      <td>0</td>\n",
       "      <td>0</td>\n",
       "      <td>...</td>\n",
       "      <td>1</td>\n",
       "      <td>0</td>\n",
       "      <td>0</td>\n",
       "      <td>0</td>\n",
       "      <td>0</td>\n",
       "      <td>0</td>\n",
       "      <td>0</td>\n",
       "      <td>0</td>\n",
       "      <td>0</td>\n",
       "      <td>0</td>\n",
       "    </tr>\n",
       "    <tr>\n",
       "      <th>BTC</th>\n",
       "      <td>1.792718e+07</td>\n",
       "      <td>21000000</td>\n",
       "      <td>0</td>\n",
       "      <td>0</td>\n",
       "      <td>0</td>\n",
       "      <td>0</td>\n",
       "      <td>0</td>\n",
       "      <td>0</td>\n",
       "      <td>0</td>\n",
       "      <td>0</td>\n",
       "      <td>...</td>\n",
       "      <td>0</td>\n",
       "      <td>0</td>\n",
       "      <td>0</td>\n",
       "      <td>0</td>\n",
       "      <td>0</td>\n",
       "      <td>0</td>\n",
       "      <td>0</td>\n",
       "      <td>0</td>\n",
       "      <td>0</td>\n",
       "      <td>0</td>\n",
       "    </tr>\n",
       "    <tr>\n",
       "      <th>ETH</th>\n",
       "      <td>1.076842e+08</td>\n",
       "      <td>0</td>\n",
       "      <td>0</td>\n",
       "      <td>0</td>\n",
       "      <td>0</td>\n",
       "      <td>0</td>\n",
       "      <td>0</td>\n",
       "      <td>0</td>\n",
       "      <td>0</td>\n",
       "      <td>0</td>\n",
       "      <td>...</td>\n",
       "      <td>0</td>\n",
       "      <td>0</td>\n",
       "      <td>0</td>\n",
       "      <td>0</td>\n",
       "      <td>0</td>\n",
       "      <td>0</td>\n",
       "      <td>0</td>\n",
       "      <td>0</td>\n",
       "      <td>0</td>\n",
       "      <td>0</td>\n",
       "    </tr>\n",
       "  </tbody>\n",
       "</table>\n",
       "<p>5 rows × 98 columns</p>\n",
       "</div>"
      ],
      "text/plain": [
       "      TotalCoinsMined TotalCoinSupply  Algorithm_1GB AES Pattern Search  \\\n",
       "42       4.199995e+01              42                                 0   \n",
       "404      1.055185e+09       532000000                                 0   \n",
       "1337     2.927942e+10    314159265359                                 0   \n",
       "BTC      1.792718e+07        21000000                                 0   \n",
       "ETH      1.076842e+08               0                                 0   \n",
       "\n",
       "      Algorithm_536  Algorithm_Argon2d  Algorithm_BLAKE256  Algorithm_Blake  \\\n",
       "42                0                  0                   0                0   \n",
       "404               0                  0                   0                0   \n",
       "1337              0                  0                   0                0   \n",
       "BTC               0                  0                   0                0   \n",
       "ETH               0                  0                   0                0   \n",
       "\n",
       "      Algorithm_Blake2S  Algorithm_Blake2b  Algorithm_C11  ...  \\\n",
       "42                    0                  0              0  ...   \n",
       "404                   0                  0              0  ...   \n",
       "1337                  0                  0              0  ...   \n",
       "BTC                   0                  0              0  ...   \n",
       "ETH                   0                  0              0  ...   \n",
       "\n",
       "      ProofType_PoW/PoS  ProofType_PoW/PoS   ProofType_PoW/PoW  \\\n",
       "42                    1                   0                  0   \n",
       "404                   1                   0                  0   \n",
       "1337                  1                   0                  0   \n",
       "BTC                   0                   0                  0   \n",
       "ETH                   0                   0                  0   \n",
       "\n",
       "      ProofType_PoW/nPoS  ProofType_Pos  ProofType_Proof of Authority  \\\n",
       "42                     0              0                             0   \n",
       "404                    0              0                             0   \n",
       "1337                   0              0                             0   \n",
       "BTC                    0              0                             0   \n",
       "ETH                    0              0                             0   \n",
       "\n",
       "      ProofType_Proof of Trust  ProofType_TPoS  \\\n",
       "42                           0               0   \n",
       "404                          0               0   \n",
       "1337                         0               0   \n",
       "BTC                          0               0   \n",
       "ETH                          0               0   \n",
       "\n",
       "      ProofType_Zero-Knowledge Proof  ProofType_dPoW/PoW  \n",
       "42                                 0                   0  \n",
       "404                                0                   0  \n",
       "1337                               0                   0  \n",
       "BTC                                0                   0  \n",
       "ETH                                0                   0  \n",
       "\n",
       "[5 rows x 98 columns]"
      ]
     },
     "execution_count": 46,
     "metadata": {},
     "output_type": "execute_result"
    }
   ],
   "source": [
    "# Create dummy variables for text features\n",
    "X = pd.get_dummies(crypto_df, columns=[\"Algorithm\", \"ProofType\"])\n",
    "X.head()"
   ]
  },
  {
   "cell_type": "code",
   "execution_count": 47,
   "metadata": {},
   "outputs": [],
   "source": [
    "# Standardize data\n",
    "crypto_scaled = StandardScaler().fit_transform(X)"
   ]
  },
  {
   "cell_type": "markdown",
   "metadata": {},
   "source": [
    "### Reducing Dimensions Using PCA"
   ]
  },
  {
   "cell_type": "code",
   "execution_count": 48,
   "metadata": {},
   "outputs": [],
   "source": [
    "# Use PCA to reduce dimensions to 3 principal components\n",
    "pca = PCA(n_components=3)\n",
    "\n",
    "crypto_pca = pca.fit_transform(crypto_scaled)"
   ]
  },
  {
   "cell_type": "code",
   "execution_count": 49,
   "metadata": {},
   "outputs": [
    {
     "data": {
      "text/html": [
       "<div>\n",
       "<style scoped>\n",
       "    .dataframe tbody tr th:only-of-type {\n",
       "        vertical-align: middle;\n",
       "    }\n",
       "\n",
       "    .dataframe tbody tr th {\n",
       "        vertical-align: top;\n",
       "    }\n",
       "\n",
       "    .dataframe thead th {\n",
       "        text-align: right;\n",
       "    }\n",
       "</style>\n",
       "<table border=\"1\" class=\"dataframe\">\n",
       "  <thead>\n",
       "    <tr style=\"text-align: right;\">\n",
       "      <th></th>\n",
       "      <th>PC 1</th>\n",
       "      <th>PC 2</th>\n",
       "      <th>PC 3</th>\n",
       "    </tr>\n",
       "  </thead>\n",
       "  <tbody>\n",
       "    <tr>\n",
       "      <th>42</th>\n",
       "      <td>-0.335426</td>\n",
       "      <td>1.088878</td>\n",
       "      <td>-0.519583</td>\n",
       "    </tr>\n",
       "    <tr>\n",
       "      <th>404</th>\n",
       "      <td>-0.318779</td>\n",
       "      <td>1.088816</td>\n",
       "      <td>-0.520010</td>\n",
       "    </tr>\n",
       "    <tr>\n",
       "      <th>1337</th>\n",
       "      <td>2.290693</td>\n",
       "      <td>1.561966</td>\n",
       "      <td>-0.591831</td>\n",
       "    </tr>\n",
       "    <tr>\n",
       "      <th>BTC</th>\n",
       "      <td>-0.150023</td>\n",
       "      <td>-1.356125</td>\n",
       "      <td>0.128056</td>\n",
       "    </tr>\n",
       "    <tr>\n",
       "      <th>ETH</th>\n",
       "      <td>-0.153715</td>\n",
       "      <td>-2.084078</td>\n",
       "      <td>0.329279</td>\n",
       "    </tr>\n",
       "    <tr>\n",
       "      <th>LTC</th>\n",
       "      <td>-0.161045</td>\n",
       "      <td>-1.058812</td>\n",
       "      <td>-0.015469</td>\n",
       "    </tr>\n",
       "    <tr>\n",
       "      <th>DASH</th>\n",
       "      <td>-0.398862</td>\n",
       "      <td>1.200159</td>\n",
       "      <td>-0.464632</td>\n",
       "    </tr>\n",
       "    <tr>\n",
       "      <th>XMR</th>\n",
       "      <td>-0.144953</td>\n",
       "      <td>-2.208675</td>\n",
       "      <td>0.333662</td>\n",
       "    </tr>\n",
       "    <tr>\n",
       "      <th>ETC</th>\n",
       "      <td>-0.152159</td>\n",
       "      <td>-2.084203</td>\n",
       "      <td>0.329259</td>\n",
       "    </tr>\n",
       "    <tr>\n",
       "      <th>ZEC</th>\n",
       "      <td>-0.142119</td>\n",
       "      <td>-1.987224</td>\n",
       "      <td>0.388839</td>\n",
       "    </tr>\n",
       "  </tbody>\n",
       "</table>\n",
       "</div>"
      ],
      "text/plain": [
       "          PC 1      PC 2      PC 3\n",
       "42   -0.335426  1.088878 -0.519583\n",
       "404  -0.318779  1.088816 -0.520010\n",
       "1337  2.290693  1.561966 -0.591831\n",
       "BTC  -0.150023 -1.356125  0.128056\n",
       "ETH  -0.153715 -2.084078  0.329279\n",
       "LTC  -0.161045 -1.058812 -0.015469\n",
       "DASH -0.398862  1.200159 -0.464632\n",
       "XMR  -0.144953 -2.208675  0.333662\n",
       "ETC  -0.152159 -2.084203  0.329259\n",
       "ZEC  -0.142119 -1.987224  0.388839"
      ]
     },
     "execution_count": 49,
     "metadata": {},
     "output_type": "execute_result"
    }
   ],
   "source": [
    "# Create a DataFrame with the principal components data\n",
    "pcs_df = pd.DataFrame(data=crypto_pca, columns=[\"PC 1\", \"PC 2\", \"PC 3\"], index=crypto_df.index)\n",
    "pcs_df.head(10)"
   ]
  },
  {
   "cell_type": "markdown",
   "metadata": {},
   "source": [
    "### Clustering Crytocurrencies Using K-Means\n",
    "\n",
    "#### Find the Best Value for `k` Using the Elbow Curve"
   ]
  },
  {
   "cell_type": "code",
   "execution_count": 50,
   "metadata": {},
   "outputs": [
    {
     "data": {},
     "metadata": {},
     "output_type": "display_data"
    },
    {
     "data": {
      "application/vnd.holoviews_exec.v0+json": "",
      "text/html": [
       "<div id='1714'>\n",
       "\n",
       "\n",
       "\n",
       "\n",
       "\n",
       "  <div class=\"bk-root\" id=\"11c4ffab-31d4-4963-9395-559ba2e4bb20\" data-root-id=\"1714\"></div>\n",
       "</div>\n",
       "<script type=\"application/javascript\">(function(root) {\n",
       "  function embed_document(root) {\n",
       "    var docs_json = {\"7b4586df-2be3-470d-94db-fd7ec33ccad6\":{\"defs\":[{\"extends\":null,\"module\":null,\"name\":\"DataModel\",\"overrides\":[],\"properties\":[]}],\"roots\":{\"references\":[{\"attributes\":{\"overlay\":{\"id\":\"1741\"}},\"id\":\"1739\",\"type\":\"BoxZoomTool\"},{\"attributes\":{\"axis\":{\"id\":\"1732\"},\"dimension\":1,\"grid_line_color\":null,\"ticker\":null},\"id\":\"1735\",\"type\":\"Grid\"},{\"attributes\":{},\"id\":\"1761\",\"type\":\"AllLabels\"},{\"attributes\":{\"axis\":{\"id\":\"1728\"},\"grid_line_color\":null,\"ticker\":null},\"id\":\"1731\",\"type\":\"Grid\"},{\"attributes\":{},\"id\":\"1726\",\"type\":\"LinearScale\"},{\"attributes\":{\"bottom_units\":\"screen\",\"fill_alpha\":0.5,\"fill_color\":\"lightgrey\",\"left_units\":\"screen\",\"level\":\"overlay\",\"line_alpha\":1.0,\"line_color\":\"black\",\"line_dash\":[4,4],\"line_width\":2,\"right_units\":\"screen\",\"syncable\":false,\"top_units\":\"screen\"},\"id\":\"1741\",\"type\":\"BoxAnnotation\"},{\"attributes\":{\"line_alpha\":0.1,\"line_color\":\"#30a2da\",\"line_width\":2,\"x\":{\"field\":\"k\"},\"y\":{\"field\":\"inertia\"}},\"id\":\"1753\",\"type\":\"Line\"},{\"attributes\":{\"data_source\":{\"id\":\"1749\"},\"glyph\":{\"id\":\"1752\"},\"hover_glyph\":null,\"muted_glyph\":{\"id\":\"1754\"},\"nonselection_glyph\":{\"id\":\"1753\"},\"selection_glyph\":{\"id\":\"1757\"},\"view\":{\"id\":\"1756\"}},\"id\":\"1755\",\"type\":\"GlyphRenderer\"},{\"attributes\":{\"axis_label\":\"inertia\",\"formatter\":{\"id\":\"1765\"},\"major_label_policy\":{\"id\":\"1766\"},\"ticker\":{\"id\":\"1733\"}},\"id\":\"1732\",\"type\":\"LinearAxis\"},{\"attributes\":{},\"id\":\"1765\",\"type\":\"BasicTickFormatter\"},{\"attributes\":{},\"id\":\"1760\",\"type\":\"BasicTickFormatter\"},{\"attributes\":{},\"id\":\"1733\",\"type\":\"BasicTicker\"},{\"attributes\":{\"children\":[{\"id\":\"1715\"},{\"id\":\"1719\"},{\"id\":\"1785\"}],\"margin\":[0,0,0,0],\"name\":\"Row02941\",\"tags\":[\"embedded\"]},\"id\":\"1714\",\"type\":\"Row\"},{\"attributes\":{\"margin\":[5,5,5,5],\"name\":\"HSpacer02945\",\"sizing_mode\":\"stretch_width\"},\"id\":\"1715\",\"type\":\"Spacer\"},{\"attributes\":{\"line_color\":\"#30a2da\",\"line_width\":2,\"x\":{\"field\":\"k\"},\"y\":{\"field\":\"inertia\"}},\"id\":\"1752\",\"type\":\"Line\"},{\"attributes\":{\"source\":{\"id\":\"1749\"}},\"id\":\"1756\",\"type\":\"CDSView\"},{\"attributes\":{},\"id\":\"1724\",\"type\":\"LinearScale\"},{\"attributes\":{\"margin\":[5,5,5,5],\"name\":\"HSpacer02946\",\"sizing_mode\":\"stretch_width\"},\"id\":\"1785\",\"type\":\"Spacer\"},{\"attributes\":{},\"id\":\"1774\",\"type\":\"UnionRenderers\"},{\"attributes\":{\"axis_label\":\"k\",\"formatter\":{\"id\":\"1760\"},\"major_label_policy\":{\"id\":\"1761\"},\"ticker\":{\"id\":\"1758\"}},\"id\":\"1728\",\"type\":\"LinearAxis\"},{\"attributes\":{\"text\":\"Elbow Curve\",\"text_color\":\"black\",\"text_font_size\":\"12pt\"},\"id\":\"1720\",\"type\":\"Title\"},{\"attributes\":{},\"id\":\"1736\",\"type\":\"SaveTool\"},{\"attributes\":{\"line_color\":\"#30a2da\",\"line_width\":2,\"x\":{\"field\":\"k\"},\"y\":{\"field\":\"inertia\"}},\"id\":\"1757\",\"type\":\"Line\"},{\"attributes\":{\"data\":{\"inertia\":{\"__ndarray__\":\"VZqxIuxtrEBrmULCxlajQB6u5He0TJdAALnu34c5g0B3gaT6Avh7QPlHj21hg3NAc12Rs5XRbkBODIigA19oQKbEODiCO2VAHMBWFJNFYkA=\",\"dtype\":\"float64\",\"order\":\"little\",\"shape\":[10]},\"k\":[1,2,3,4,5,6,7,8,9,10]},\"selected\":{\"id\":\"1750\"},\"selection_policy\":{\"id\":\"1774\"}},\"id\":\"1749\",\"type\":\"ColumnDataSource\"},{\"attributes\":{\"line_alpha\":0.2,\"line_color\":\"#30a2da\",\"line_width\":2,\"x\":{\"field\":\"k\"},\"y\":{\"field\":\"inertia\"}},\"id\":\"1754\",\"type\":\"Line\"},{\"attributes\":{\"end\":10.0,\"reset_end\":10.0,\"reset_start\":1.0,\"start\":1.0,\"tags\":[[[\"k\",\"k\",null]]]},\"id\":\"1716\",\"type\":\"Range1d\"},{\"attributes\":{\"active_multi\":null,\"tools\":[{\"id\":\"1718\"},{\"id\":\"1736\"},{\"id\":\"1737\"},{\"id\":\"1738\"},{\"id\":\"1739\"},{\"id\":\"1740\"}]},\"id\":\"1742\",\"type\":\"Toolbar\"},{\"attributes\":{\"callback\":null,\"renderers\":[{\"id\":\"1755\"}],\"tags\":[\"hv_created\"],\"tooltips\":[[\"k\",\"@{k}\"],[\"inertia\",\"@{inertia}\"]]},\"id\":\"1718\",\"type\":\"HoverTool\"},{\"attributes\":{\"end\":3988.2399020082044,\"reset_end\":3988.2399020082044,\"reset_start\":-203.1044957815467,\"start\":-203.1044957815467,\"tags\":[[[\"inertia\",\"inertia\",null]]]},\"id\":\"1717\",\"type\":\"Range1d\"},{\"attributes\":{\"ticks\":[1,2,3,4,5,6,7,8,9,10]},\"id\":\"1758\",\"type\":\"FixedTicker\"},{\"attributes\":{},\"id\":\"1737\",\"type\":\"PanTool\"},{\"attributes\":{\"below\":[{\"id\":\"1728\"}],\"center\":[{\"id\":\"1731\"},{\"id\":\"1735\"}],\"height\":300,\"left\":[{\"id\":\"1732\"}],\"margin\":[5,5,5,5],\"min_border_bottom\":10,\"min_border_left\":10,\"min_border_right\":10,\"min_border_top\":10,\"renderers\":[{\"id\":\"1755\"}],\"sizing_mode\":\"fixed\",\"title\":{\"id\":\"1720\"},\"toolbar\":{\"id\":\"1742\"},\"width\":700,\"x_range\":{\"id\":\"1716\"},\"x_scale\":{\"id\":\"1724\"},\"y_range\":{\"id\":\"1717\"},\"y_scale\":{\"id\":\"1726\"}},\"id\":\"1719\",\"subtype\":\"Figure\",\"type\":\"Plot\"},{\"attributes\":{},\"id\":\"1766\",\"type\":\"AllLabels\"},{\"attributes\":{},\"id\":\"1750\",\"type\":\"Selection\"},{\"attributes\":{},\"id\":\"1740\",\"type\":\"ResetTool\"},{\"attributes\":{},\"id\":\"1738\",\"type\":\"WheelZoomTool\"}],\"root_ids\":[\"1714\"]},\"title\":\"Bokeh Application\",\"version\":\"2.3.0\"}};\n",
       "    var render_items = [{\"docid\":\"7b4586df-2be3-470d-94db-fd7ec33ccad6\",\"root_ids\":[\"1714\"],\"roots\":{\"1714\":\"11c4ffab-31d4-4963-9395-559ba2e4bb20\"}}];\n",
       "    root.Bokeh.embed.embed_items_notebook(docs_json, render_items);\n",
       "  }\n",
       "  if (root.Bokeh !== undefined && root.Bokeh.Panel !== undefined) {\n",
       "    embed_document(root);\n",
       "  } else {\n",
       "    var attempts = 0;\n",
       "    var timer = setInterval(function(root) {\n",
       "      if (root.Bokeh !== undefined && root.Bokeh.Panel !== undefined) {\n",
       "        clearInterval(timer);\n",
       "        embed_document(root);\n",
       "      } else if (document.readyState == \"complete\") {\n",
       "        attempts++;\n",
       "        if (attempts > 100) {\n",
       "          clearInterval(timer);\n",
       "          console.log(\"Bokeh: ERROR: Unable to run BokehJS code because BokehJS library is missing\");\n",
       "        }\n",
       "      }\n",
       "    }, 10, root)\n",
       "  }\n",
       "})(window);</script>"
      ],
      "text/plain": [
       ":Curve   [k]   (inertia)"
      ]
     },
     "execution_count": 50,
     "metadata": {
      "application/vnd.holoviews_exec.v0+json": {
       "id": "1714"
      }
     },
     "output_type": "execute_result"
    }
   ],
   "source": [
    "inertia = []\n",
    "k = list(range(1, 11))\n",
    "\n",
    "# Calculate the inertia for the range of k values\n",
    "for i in k:\n",
    "    km = KMeans(n_clusters=i, random_state=0)\n",
    "    km.fit(pcs_df)\n",
    "    inertia.append(km.inertia_)\n",
    "\n",
    "# Create the Elbow Curve using hvPlot\n",
    "elbow_data = {\"k\": k, \"inertia\": inertia}\n",
    "df_elbow = pd.DataFrame(elbow_data)\n",
    "df_elbow.hvplot.line(x=\"k\", y=\"inertia\", xticks=k, title=\"Elbow Curve\")\n"
   ]
  },
  {
   "cell_type": "markdown",
   "metadata": {},
   "source": [
    "Running K-Means with `k=<your best value for k here>`"
   ]
  },
  {
   "cell_type": "code",
   "execution_count": 51,
   "metadata": {},
   "outputs": [
    {
     "data": {
      "text/html": [
       "<div>\n",
       "<style scoped>\n",
       "    .dataframe tbody tr th:only-of-type {\n",
       "        vertical-align: middle;\n",
       "    }\n",
       "\n",
       "    .dataframe tbody tr th {\n",
       "        vertical-align: top;\n",
       "    }\n",
       "\n",
       "    .dataframe thead th {\n",
       "        text-align: right;\n",
       "    }\n",
       "</style>\n",
       "<table border=\"1\" class=\"dataframe\">\n",
       "  <thead>\n",
       "    <tr style=\"text-align: right;\">\n",
       "      <th></th>\n",
       "      <th>CoinName</th>\n",
       "      <th>Algorithm</th>\n",
       "      <th>ProofType</th>\n",
       "      <th>TotalCoinsMined</th>\n",
       "      <th>TotalCoinSupply</th>\n",
       "      <th>PC 1</th>\n",
       "      <th>PC 2</th>\n",
       "      <th>PC 3</th>\n",
       "      <th>class</th>\n",
       "    </tr>\n",
       "  </thead>\n",
       "  <tbody>\n",
       "    <tr>\n",
       "      <th>42</th>\n",
       "      <td>42 Coin</td>\n",
       "      <td>Scrypt</td>\n",
       "      <td>PoW/PoS</td>\n",
       "      <td>4.199995e+01</td>\n",
       "      <td>42</td>\n",
       "      <td>-0.335426</td>\n",
       "      <td>1.088878</td>\n",
       "      <td>-0.519583</td>\n",
       "      <td>0</td>\n",
       "    </tr>\n",
       "    <tr>\n",
       "      <th>404</th>\n",
       "      <td>404Coin</td>\n",
       "      <td>Scrypt</td>\n",
       "      <td>PoW/PoS</td>\n",
       "      <td>1.055185e+09</td>\n",
       "      <td>532000000</td>\n",
       "      <td>-0.318779</td>\n",
       "      <td>1.088816</td>\n",
       "      <td>-0.520010</td>\n",
       "      <td>0</td>\n",
       "    </tr>\n",
       "    <tr>\n",
       "      <th>1337</th>\n",
       "      <td>EliteCoin</td>\n",
       "      <td>X13</td>\n",
       "      <td>PoW/PoS</td>\n",
       "      <td>2.927942e+10</td>\n",
       "      <td>314159265359</td>\n",
       "      <td>2.290693</td>\n",
       "      <td>1.561966</td>\n",
       "      <td>-0.591831</td>\n",
       "      <td>0</td>\n",
       "    </tr>\n",
       "    <tr>\n",
       "      <th>BTC</th>\n",
       "      <td>Bitcoin</td>\n",
       "      <td>SHA-256</td>\n",
       "      <td>PoW</td>\n",
       "      <td>1.792718e+07</td>\n",
       "      <td>21000000</td>\n",
       "      <td>-0.150023</td>\n",
       "      <td>-1.356125</td>\n",
       "      <td>0.128056</td>\n",
       "      <td>2</td>\n",
       "    </tr>\n",
       "    <tr>\n",
       "      <th>ETH</th>\n",
       "      <td>Ethereum</td>\n",
       "      <td>Ethash</td>\n",
       "      <td>PoW</td>\n",
       "      <td>1.076842e+08</td>\n",
       "      <td>0</td>\n",
       "      <td>-0.153715</td>\n",
       "      <td>-2.084078</td>\n",
       "      <td>0.329279</td>\n",
       "      <td>2</td>\n",
       "    </tr>\n",
       "    <tr>\n",
       "      <th>LTC</th>\n",
       "      <td>Litecoin</td>\n",
       "      <td>Scrypt</td>\n",
       "      <td>PoW</td>\n",
       "      <td>6.303924e+07</td>\n",
       "      <td>84000000</td>\n",
       "      <td>-0.161045</td>\n",
       "      <td>-1.058812</td>\n",
       "      <td>-0.015469</td>\n",
       "      <td>2</td>\n",
       "    </tr>\n",
       "    <tr>\n",
       "      <th>DASH</th>\n",
       "      <td>Dash</td>\n",
       "      <td>X11</td>\n",
       "      <td>PoW/PoS</td>\n",
       "      <td>9.031294e+06</td>\n",
       "      <td>22000000</td>\n",
       "      <td>-0.398862</td>\n",
       "      <td>1.200159</td>\n",
       "      <td>-0.464632</td>\n",
       "      <td>0</td>\n",
       "    </tr>\n",
       "    <tr>\n",
       "      <th>XMR</th>\n",
       "      <td>Monero</td>\n",
       "      <td>CryptoNight-V7</td>\n",
       "      <td>PoW</td>\n",
       "      <td>1.720114e+07</td>\n",
       "      <td>0</td>\n",
       "      <td>-0.144953</td>\n",
       "      <td>-2.208675</td>\n",
       "      <td>0.333662</td>\n",
       "      <td>2</td>\n",
       "    </tr>\n",
       "    <tr>\n",
       "      <th>ETC</th>\n",
       "      <td>Ethereum Classic</td>\n",
       "      <td>Ethash</td>\n",
       "      <td>PoW</td>\n",
       "      <td>1.133597e+08</td>\n",
       "      <td>210000000</td>\n",
       "      <td>-0.152159</td>\n",
       "      <td>-2.084203</td>\n",
       "      <td>0.329259</td>\n",
       "      <td>2</td>\n",
       "    </tr>\n",
       "    <tr>\n",
       "      <th>ZEC</th>\n",
       "      <td>ZCash</td>\n",
       "      <td>Equihash</td>\n",
       "      <td>PoW</td>\n",
       "      <td>7.383056e+06</td>\n",
       "      <td>21000000</td>\n",
       "      <td>-0.142119</td>\n",
       "      <td>-1.987224</td>\n",
       "      <td>0.388839</td>\n",
       "      <td>2</td>\n",
       "    </tr>\n",
       "  </tbody>\n",
       "</table>\n",
       "</div>"
      ],
      "text/plain": [
       "              CoinName       Algorithm ProofType  TotalCoinsMined  \\\n",
       "42             42 Coin          Scrypt   PoW/PoS     4.199995e+01   \n",
       "404            404Coin          Scrypt   PoW/PoS     1.055185e+09   \n",
       "1337         EliteCoin             X13   PoW/PoS     2.927942e+10   \n",
       "BTC            Bitcoin         SHA-256       PoW     1.792718e+07   \n",
       "ETH           Ethereum          Ethash       PoW     1.076842e+08   \n",
       "LTC           Litecoin          Scrypt       PoW     6.303924e+07   \n",
       "DASH              Dash             X11   PoW/PoS     9.031294e+06   \n",
       "XMR             Monero  CryptoNight-V7       PoW     1.720114e+07   \n",
       "ETC   Ethereum Classic          Ethash       PoW     1.133597e+08   \n",
       "ZEC              ZCash        Equihash       PoW     7.383056e+06   \n",
       "\n",
       "     TotalCoinSupply      PC 1      PC 2      PC 3  class  \n",
       "42                42 -0.335426  1.088878 -0.519583      0  \n",
       "404        532000000 -0.318779  1.088816 -0.520010      0  \n",
       "1337    314159265359  2.290693  1.561966 -0.591831      0  \n",
       "BTC         21000000 -0.150023 -1.356125  0.128056      2  \n",
       "ETH                0 -0.153715 -2.084078  0.329279      2  \n",
       "LTC         84000000 -0.161045 -1.058812 -0.015469      2  \n",
       "DASH        22000000 -0.398862  1.200159 -0.464632      0  \n",
       "XMR                0 -0.144953 -2.208675  0.333662      2  \n",
       "ETC        210000000 -0.152159 -2.084203  0.329259      2  \n",
       "ZEC         21000000 -0.142119 -1.987224  0.388839      2  "
      ]
     },
     "execution_count": 51,
     "metadata": {},
     "output_type": "execute_result"
    }
   ],
   "source": [
    "# Initialize the K-Means model\n",
    "model = KMeans(n_clusters=4, random_state=0)\n",
    "\n",
    "# Fit the model\n",
    "model.fit(pcs_df)\n",
    "# Predict clusters\n",
    "predictions = model.predict(pcs_df)\n",
    "\n",
    "# Create a new DataFrame including predicted clusters and cryptocurrencies features\n",
    "pcs_df[\"class\"] = model.labels_\n",
    "clustered_df = pd.concat([coin_df, crypto_df, pcs_df], axis=1)\n",
    "clustered_df.head(10)"
   ]
  },
  {
   "cell_type": "markdown",
   "metadata": {},
   "source": [
    "### Visualizing Results\n",
    "\n",
    "#### 3D-Scatter with Clusters"
   ]
  },
  {
   "cell_type": "code",
   "execution_count": 52,
   "metadata": {},
   "outputs": [
    {
     "data": {
      "application/vnd.plotly.v1+json": {
       "config": {
        "plotlyServerURL": "https://plot.ly"
       },
       "data": [
        {
         "customdata": [
          [
           "Scrypt"
          ],
          [
           "Scrypt"
          ],
          [
           "X13"
          ],
          [
           "X11"
          ],
          [
           "SHA-512"
          ],
          [
           "SHA-256"
          ],
          [
           "SHA-256"
          ],
          [
           "X15"
          ],
          [
           "Scrypt"
          ],
          [
           "Scrypt"
          ],
          [
           "Scrypt"
          ],
          [
           "Scrypt"
          ],
          [
           "Scrypt"
          ],
          [
           "Scrypt"
          ],
          [
           "Groestl"
          ],
          [
           "PoS"
          ],
          [
           "Scrypt"
          ],
          [
           "Scrypt"
          ],
          [
           "X11"
          ],
          [
           "X11"
          ],
          [
           "SHA3"
          ],
          [
           "Scrypt"
          ],
          [
           "SHA-256"
          ],
          [
           "Scrypt"
          ],
          [
           "X13"
          ],
          [
           "X13"
          ],
          [
           "NeoScrypt"
          ],
          [
           "Scrypt"
          ],
          [
           "Scrypt"
          ],
          [
           "Scrypt"
          ],
          [
           "X11"
          ],
          [
           "X11"
          ],
          [
           "Multiple"
          ],
          [
           "PHI1612"
          ],
          [
           "X11"
          ],
          [
           "Scrypt"
          ],
          [
           "Scrypt"
          ],
          [
           "Scrypt"
          ],
          [
           "X11"
          ],
          [
           "Multiple"
          ],
          [
           "X13"
          ],
          [
           "Scrypt"
          ],
          [
           "Shabal256"
          ],
          [
           "Counterparty"
          ],
          [
           "SHA-256"
          ],
          [
           "Groestl"
          ],
          [
           "Scrypt"
          ],
          [
           "X13"
          ],
          [
           "Scrypt"
          ],
          [
           "Scrypt"
          ],
          [
           "X13"
          ],
          [
           "X11"
          ],
          [
           "Scrypt"
          ],
          [
           "X11"
          ],
          [
           "SHA3"
          ],
          [
           "QUAIT"
          ],
          [
           "X11"
          ],
          [
           "Scrypt"
          ],
          [
           "X13"
          ],
          [
           "SHA-256"
          ],
          [
           "X15"
          ],
          [
           "BLAKE256"
          ],
          [
           "SHA-256"
          ],
          [
           "X11"
          ],
          [
           "SHA-256"
          ],
          [
           "NIST5"
          ],
          [
           "Scrypt"
          ],
          [
           "Scrypt"
          ],
          [
           "X11"
          ],
          [
           "Scrypt"
          ],
          [
           "SHA-256"
          ],
          [
           "Scrypt"
          ],
          [
           "PoS"
          ],
          [
           "X11"
          ],
          [
           "SHA-256"
          ],
          [
           "SHA-256"
          ],
          [
           "NIST5"
          ],
          [
           "X11"
          ],
          [
           "POS 3.0"
          ],
          [
           "Scrypt"
          ],
          [
           "Scrypt"
          ],
          [
           "Scrypt"
          ],
          [
           "X13"
          ],
          [
           "X11"
          ],
          [
           "X11"
          ],
          [
           "Scrypt"
          ],
          [
           "SHA-256"
          ],
          [
           "X11"
          ],
          [
           "Scrypt"
          ],
          [
           "Scrypt"
          ],
          [
           "Scrypt"
          ],
          [
           "Scrypt"
          ],
          [
           "SHA-256D"
          ],
          [
           "PoS"
          ],
          [
           "Scrypt"
          ],
          [
           "X11"
          ],
          [
           "PoS"
          ],
          [
           "X13"
          ],
          [
           "X14"
          ],
          [
           "PoS"
          ],
          [
           "SHA-256D"
          ],
          [
           "DPoS"
          ],
          [
           "X11"
          ],
          [
           "X13"
          ],
          [
           "X11"
          ],
          [
           "PoS"
          ],
          [
           "Scrypt"
          ],
          [
           "Scrypt"
          ],
          [
           "PoS"
          ],
          [
           "X11"
          ],
          [
           "SHA-256"
          ],
          [
           "Scrypt"
          ],
          [
           "X11"
          ],
          [
           "Scrypt"
          ],
          [
           "Scrypt"
          ],
          [
           "X11"
          ],
          [
           "Scrypt"
          ],
          [
           "Scrypt"
          ],
          [
           "Scrypt"
          ],
          [
           "Scrypt"
          ],
          [
           "Quark"
          ],
          [
           "QuBit"
          ],
          [
           "Scrypt"
          ],
          [
           "SHA-256"
          ],
          [
           "X11"
          ],
          [
           "Scrypt"
          ],
          [
           "Scrypt"
          ],
          [
           "Scrypt"
          ],
          [
           "Scrypt"
          ],
          [
           "X13"
          ],
          [
           "Scrypt"
          ],
          [
           "Scrypt"
          ],
          [
           "X11"
          ],
          [
           "Blake2S"
          ],
          [
           "X11"
          ],
          [
           "PoS"
          ],
          [
           "X11"
          ],
          [
           "PoS"
          ],
          [
           "X11"
          ],
          [
           "Scrypt"
          ],
          [
           "Scrypt"
          ],
          [
           "Scrypt"
          ],
          [
           "SHA-256"
          ],
          [
           "X11"
          ],
          [
           "Scrypt"
          ],
          [
           "PoS"
          ],
          [
           "Scrypt"
          ],
          [
           "X15"
          ],
          [
           "SHA-256"
          ],
          [
           "POS 3.0"
          ],
          [
           "536"
          ],
          [
           "NIST5"
          ],
          [
           "NIST5"
          ],
          [
           "Skein"
          ],
          [
           "X13"
          ],
          [
           "Scrypt"
          ],
          [
           "X13"
          ],
          [
           "SkunkHash v2 Raptor"
          ],
          [
           "Skein"
          ],
          [
           "X11"
          ],
          [
           "Scrypt"
          ],
          [
           "PoS"
          ],
          [
           "Scrypt"
          ],
          [
           "Scrypt"
          ],
          [
           "SHA-512"
          ],
          [
           "Ouroboros"
          ],
          [
           "X11"
          ],
          [
           "NeoScrypt"
          ],
          [
           "Scrypt"
          ],
          [
           "Lyra2REv2"
          ],
          [
           "Scrypt"
          ],
          [
           "SHA-256"
          ],
          [
           "NIST5"
          ],
          [
           "PHI1612"
          ],
          [
           "Scrypt"
          ],
          [
           "Quark"
          ],
          [
           "POS 2.0"
          ],
          [
           "Scrypt"
          ],
          [
           "SHA-256"
          ],
          [
           "X11"
          ],
          [
           "DPoS"
          ],
          [
           "NIST5"
          ],
          [
           "X13"
          ],
          [
           "Scrypt"
          ],
          [
           "NIST5"
          ],
          [
           "Quark"
          ],
          [
           "Scrypt"
          ],
          [
           "Scrypt"
          ],
          [
           "X11"
          ],
          [
           "Quark"
          ],
          [
           "Scrypt"
          ],
          [
           "Scrypt"
          ],
          [
           "X11"
          ],
          [
           "POS 3.0"
          ],
          [
           "Scrypt"
          ],
          [
           "Scrypt"
          ],
          [
           "X13"
          ],
          [
           "SHA-256 + Hive"
          ],
          [
           "C11"
          ],
          [
           "X11"
          ],
          [
           "XEVAN"
          ],
          [
           "Scrypt"
          ],
          [
           "VBFT"
          ],
          [
           "NIST5"
          ],
          [
           "Scrypt"
          ],
          [
           "Scrypt"
          ],
          [
           "Scrypt"
          ],
          [
           "Green Protocol"
          ],
          [
           "PoS"
          ],
          [
           "Scrypt"
          ],
          [
           "Semux BFT consensus"
          ],
          [
           "Quark"
          ],
          [
           "PoS"
          ],
          [
           "X16R"
          ],
          [
           "Scrypt"
          ],
          [
           "XEVAN"
          ],
          [
           "Scrypt"
          ],
          [
           "Scrypt"
          ],
          [
           "Scrypt"
          ],
          [
           "SHA-256D"
          ],
          [
           "Scrypt"
          ],
          [
           "X15"
          ],
          [
           "Scrypt"
          ],
          [
           "Quark"
          ],
          [
           "SHA-256"
          ],
          [
           "DPoS"
          ],
          [
           "X16R"
          ],
          [
           "Quark"
          ],
          [
           "Quark"
          ],
          [
           "Scrypt"
          ],
          [
           "Lyra2REv2"
          ],
          [
           "Quark"
          ],
          [
           "Scrypt"
          ],
          [
           "X11"
          ],
          [
           "X11"
          ],
          [
           "Scrypt"
          ],
          [
           "PoS"
          ],
          [
           "Keccak"
          ],
          [
           "X11"
          ],
          [
           "Scrypt"
          ],
          [
           "SHA-512"
          ],
          [
           "XEVAN"
          ],
          [
           "XEVAN"
          ],
          [
           "X11"
          ],
          [
           "Quark"
          ],
          [
           "Equihash"
          ],
          [
           "Scrypt"
          ],
          [
           "Quark"
          ],
          [
           "Quark"
          ],
          [
           "Scrypt"
          ],
          [
           "X11"
          ],
          [
           "Scrypt"
          ],
          [
           "XEVAN"
          ],
          [
           "SHA-256D"
          ],
          [
           "X11"
          ],
          [
           "X11"
          ],
          [
           "DPoS"
          ],
          [
           "Scrypt"
          ],
          [
           "X11"
          ],
          [
           "Scrypt"
          ],
          [
           "Scrypt"
          ],
          [
           "SHA-256"
          ],
          [
           "Scrypt"
          ],
          [
           "X11"
          ],
          [
           "Scrypt"
          ],
          [
           "SHA-256"
          ],
          [
           "X11"
          ],
          [
           "Scrypt"
          ],
          [
           "Scrypt"
          ],
          [
           "X11"
          ],
          [
           "Scrypt"
          ],
          [
           "PoS"
          ],
          [
           "X11"
          ],
          [
           "SHA-256"
          ],
          [
           "DPoS"
          ],
          [
           "Scrypt"
          ],
          [
           "Scrypt"
          ],
          [
           "NeoScrypt"
          ],
          [
           "X13"
          ],
          [
           "DPoS"
          ],
          [
           "DPoS"
          ],
          [
           "SHA-256"
          ],
          [
           "PoS"
          ],
          [
           "PoS"
          ],
          [
           "SHA-256"
          ],
          [
           "Scrypt"
          ],
          [
           "Scrypt"
          ]
         ],
         "hovertemplate": "<b>%{hovertext}</b><br><br>class=%{marker.color}<br>PC 3=%{x}<br>PC 2=%{y}<br>PC 1=%{z}<br>Algorithm=%{customdata[0]}<extra></extra>",
         "hovertext": [
          "42 Coin",
          "404Coin",
          "EliteCoin",
          "Dash",
          "Bitshares",
          "BitcoinDark",
          "PayCoin",
          "KoboCoin",
          "Aurora Coin",
          "BlueCoin",
          "EnergyCoin",
          "BitBar",
          "CryptoBullion",
          "CasinoCoin",
          "Diamond",
          "Exclusive Coin",
          "FlutterCoin",
          "HoboNickels",
          "HyperStake",
          "IOCoin",
          "MaxCoin",
          "MintCoin",
          "MazaCoin",
          "Nautilus Coin",
          "NavCoin",
          "OpalCoin",
          "Orbitcoin",
          "PotCoin",
          "PhoenixCoin",
          "Reddcoin",
          "SuperCoin",
          "SyncCoin",
          "TeslaCoin",
          "TittieCoin",
          "TorCoin",
          "UnitaryStatus Dollar",
          "UltraCoin",
          "VeriCoin",
          "X11 Coin",
          "Crypti",
          "StealthCoin",
          "ZCC Coin",
          "BurstCoin",
          "StorjCoin",
          "Neutron",
          "FairCoin",
          "RubyCoin",
          "Kore",
          "Dnotes",
          "8BIT Coin",
          "Sativa Coin",
          "Ucoin",
          "Vtorrent",
          "IslaCoin",
          "Nexus",
          "Droidz",
          "Squall Coin",
          "Diggits",
          "Paycon",
          "Emercoin",
          "EverGreenCoin",
          "Decred",
          "EDRCoin",
          "Hitcoin",
          "DubaiCoin",
          "PWR Coin",
          "BillaryCoin",
          "GPU Coin",
          "EuropeCoin",
          "ZeitCoin",
          "SwingCoin",
          "SafeExchangeCoin",
          "Nebuchadnezzar",
          "Ratecoin",
          "Revenu",
          "Clockcoin",
          "VIP Tokens",
          "BitSend",
          "Let it Ride",
          "PutinCoin",
          "iBankCoin",
          "Frankywillcoin",
          "MudraCoin",
          "Lutetium Coin",
          "GoldBlocks",
          "CarterCoin",
          "BitTokens",
          "MustangCoin",
          "ZoneCoin",
          "RootCoin",
          "BitCurrency",
          "Swiscoin",
          "BuzzCoin",
          "Opair",
          "PesoBit",
          "Halloween Coin",
          "CoffeeCoin",
          "RoyalCoin",
          "GanjaCoin V2",
          "TeamUP",
          "LanaCoin",
          "ARK",
          "InsaneCoin",
          "EmberCoin",
          "XenixCoin",
          "FreeCoin",
          "PLNCoin",
          "AquariusCoin",
          "Creatio",
          "Eternity",
          "Eurocoin",
          "BitcoinFast",
          "Stakenet",
          "BitConnect Coin",
          "MoneyCoin",
          "Enigma",
          "Russiacoin",
          "PandaCoin",
          "GameUnits",
          "GAKHcoin",
          "Allsafe",
          "LiteCreed",
          "Klingon Empire Darsek",
          "Internet of People",
          "KushCoin",
          "Printerium",
          "Impeach",
          "Zilbercoin",
          "FirstCoin",
          "FindCoin",
          "OpenChat",
          "RenosCoin",
          "VirtacoinPlus",
          "TajCoin",
          "Impact",
          "Atmos",
          "HappyCoin",
          "MacronCoin",
          "Condensate",
          "Independent Money System",
          "ArgusCoin",
          "LomoCoin",
          "ProCurrency",
          "GoldReserve",
          "GrowthCoin",
          "Phreak",
          "Degas Coin",
          "HTML5 Coin",
          "Ultimate Secure Cash",
          "QTUM",
          "Espers",
          "Denarius",
          "Virta Unique Coin",
          "Bitcoin Planet",
          "BritCoin",
          "Linda",
          "DeepOnion",
          "Signatum",
          "Cream",
          "Monoeci",
          "Draftcoin",
          "Stakecoin",
          "CoinonatX",
          "Ethereum Dark",
          "Obsidian",
          "Cardano",
          "Regalcoin",
          "TrezarCoin",
          "TerraNovaCoin",
          "Rupee",
          "WomenCoin",
          "Theresa May Coin",
          "NamoCoin",
          "LUXCoin",
          "Xios",
          "Bitcloud 2.0",
          "KekCoin",
          "BlackholeCoin",
          "Infinity Economics",
          "Magnet",
          "Lamden Tau",
          "Electra",
          "Bitcoin Diamond",
          "Cash & Back Coin",
          "Bulwark",
          "Kalkulus",
          "GermanCoin",
          "LiteCoin Ultra",
          "PhantomX",
          "Digiwage",
          "Trollcoin",
          "Litecoin Plus",
          "Monkey Project",
          "TokenPay",
          "My Big Coin",
          "Unified Society USDEX",
          "Tokyo Coin",
          "LitecoinCash",
          "Stipend",
          "Pushi",
          "Ellerium",
          "Velox",
          "Ontology",
          "Bitspace",
          "Briacoin",
          "Ignition",
          "MedicCoin",
          "Bitcoin Green",
          "Deviant Coin",
          "Abjcoin",
          "Semux",
          "Carebit",
          "Zealium",
          "Proton",
          "iDealCash",
          "Bitcoin Incognito",
          "HollyWoodCoin",
          "Swisscoin",
          "Xt3ch",
          "TheVig",
          "EmaratCoin",
          "Dekado",
          "Lynx",
          "Poseidon Quark",
          "BitcoinWSpectrum",
          "Muse",
          "Trivechain",
          "Dystem",
          "Giant",
          "Peony Coin",
          "Absolute Coin",
          "Vitae",
          "TPCash",
          "ARENON",
          "EUNO",
          "MMOCoin",
          "Ketan",
          "XDNA",
          "PAXEX",
          "ThunderStake",
          "Kcash",
          "Bettex coin",
          "BitMoney",
          "Junson Ming Chan Coin",
          "HerbCoin",
          "PirateCash",
          "Oduwa",
          "Galilel",
          "Crypto Sports",
          "Credit",
          "Dash Platinum",
          "Nasdacoin",
          "Beetle Coin",
          "Titan Coin",
          "Award",
          "Insane Coin",
          "ALAX",
          "LiteDoge",
          "TruckCoin",
          "OrangeCoin",
          "BitstarCoin",
          "NeosCoin",
          "HyperCoin",
          "PinkCoin",
          "AudioCoin",
          "IncaKoin",
          "Piggy Coin",
          "Genstake",
          "XiaoMiCoin",
          "CapriCoin",
          " ClubCoin",
          "Radium",
          "Creditbit ",
          "OKCash",
          "Lisk",
          "HiCoin",
          "WhiteCoin",
          "FriendshipCoin",
          "Triangles Coin",
          "EOS",
          "Oxycoin",
          "TigerCash",
          "Particl",
          "Nxt",
          "ZEPHYR",
          "Gapcoin",
          "BitcoinPlus"
         ],
         "legendgroup": "0",
         "marker": {
          "color": [
           0,
           0,
           0,
           0,
           0,
           0,
           0,
           0,
           0,
           0,
           0,
           0,
           0,
           0,
           0,
           0,
           0,
           0,
           0,
           0,
           0,
           0,
           0,
           0,
           0,
           0,
           0,
           0,
           0,
           0,
           0,
           0,
           0,
           0,
           0,
           0,
           0,
           0,
           0,
           0,
           0,
           0,
           0,
           0,
           0,
           0,
           0,
           0,
           0,
           0,
           0,
           0,
           0,
           0,
           0,
           0,
           0,
           0,
           0,
           0,
           0,
           0,
           0,
           0,
           0,
           0,
           0,
           0,
           0,
           0,
           0,
           0,
           0,
           0,
           0,
           0,
           0,
           0,
           0,
           0,
           0,
           0,
           0,
           0,
           0,
           0,
           0,
           0,
           0,
           0,
           0,
           0,
           0,
           0,
           0,
           0,
           0,
           0,
           0,
           0,
           0,
           0,
           0,
           0,
           0,
           0,
           0,
           0,
           0,
           0,
           0,
           0,
           0,
           0,
           0,
           0,
           0,
           0,
           0,
           0,
           0,
           0,
           0,
           0,
           0,
           0,
           0,
           0,
           0,
           0,
           0,
           0,
           0,
           0,
           0,
           0,
           0,
           0,
           0,
           0,
           0,
           0,
           0,
           0,
           0,
           0,
           0,
           0,
           0,
           0,
           0,
           0,
           0,
           0,
           0,
           0,
           0,
           0,
           0,
           0,
           0,
           0,
           0,
           0,
           0,
           0,
           0,
           0,
           0,
           0,
           0,
           0,
           0,
           0,
           0,
           0,
           0,
           0,
           0,
           0,
           0,
           0,
           0,
           0,
           0,
           0,
           0,
           0,
           0,
           0,
           0,
           0,
           0,
           0,
           0,
           0,
           0,
           0,
           0,
           0,
           0,
           0,
           0,
           0,
           0,
           0,
           0,
           0,
           0,
           0,
           0,
           0,
           0,
           0,
           0,
           0,
           0,
           0,
           0,
           0,
           0,
           0,
           0,
           0,
           0,
           0,
           0,
           0,
           0,
           0,
           0,
           0,
           0,
           0,
           0,
           0,
           0,
           0,
           0,
           0,
           0,
           0,
           0,
           0,
           0,
           0,
           0,
           0,
           0,
           0,
           0,
           0,
           0,
           0,
           0,
           0,
           0,
           0,
           0,
           0,
           0,
           0,
           0,
           0,
           0,
           0,
           0,
           0,
           0,
           0,
           0,
           0,
           0,
           0,
           0,
           0,
           0,
           0,
           0,
           0,
           0,
           0,
           0,
           0,
           0,
           0,
           0
          ],
          "coloraxis": "coloraxis",
          "symbol": "circle"
         },
         "mode": "markers",
         "name": "0",
         "scene": "scene",
         "showlegend": true,
         "type": "scatter3d",
         "x": [
          -0.5195833323129145,
          -0.5200101924304936,
          -0.5918305064877095,
          -0.464631759786889,
          0.05478925880129757,
          -0.3760816641199081,
          -0.09451019005408437,
          -0.5774611521932917,
          -0.5195912909218291,
          -0.5198142377133971,
          -0.5196280518392093,
          -0.5195833885740594,
          -0.5195837915106695,
          0.2104978411547066,
          -0.38639293753573417,
          -0.05455281943703149,
          -0.286157096858405,
          -0.5196255644972793,
          -0.183662047135393,
          -0.46463489205320235,
          -0.6412910085713086,
          -0.24574669990309597,
          -0.3768632893280101,
          -0.2380159430879949,
          -0.5555749603132325,
          -0.5555564526965175,
          -0.2862681318987987,
          -0.5196985283731163,
          -0.519618206371399,
          -0.5302362575704002,
          -0.18307051963500454,
          -0.46462668292593057,
          0.061238983150739695,
          -0.2821502517668417,
          -0.46462801887330235,
          -0.5201132607531508,
          -0.5196097485593005,
          -0.3579442025241977,
          -0.46462965714178206,
          0.06123997143241215,
          -0.5555629709182579,
          -0.5197187240930533,
          1.1962211245898409,
          -0.0808123495829662,
          -0.3760991663574365,
          -0.3864107092553409,
          -0.23801862147446662,
          -0.5555526593621567,
          -0.23811301421992062,
          -0.5195838656900298,
          -0.5555543400991468,
          -0.1830547028031447,
          -0.5195891815893761,
          -0.4646272324784756,
          -0.5715912047247504,
          -0.65574134959308,
          -0.09877504932789835,
          -0.23805324314900342,
          -0.555563399157489,
          -0.3761766615917397,
          -0.5774303685942956,
          -0.38664669974618693,
          -0.37608252928490005,
          -0.47078946208196637,
          -0.3760821210249486,
          -0.5640245052453098,
          -0.5195900301142651,
          -0.2380414928005575,
          -0.46466180403977136,
          -0.2595234247468315,
          -0.376084255392455,
          0.22734228266085663,
          -0.05455965553881802,
          -0.46468169911153595,
          -0.3760980121569486,
          -0.3761283026347316,
          -0.5604030584443236,
          -0.4646468889582234,
          -0.11894923041232336,
          -0.5200420281365973,
          -0.5195885953232476,
          -0.5196278324863152,
          -0.2739944954427921,
          -0.18334445934131696,
          -0.46463641883738893,
          -0.5196063633718946,
          -0.3760813305207557,
          -0.46462716623553146,
          -0.5195859844435088,
          -0.5195840372266078,
          -0.23807037305851836,
          -0.34103003959591205,
          -0.6045429637821099,
          -0.054583697927528735,
          -0.5195955141344725,
          -0.4648452842754837,
          -0.05460806195507175,
          -0.2739774682782902,
          -0.5983654076256055,
          -0.05458179638630777,
          -0.5968021914233954,
          -0.215394279647405,
          -0.4646357963923841,
          -0.5891220822078738,
          -0.46462839715442644,
          -0.054573005596444076,
          -0.5195926878503365,
          -0.5195876502260044,
          -0.05455965553881802,
          -0.46463378482889994,
          -0.376085544561786,
          -0.5195933819888992,
          -0.23430663784539107,
          -0.5195896440855814,
          -0.5196404013638973,
          -0.46462738652788504,
          -0.5195981291175621,
          -0.25294970351723356,
          -0.5195856553155598,
          -0.5195848078267012,
          -0.2007742747646866,
          -0.23005535431705307,
          -0.5196328479840202,
          -0.37608203209560415,
          -0.46462950228115574,
          -0.5195892604467521,
          -0.519585234348116,
          -0.23801429376548908,
          -0.25107286000813017,
          -0.2739828193051182,
          -0.5200283342151103,
          -0.2380246529023121,
          -0.4646396269938988,
          -0.640063468579472,
          -0.46467586170328506,
          -0.054600142131676785,
          -0.46464266439898344,
          -0.05472927278881782,
          -0.46471170114278954,
          -0.5195870145048056,
          -0.5195860837395695,
          -0.5196651279106876,
          -0.10066239222095784,
          -0.46463618684764235,
          -0.23827921948822228,
          -0.05455734298949253,
          -0.5195996632745843,
          -0.5995435583866738,
          -0.09452489913883436,
          -0.1189769734646786,
          -0.7867041978039367,
          -0.5603677202857688,
          -0.5603980543817348,
          -0.7404090083158075,
          -0.555561122042676,
          -0.5269508477686301,
          -0.5555604517921595,
          -0.08605899334776818,
          -0.7404237355012839,
          -0.4646320258614416,
          -0.2380169455382371,
          -0.05455723646716071,
          -0.5195943707809871,
          -0.5195852013022949,
          0.05606282580758408,
          -0.17529986240946016,
          -0.46463152506225713,
          -0.28636566805260283,
          -0.5195850308826249,
          -0.062221857077361296,
          -0.5392332710553973,
          -0.3761210118048427,
          -0.5606670269698473,
          -0.5629555101607522,
          -0.5195858273574183,
          -0.4823713008541455,
          -0.13439872188125318,
          -0.519590485175911,
          -0.09850982820363485,
          -0.4646523157323625,
          -0.2154902541842839,
          -0.5731337163411975,
          -0.5556347780412839,
          -0.5196407989195935,
          -0.2787978748662449,
          -0.20077702232338474,
          -0.5254488086694512,
          -0.5195986338923535,
          -0.4646471788799769,
          -0.20078894257023422,
          -0.5198715553978598,
          -0.519584568850154,
          -0.183055408514151,
          -0.11894194340135088,
          -0.27617961808169994,
          -0.5196876070386974,
          -0.27412533472167155,
          3.5175870881636153,
          -0.4099516763126004,
          -0.464629510527021,
          -0.39945151017327224,
          -0.2380281549191929,
          -0.0661024456130423,
          -0.5603744793534075,
          -0.5195838844306268,
          -0.5195841699442335,
          -0.23814668268572375,
          -0.12984584659858914,
          -0.05456588721468567,
          -0.5195893711678815,
          -0.2097265529978775,
          -0.48241092033754507,
          -0.054561309228613804,
          -0.05570450916154626,
          -0.5205116088180467,
          -0.03360038488732106,
          -0.2380249305089162,
          -0.5241223518872361,
          -0.23801510661993686,
          -0.5958165921566052,
          -0.5195980368045249,
          -0.29586706629875964,
          -0.40196518296817185,
          -0.2008232646311508,
          -0.0945340015350842,
          -0.1470696140896073,
          -0.33729397995205174,
          -0.20077351607218064,
          -0.4823463893256312,
          -0.2393867646228846,
          -0.3437948960128489,
          -0.2008013931020907,
          -0.5196669098936613,
          -0.18306358415367976,
          -0.46464194497060946,
          -0.2380691226730198,
          -0.05457128379179868,
          -0.4253689345877902,
          -0.1830618914032926,
          -0.5214375574902422,
          0.3702071159531478,
          -0.11787841879867726,
          -0.0856671690249644,
          -0.1893059728159242,
          -0.4823610570370882,
          0.16626031318586362,
          -0.5195904161706946,
          -0.4823520087492031,
          -0.20077102274897846,
          -0.5368897467511878,
          -0.18305396093562143,
          -0.5195976542254731,
          -0.3995595596736043,
          -0.5965301489103151,
          -0.4646665637922069,
          -0.464637770732914,
          -0.21578976048925022,
          -0.5280065192947986,
          -0.46471483093517524,
          -0.5196009404365779,
          -0.5195952376136942,
          -0.09450812090562374,
          -0.519586832156715,
          -0.4648260550480471,
          -0.5207966649107658,
          -0.38261398767835947,
          -0.464887897465437,
          -0.5196063597829693,
          -0.5197629016179892,
          -0.46471683149237825,
          -0.519634045467994,
          -0.05455287862054325,
          -0.18984291747177456,
          -0.37611510610426185,
          -0.21540142110760643,
          -0.242459572189517,
          -0.5196993922685285,
          -0.2862719715737925,
          -0.555551006006237,
          -0.21571561219990731,
          -0.21575261881978577,
          -0.09494981284020247,
          -0.054554833547208595,
          0.20770682320051215,
          -0.1636780467866277,
          -0.5196091615378189,
          -0.23800887120332787
         ],
         "y": [
          1.0888779028306588,
          1.0888162508699513,
          1.5619664974020278,
          1.200159438435636,
          1.4954302722348825,
          0.7915255866927793,
          0.5903686042921209,
          1.883633395757257,
          1.0888722677696827,
          1.089033009431337,
          1.088907942400167,
          1.0888776132185853,
          1.0888775564520565,
          0.6832698578707332,
          0.9119675720005559,
          1.5770989037199579,
          0.3275967405018156,
          1.088827687894949,
          0.9994148643027015,
          1.200161542479516,
          2.0345929578907764,
          0.8929104407993739,
          0.7904807895113891,
          0.8877068474692819,
          1.7433440699538052,
          1.7433316377932742,
          0.4974944969579614,
          1.0886802408792287,
          1.0888371522130744,
          1.09603381487908,
          0.9990175162834093,
          1.2001704344978115,
          0.09453324064847983,
          1.5873724160422118,
          1.200164783911617,
          1.0881860904403138,
          1.0888301611010964,
          0.4608999125635033,
          1.200168831277085,
          0.09459806318607507,
          1.7433360162921538,
          1.088313985883733,
          1.256872043554698,
          1.5610447766608102,
          0.7915072197646805,
          0.911982378139604,
          0.8877192423267108,
          1.743321231320982,
          0.8874552169746466,
          1.0888782611446965,
          1.7433236700539603,
          0.9989937943298542,
          1.0888687347253836,
          1.2001708043047694,
          2.28242606532605,
          1.8872120155802476,
          0.49764692283478407,
          0.8876770124192608,
          1.743303560755132,
          0.7909489425717644,
          1.8838246982056626,
          0.8691349844520461,
          0.7915261678518896,
          1.1869235331288421,
          0.7915334245463539,
          1.462525778652857,
          1.0888548976992136,
          0.8875898463242968,
          1.199942559363946,
          0.8373331751727671,
          0.7915155397821052,
          0.6967431551036752,
          1.5770903984694469,
          1.2001582764928267,
          0.7914051206216328,
          0.7912275186983986,
          1.4600341987732477,
          1.2000929821000905,
          1.5679283944384075,
          1.0878762956115584,
          1.08885240588827,
          1.0888423086556493,
          1.5420438541368509,
          0.9987712847461481,
          1.20014423187801,
          1.0888344358018123,
          0.791526017467496,
          1.2001687952153122,
          1.0888659322358456,
          1.088878376371325,
          0.8877540055277536,
          0.5725276736732268,
          1.866676748457777,
          1.5770711858590882,
          1.0888860857789258,
          1.1993349807276859,
          1.5771098174010174,
          1.5421617519987278,
          1.9860801026782229,
          1.5769212544090165,
          1.8696588936474343,
          2.0726981486367726,
          1.2001569110413377,
          1.7653221147334495,
          1.2001690632500954,
          1.57707972021246,
          1.0888589488152631,
          1.0888532990518367,
          1.5770903984694469,
          1.2001359138901029,
          0.7915295030381738,
          1.0888630430368846,
          0.6830119995701998,
          1.0888638064870881,
          1.088490144283777,
          1.2001676334647986,
          1.0887935419337367,
          0.8764560817233454,
          1.0888709500618827,
          1.0888767226173701,
          1.4635454168563744,
          0.61556370466372,
          1.088583732133998,
          0.791526488737853,
          1.2001662034064446,
          1.0888687876964167,
          1.0888648171665156,
          0.8876803177466299,
          0.5364018393109206,
          1.5421574718943858,
          1.088521960946045,
          0.8877007492060692,
          1.2001136437007038,
          1.7593780022207228,
          1.200131435078885,
          1.577058466925602,
          1.200115684023247,
          1.5769554875107286,
          1.1999001126286855,
          1.0888664852506968,
          1.0888610219699402,
          1.088277983606763,
          0.5453946232689414,
          1.2001506246828608,
          0.8865845664191467,
          1.5770822964159819,
          1.088820112171551,
          1.8397583012609513,
          0.590255642720691,
          1.5679034818829016,
          1.8321313173550835,
          1.4600628501157453,
          1.4600111914642582,
          1.9050426449933444,
          1.7433151284236084,
          1.0610837005353264,
          1.743321948371865,
          1.533439740405747,
          1.905052537716801,
          1.2001677982047119,
          0.8877067180553139,
          1.5770615311826213,
          1.088853719254842,
          1.088876407889627,
          1.4968728129803421,
          1.4822563714883084,
          1.2001560064436592,
          0.4973005383695821,
          1.0888687406488953,
          0.6553226176541705,
          1.085705798248321,
          0.791500938405881,
          1.4594846158900732,
          1.7894878232945615,
          1.0888658267160738,
          1.6646046347432033,
          1.692941604306336,
          1.0888730233566595,
          0.5871696996558243,
          1.2000933531186575,
          2.0725170438224763,
          1.4489988088539427,
          1.7432467300067411,
          1.0887789835873605,
          1.2588891388717576,
          1.463543988159885,
          1.0600747326334672,
          1.0887899518232869,
          1.2001514597441822,
          1.4634865089743865,
          1.0884821339775796,
          1.088876114024009,
          0.99899361351462,
          1.567929065862952,
          0.5693132231305872,
          1.0887960190966455,
          1.541738824693658,
          0.8142846336425013,
          0.9208041222862059,
          1.2001559629436045,
          1.1877642679081892,
          0.8876444431140205,
          1.4107164072100535,
          1.460041195839297,
          1.0888763091414133,
          1.0888751912021102,
          0.887477833164411,
          1.4766016959170039,
          1.5770500537355312,
          1.0888623134315412,
          2.1404272656804357,
          1.664631248422607,
          1.5770522174671122,
          0.6435761359120535,
          1.0861472746306997,
          0.48526663673511883,
          0.8877064538442547,
          1.0852472954700865,
          0.8876880672708632,
          1.8738467576125704,
          1.0888327717629847,
          1.6826252676923874,
          0.4931355980281404,
          1.4631624862948691,
          0.5903271269216522,
          1.8031063710748232,
          0.8447268406060928,
          1.4635409780343642,
          1.6647155004613503,
          0.8775841640133121,
          0.8564682088123932,
          1.4635079696761175,
          1.088279180621956,
          0.9989768399788916,
          1.2001479439591696,
          0.8875829009685098,
          1.5769737853839692,
          0.9826401469925525,
          0.9989462340249327,
          1.078335893795313,
          1.5401635022736115,
          0.9866065265412794,
          0.34101164815037016,
          1.003206070440576,
          1.6646933637835746,
          -0.04078293294851357,
          1.0888689091693238,
          1.6647101824229091,
          1.4635442998012729,
          1.051519351438798,
          0.9989934924528076,
          1.0888325147723492,
          1.1875487080758522,
          1.871117243091812,
          1.1999221815391912,
          1.2001582372692783,
          2.0723907998356896,
          1.07161578872308,
          1.2002296470014147,
          1.0887587580040519,
          1.0888503696529375,
          0.5903616480348063,
          1.0888802538156386,
          1.199976927819395,
          1.082816865527038,
          0.7958035410678503,
          1.1996910373665957,
          1.088883548189616,
          1.0887365797348239,
          1.2000947791318188,
          1.0888071902760967,
          1.5770930496995914,
          0.6923676793809561,
          0.791493697037229,
          2.072680078982498,
          0.8841479455934766,
          1.0887594048632823,
          0.49746014307719366,
          1.7433279004928108,
          2.072995856029756,
          2.0730207145648185,
          0.590017234854751,
          1.5770946024751513,
          1.7577216206835347,
          0.8592952551570584,
          1.0887315371827142,
          0.8877120378924697
         ],
         "z": [
          -0.335425767656451,
          -0.31877948131384115,
          2.2906930979301663,
          -0.3988619263908597,
          -0.25900422391851463,
          -0.3232356840846616,
          -0.2751289108174861,
          -0.2497743144839646,
          -0.3350857076618785,
          -0.3276688507573507,
          -0.333923483107925,
          -0.335421710004015,
          -0.33540600613237487,
          0.7850281118311913,
          -0.38882851294919973,
          -0.3573162546554101,
          -0.2657106135845328,
          -0.3334867631817592,
          -0.33059408581400745,
          -0.39875670264980917,
          -0.4159352051127167,
          -0.02743751959518308,
          -0.28658474110510335,
          -0.2870704309506097,
          -0.2893427359719001,
          -0.2899644713142951,
          -0.35088790131482883,
          -0.3297349562973361,
          -0.33382933264742476,
          0.02244311579347627,
          -0.3504655559581264,
          -0.3991278558822094,
          -0.2500399503285477,
          -0.3270775705387932,
          -0.3990396245558723,
          -0.3106865793280774,
          -0.3341047887235021,
          -0.26695609136030507,
          -0.3990040998488233,
          -0.2505067154953881,
          -0.289745501530772,
          -0.3265418327046428,
          0.320655948248921,
          -0.3659013551971094,
          -0.3224482828757254,
          -0.3882504891171402,
          -0.2870506054873938,
          -0.29003987479384236,
          -0.2817117975125263,
          -0.33540784984256516,
          -0.2899920842879892,
          -0.35091018539187097,
          -0.3351425571899431,
          -0.3991093988327422,
          -0.4041229816330199,
          -0.4417307085978973,
          -0.3556013605161311,
          -0.2854539774456899,
          -0.2895143328119245,
          -0.31580411891139987,
          -0.25221190253306613,
          -0.08723581043282912,
          -0.32320662017758073,
          -0.07698703363592037,
          -0.3232701950663482,
          -0.2410438153377154,
          -0.33501866790679513,
          -0.2853238703413927,
          -0.3962831286998159,
          0.8646003662278783,
          -0.3230705924480659,
          0.05504922891569475,
          -0.35699989310509445,
          -0.39695450081215383,
          -0.32181622251786335,
          -0.31948810017449086,
          -0.36231062490585597,
          -0.39784641335284465,
          -0.35003510038335967,
          -0.3113452697900157,
          -0.33505675101397275,
          -0.33349728659463884,
          -0.24062967577345223,
          -0.338414442281254,
          -0.39858401435271434,
          -0.3342618654996018,
          -0.3232512264961589,
          -0.3990986172038412,
          -0.335245624807894,
          -0.335402087331129,
          -0.2853120894307104,
          -0.21233724606889723,
          0.01622095292387936,
          -0.35595810019892793,
          -0.3350165380002404,
          -0.3852807989642643,
          -0.3552870402662174,
          -0.24205796857848214,
          -0.43496709385298754,
          -0.3550377862701942,
          -0.29798822007338344,
          3.739578411474957,
          -0.39869163751786213,
          0.8413073017762519,
          -0.39905356661939406,
          -0.35642134854356283,
          -0.3349443866510626,
          -0.33509861664711504,
          -0.35699989310509445,
          -0.39862914334293975,
          -0.3231139978259088,
          -0.33494508763766717,
          -0.33921392075229917,
          -0.33509233510334047,
          -0.3306875840105623,
          -0.3990825455091583,
          -0.33430435751370374,
          0.3555098839123774,
          -0.3352913665899895,
          -0.33536182407664006,
          -0.350478199576642,
          -0.36255161507220435,
          -0.33159453718262394,
          -0.32322765815209026,
          -0.39899259254867675,
          -0.3351399080958749,
          -0.3352667765177415,
          -0.28695752737574565,
          -0.25917922146328787,
          -0.24182607388884822,
          -0.31614094974868434,
          -0.2866987277688068,
          -0.39825945852477673,
          -0.4338422557609097,
          -0.3969988518285104,
          -0.3552483410829521,
          -0.3981574215029753,
          -0.34965431028338334,
          -0.39410397532766384,
          -0.3352101017761606,
          -0.3352093381412445,
          -0.32834231524690716,
          0.2566648100875793,
          -0.39863516423090417,
          -0.2696249032225544,
          -0.3570342231617665,
          -0.33442191031611695,
          0.880741992806313,
          -0.27382148132406675,
          -0.3488147936213197,
          0.5766342120644625,
          -0.3638446090743141,
          -0.3623486592043863,
          -0.401832231078044,
          -0.2896775421022656,
          0.12885742198076974,
          -0.289748191763602,
          -0.3431216393269774,
          -0.4013374935953301,
          -0.39890715216254874,
          -0.2870314401141938,
          -0.3569007951219558,
          -0.3348457432797342,
          -0.3353447722277971,
          -0.3170023728901037,
          0.6481869787713975,
          -0.39884813334216596,
          -0.34589340605383595,
          -0.33530049268380896,
          -0.3205893853672768,
          0.43307548767761816,
          -0.32157567725919234,
          -0.34863042694350954,
          -0.4106772507551962,
          -0.3352509018771086,
          -0.3969656841498175,
          -0.33299353559342515,
          -0.3351213614043837,
          -0.10180044203011972,
          -0.39764243083074985,
          3.7444284006593826,
          0.19503593236299382,
          -0.28642276281169554,
          -0.33258477703872263,
          -0.3155651242343466,
          -0.3503642212379676,
          0.07839869420388558,
          -0.33426138644888564,
          -0.39822254702466625,
          -0.3495302132641737,
          -0.3218412619178942,
          -0.335366885629903,
          -0.35088214244642685,
          -0.35031674953034997,
          -0.2596644761251312,
          -0.33091694482193484,
          -0.23363293638739036,
          -0.5270545899197433,
          -0.3725506972884075,
          -0.3989244799080021,
          -0.32556068324654014,
          -0.28619272283270997,
          -0.3280096973906954,
          -0.36344412230118667,
          -0.33539421332036673,
          -0.33537595061650743,
          -0.2805807564154244,
          -0.3398231311226464,
          -0.35649572496385085,
          -0.3350928320531563,
          3.934441727457906,
          -0.39563472763303287,
          -0.35668420069707174,
          -0.3296999166072126,
          -0.28203471979897776,
          -0.2821861980537698,
          -0.28672593604519125,
          -0.1387206175455937,
          -0.2869779129496928,
          -0.3632077833315583,
          -0.3345675978351755,
          -0.2035132325229896,
          2.2259080453781337,
          -0.34607931932000724,
          -0.27394849368664176,
          1.0276783420858344,
          -0.37708051699482853,
          -0.35047767278138825,
          -0.3986473469385603,
          -0.167904079677604,
          -0.3685612117941822,
          -0.3491986695787133,
          -0.3282824522288145,
          -0.35046008200740775,
          -0.39839837227989267,
          -0.2842268243493749,
          -0.3557854854156204,
          -0.3640833629958315,
          -0.3503218429883146,
          -0.19509412091330475,
          -0.279153516497963,
          -0.27751040884383427,
          0.49564887839771116,
          -0.14099495376574117,
          -0.39794281506178086,
          -0.26642324005647994,
          -0.33509674764766395,
          -0.39839837037440373,
          -0.35059451323223834,
          0.5702638794089916,
          -0.35093640800332454,
          -0.3345804499987643,
          -0.32002323648793674,
          -0.31799222358088464,
          -0.39596714850539994,
          -0.39862531253910666,
          3.7566576878957143,
          0.09928630622748952,
          -0.39616666140154644,
          -0.3339671189196368,
          -0.33479059156924623,
          -0.2751615676710011,
          -0.3353081958888203,
          -0.39026242913970266,
          -0.24914133670192398,
          -0.10306378157789739,
          -0.3860171001187002,
          -0.33458716007016776,
          -0.3276591477369049,
          -0.39519763980323064,
          -0.33302843168367097,
          -0.3572752455942647,
          -0.3766806546178105,
          -0.3217523920553334,
          3.739969712090467,
          -0.0944687523678768,
          -0.33022621344955994,
          -0.350514390441026,
          -0.29014692434351214,
          3.749831135044132,
          3.7510743163697096,
          -0.2560789916498628,
          -0.35721115903707024,
          -0.3684430510798149,
          2.473250439484507,
          -0.3334741608086424,
          -0.2873738154201181
         ]
        },
        {
         "customdata": [
          [
           "SHA-256"
          ],
          [
           "Ethash"
          ],
          [
           "Scrypt"
          ],
          [
           "CryptoNight-V7"
          ],
          [
           "Ethash"
          ],
          [
           "Equihash"
          ],
          [
           "Multiple"
          ],
          [
           "Scrypt"
          ],
          [
           "X11"
          ],
          [
           "Scrypt"
          ],
          [
           "Multiple"
          ],
          [
           "Scrypt"
          ],
          [
           "SHA-256"
          ],
          [
           "Scrypt"
          ],
          [
           "Scrypt"
          ],
          [
           "Quark"
          ],
          [
           "Groestl"
          ],
          [
           "Scrypt"
          ],
          [
           "Scrypt"
          ],
          [
           "Scrypt"
          ],
          [
           "X11"
          ],
          [
           "Multiple"
          ],
          [
           "SHA-256"
          ],
          [
           "Scrypt"
          ],
          [
           "Scrypt"
          ],
          [
           "Scrypt"
          ],
          [
           "Scrypt"
          ],
          [
           "Scrypt"
          ],
          [
           "NeoScrypt"
          ],
          [
           "Scrypt"
          ],
          [
           "Scrypt"
          ],
          [
           "Scrypt"
          ],
          [
           "Scrypt"
          ],
          [
           "SHA-256"
          ],
          [
           "Scrypt"
          ],
          [
           "Scrypt"
          ],
          [
           "Scrypt"
          ],
          [
           "Scrypt"
          ],
          [
           "HybridScryptHash256"
          ],
          [
           "Scrypt"
          ],
          [
           "Scrypt"
          ],
          [
           "SHA-256"
          ],
          [
           "Scrypt"
          ],
          [
           "Scrypt"
          ],
          [
           "Scrypt"
          ],
          [
           "Scrypt"
          ],
          [
           "SHA-256"
          ],
          [
           "SHA-256"
          ],
          [
           "SHA-256"
          ],
          [
           "SHA-256"
          ],
          [
           "SHA-256"
          ],
          [
           "X11"
          ],
          [
           "Scrypt"
          ],
          [
           "Lyra2REv2"
          ],
          [
           "Scrypt"
          ],
          [
           "SHA-256"
          ],
          [
           "CryptoNight"
          ],
          [
           "CryptoNight"
          ],
          [
           "Scrypt"
          ],
          [
           "Scrypt"
          ],
          [
           "Scrypt"
          ],
          [
           "Scrypt"
          ],
          [
           "Scrypt"
          ],
          [
           "Scrypt"
          ],
          [
           "Stanford Folding"
          ],
          [
           "Multiple"
          ],
          [
           "QuBit"
          ],
          [
           "Scrypt"
          ],
          [
           "Scrypt"
          ],
          [
           "M7 POW"
          ],
          [
           "Scrypt"
          ],
          [
           "SHA-256"
          ],
          [
           "Scrypt"
          ],
          [
           "X11"
          ],
          [
           "Lyra2RE"
          ],
          [
           "SHA-256"
          ],
          [
           "X11"
          ],
          [
           "Scrypt"
          ],
          [
           "Scrypt"
          ],
          [
           "Ethash"
          ],
          [
           "Blake2b"
          ],
          [
           "X11"
          ],
          [
           "SHA-256"
          ],
          [
           "Scrypt"
          ],
          [
           "1GB AES Pattern Search"
          ],
          [
           "Scrypt"
          ],
          [
           "SHA-256"
          ],
          [
           "X11"
          ],
          [
           "Dagger"
          ],
          [
           "Scrypt"
          ],
          [
           "X11GOST"
          ],
          [
           "Scrypt"
          ],
          [
           "X11"
          ],
          [
           "Scrypt"
          ],
          [
           "X11"
          ],
          [
           "Equihash"
          ],
          [
           "CryptoNight"
          ],
          [
           "SHA-256"
          ],
          [
           "Multiple"
          ],
          [
           "Scrypt"
          ],
          [
           "SHA-256"
          ],
          [
           "Scrypt"
          ],
          [
           "Lyra2Z"
          ],
          [
           "Ethash"
          ],
          [
           "Equihash"
          ],
          [
           "Scrypt"
          ],
          [
           "X11"
          ],
          [
           "X11"
          ],
          [
           "CryptoNight"
          ],
          [
           "Scrypt"
          ],
          [
           "CryptoNight"
          ],
          [
           "Lyra2RE"
          ],
          [
           "X11"
          ],
          [
           "CryptoNight-V7"
          ],
          [
           "Scrypt"
          ],
          [
           "X11"
          ],
          [
           "Equihash"
          ],
          [
           "Scrypt"
          ],
          [
           "Lyra2RE"
          ],
          [
           "Dagger-Hashimoto"
          ],
          [
           "Scrypt"
          ],
          [
           "NIST5"
          ],
          [
           "Scrypt"
          ],
          [
           "SHA-256"
          ],
          [
           "Scrypt"
          ],
          [
           "CryptoNight-V7"
          ],
          [
           "Argon2d"
          ],
          [
           "Blake2b"
          ],
          [
           "Cloverhash"
          ],
          [
           "CryptoNight"
          ],
          [
           "X11"
          ],
          [
           "Scrypt"
          ],
          [
           "Scrypt"
          ],
          [
           "X11"
          ],
          [
           "X11"
          ],
          [
           "CryptoNight"
          ],
          [
           "Time Travel"
          ],
          [
           "Scrypt"
          ],
          [
           "Keccak"
          ],
          [
           "X11"
          ],
          [
           "SHA-256"
          ],
          [
           "Scrypt"
          ],
          [
           "Scrypt"
          ],
          [
           "Scrypt"
          ],
          [
           "Scrypt"
          ],
          [
           "Scrypt"
          ],
          [
           "Scrypt"
          ],
          [
           "CryptoNight"
          ],
          [
           "Equihash"
          ],
          [
           "X11"
          ],
          [
           "NeoScrypt"
          ],
          [
           "Equihash"
          ],
          [
           "Dagger"
          ],
          [
           "Scrypt"
          ],
          [
           "X11"
          ],
          [
           "NeoScrypt"
          ],
          [
           "Ethash"
          ],
          [
           "NeoScrypt"
          ],
          [
           "Multiple"
          ],
          [
           "CryptoNight"
          ],
          [
           "CryptoNight"
          ],
          [
           "Ethash"
          ],
          [
           "X11"
          ],
          [
           "CryptoNight-V7"
          ],
          [
           "Scrypt"
          ],
          [
           "BLAKE256"
          ],
          [
           "X11"
          ],
          [
           "NeoScrypt"
          ],
          [
           "NeoScrypt"
          ],
          [
           "Scrypt"
          ],
          [
           "X11"
          ],
          [
           "SHA-256"
          ],
          [
           "C11"
          ],
          [
           "Ethash"
          ],
          [
           "CryptoNight"
          ],
          [
           "SkunkHash"
          ],
          [
           "CryptoNight"
          ],
          [
           "Scrypt"
          ],
          [
           "Dagger"
          ],
          [
           "Lyra2REv2"
          ],
          [
           "Scrypt"
          ],
          [
           "Scrypt"
          ],
          [
           "X11"
          ],
          [
           "Ethash"
          ],
          [
           "CryptoNight"
          ],
          [
           "Scrypt"
          ],
          [
           "IMesh"
          ],
          [
           "Equihash"
          ],
          [
           "Lyra2Z"
          ],
          [
           "X11"
          ],
          [
           "CryptoNight"
          ],
          [
           "NIST5"
          ],
          [
           "Lyra2RE"
          ],
          [
           "Tribus"
          ],
          [
           "Lyra2Z"
          ],
          [
           "CryptoNight"
          ],
          [
           "CryptoNight Heavy"
          ],
          [
           "CryptoNight"
          ],
          [
           "Jump Consistent Hash"
          ],
          [
           "CryptoNight"
          ],
          [
           "X16R"
          ],
          [
           "HMQ1725"
          ],
          [
           "X11"
          ],
          [
           "Scrypt"
          ],
          [
           "CryptoNight-V7"
          ],
          [
           "Cryptonight-GPU"
          ],
          [
           "XEVAN"
          ],
          [
           "CryptoNight Heavy"
          ],
          [
           "SHA-256"
          ],
          [
           "X11"
          ],
          [
           "X16R"
          ],
          [
           "Equihash"
          ],
          [
           "Lyra2Z"
          ],
          [
           "SHA-256"
          ],
          [
           "CryptoNight"
          ],
          [
           "Blake"
          ],
          [
           "Blake"
          ],
          [
           "Exosis"
          ],
          [
           "Scrypt"
          ],
          [
           "Equihash"
          ],
          [
           "Equihash"
          ],
          [
           "QuBit"
          ],
          [
           "SHA-256"
          ],
          [
           "X13"
          ],
          [
           "SHA-256"
          ],
          [
           "Scrypt"
          ],
          [
           "NeoScrypt"
          ],
          [
           "Blake"
          ],
          [
           "Scrypt"
          ],
          [
           "SHA-256"
          ],
          [
           "Scrypt"
          ],
          [
           "Groestl"
          ],
          [
           "Scrypt"
          ],
          [
           "Scrypt"
          ],
          [
           "Multiple"
          ],
          [
           "Equihash+Scrypt"
          ],
          [
           "Ethash"
          ],
          [
           "CryptoNight"
          ],
          [
           "Equihash"
          ]
         ],
         "hovertemplate": "<b>%{hovertext}</b><br><br>class=%{marker.color}<br>PC 3=%{x}<br>PC 2=%{y}<br>PC 1=%{z}<br>Algorithm=%{customdata[0]}<extra></extra>",
         "hovertext": [
          "Bitcoin",
          "Ethereum",
          "Litecoin",
          "Monero",
          "Ethereum Classic",
          "ZCash",
          "DigiByte",
          "ProsperCoin",
          "Spreadcoin",
          "Argentum",
          "MyriadCoin",
          "MoonCoin",
          "ZetaCoin",
          "SexCoin",
          "Quatloo",
          "QuarkCoin",
          "Riecoin",
          "Digitalcoin ",
          "Catcoin",
          "CannaCoin",
          "CryptCoin",
          "Verge",
          "DevCoin",
          "EarthCoin",
          "E-Gulden",
          "Einsteinium",
          "Emerald",
          "Franko",
          "FeatherCoin",
          "GrandCoin",
          "GlobalCoin",
          "GoldCoin",
          "Infinite Coin",
          "IXcoin",
          "KrugerCoin",
          "LuckyCoin",
          "Litebar ",
          "MegaCoin",
          "MediterraneanCoin",
          "MinCoin",
          "NobleCoin",
          "Namecoin",
          "NyanCoin",
          "RonPaulCoin",
          "StableCoin",
          "SmartCoin",
          "SysCoin",
          "TigerCoin",
          "TerraCoin",
          "UnbreakableCoin",
          "Unobtanium",
          "UroCoin",
          "ViaCoin",
          "Vertcoin",
          "WorldCoin",
          "JouleCoin",
          "ByteCoin",
          "DigitalNote ",
          "MonaCoin",
          "Gulden",
          "PesetaCoin",
          "Wild Beast Coin",
          "Flo",
          "ArtByte",
          "Folding Coin",
          "Unitus",
          "CypherPunkCoin",
          "OmniCron",
          "GreenCoin",
          "Cryptonite",
          "MasterCoin",
          "SoonCoin",
          "1Credit",
          "MarsCoin ",
          "Crypto",
          "Anarchists Prime",
          "BowsCoin",
          "Song Coin",
          "BitZeny",
          "Expanse",
          "Siacoin",
          "MindCoin",
          "I0coin",
          "Revolution VR",
          "HOdlcoin",
          "Gamecredits",
          "CarpeDiemCoin",
          "Adzcoin",
          "SoilCoin",
          "YoCoin",
          "SibCoin",
          "Francs",
          "BolivarCoin",
          "Omni",
          "PizzaCoin",
          "Komodo",
          "Karbo",
          "ZayedCoin",
          "Circuits of Value",
          "DopeCoin",
          "DollarCoin",
          "Shilling",
          "ZCoin",
          "Elementrem",
          "ZClassic",
          "KiloCoin",
          "ArtexCoin",
          "Kurrent",
          "Cannabis Industry Coin",
          "OsmiumCoin",
          "Bikercoins",
          "HexxCoin",
          "PacCoin",
          "Citadel",
          "BeaverCoin",
          "VaultCoin",
          "Zero",
          "Canada eCoin",
          "Zoin",
          "DubaiCoin",
          "EB3coin",
          "Coinonat",
          "BenjiRolls",
          "ILCoin",
          "EquiTrader",
          "Quantum Resistant Ledger",
          "Dynamic",
          "Nano",
          "ChanCoin",
          "Dinastycoin",
          "DigitalPrice",
          "Unify",
          "SocialCoin",
          "ArcticCoin",
          "DAS",
          "LeviarCoin",
          "Bitcore",
          "gCn Coin",
          "SmartCash",
          "Onix",
          "Bitcoin Cash",
          "Sojourn Coin",
          "NewYorkCoin",
          "FrazCoin",
          "Kronecoin",
          "AdCoin",
          "Linx",
          "Sumokoin",
          "BitcoinZ",
          "Elements",
          "VIVO Coin",
          "Bitcoin Gold",
          "Pirl",
          "eBoost",
          "Pura",
          "Innova",
          "Ellaism",
          "GoByte",
          "SHIELD",
          "UltraNote",
          "BitCoal",
          "DaxxCoin",
          "AC3",
          "Lethean",
          "PopularCoin",
          "Photon",
          "Sucre",
          "SparksPay",
          "GunCoin",
          "IrishCoin",
          "Pioneer Coin",
          "UnitedBitcoin",
          "Interzone",
          "1717 Masonic Commemorative Token",
          "TurtleCoin",
          "MUNcoin",
          "Niobio Cash",
          "ShareChain",
          "Travelflex",
          "KREDS",
          "BitFlip",
          "LottoCoin",
          "Crypto Improvement Fund",
          "Callisto Network",
          "BitTube",
          "Poseidon",
          "Aidos Kuneen",
          "Bitrolium",
          "Alpenschillling",
          "FuturoCoin",
          "Monero Classic",
          "Jumpcoin",
          "Infinex",
          "KEYCO",
          "GINcoin",
          "PlatinCoin",
          "Loki",
          "Newton Coin",
          "MassGrid",
          "PluraCoin",
          "Motion",
          "PlusOneCoin",
          "Axe",
          "HexCoin",
          "Webchain",
          "Ryo",
          "Urals Coin",
          "Qwertycoin",
          "Project Pai",
          "Azart",
          "Xchange",
          "CrypticCoin",
          "Actinium",
          "Bitcoin SV",
          "FREDEnergy",
          "Universal Molecule",
          "Lithium",
          "Exosis",
          "Block-Logic",
          "Beam",
          "Bithereum",
          "SLICE",
          "BLAST",
          "Bitcoin Rhodium",
          "GlobalToken",
          "SolarCoin",
          "UFO Coin",
          "BlakeCoin",
          "Crypto Escudo",
          "Crown Coin",
          "SmileyCoin",
          "Groestlcoin",
          "Bata",
          "Pakcoin",
          "JoinCoin",
          "Vollar",
          "Reality Clash",
          "Beldex",
          "Horizen"
         ],
         "legendgroup": "2",
         "marker": {
          "color": [
           2,
           2,
           2,
           2,
           2,
           2,
           2,
           2,
           2,
           2,
           2,
           2,
           2,
           2,
           2,
           2,
           2,
           2,
           2,
           2,
           2,
           2,
           2,
           2,
           2,
           2,
           2,
           2,
           2,
           2,
           2,
           2,
           2,
           2,
           2,
           2,
           2,
           2,
           2,
           2,
           2,
           2,
           2,
           2,
           2,
           2,
           2,
           2,
           2,
           2,
           2,
           2,
           2,
           2,
           2,
           2,
           2,
           2,
           2,
           2,
           2,
           2,
           2,
           2,
           2,
           2,
           2,
           2,
           2,
           2,
           2,
           2,
           2,
           2,
           2,
           2,
           2,
           2,
           2,
           2,
           2,
           2,
           2,
           2,
           2,
           2,
           2,
           2,
           2,
           2,
           2,
           2,
           2,
           2,
           2,
           2,
           2,
           2,
           2,
           2,
           2,
           2,
           2,
           2,
           2,
           2,
           2,
           2,
           2,
           2,
           2,
           2,
           2,
           2,
           2,
           2,
           2,
           2,
           2,
           2,
           2,
           2,
           2,
           2,
           2,
           2,
           2,
           2,
           2,
           2,
           2,
           2,
           2,
           2,
           2,
           2,
           2,
           2,
           2,
           2,
           2,
           2,
           2,
           2,
           2,
           2,
           2,
           2,
           2,
           2,
           2,
           2,
           2,
           2,
           2,
           2,
           2,
           2,
           2,
           2,
           2,
           2,
           2,
           2,
           2,
           2,
           2,
           2,
           2,
           2,
           2,
           2,
           2,
           2,
           2,
           2,
           2,
           2,
           2,
           2,
           2,
           2,
           2,
           2,
           2,
           2,
           2,
           2,
           2,
           2,
           2,
           2,
           2,
           2,
           2,
           2,
           2,
           2,
           2,
           2,
           2,
           2,
           2,
           2,
           2,
           2,
           2,
           2,
           2,
           2,
           2,
           2,
           2,
           2,
           2,
           2,
           2,
           2,
           2,
           2,
           2,
           2,
           2,
           2,
           2,
           2,
           2,
           2,
           2,
           2,
           2,
           2,
           2,
           2,
           2,
           2,
           2,
           2,
           2
          ],
          "coloraxis": "coloraxis",
          "symbol": "diamond"
         },
         "mode": "markers",
         "name": "2",
         "scene": "scene",
         "showlegend": true,
         "type": "scatter3d",
         "x": [
          0.12805616829970579,
          0.32927855177472765,
          -0.01546929859921167,
          0.3336624357874143,
          0.32925935044957644,
          0.388838590460548,
          0.2779867423489897,
          -0.015443345352276707,
          0.03951143059436897,
          -0.015449194055893206,
          0.2830687986862316,
          -0.04677928158247777,
          0.12798868879584696,
          -0.015506794400060153,
          -0.01545037045184849,
          0.021685500510686923,
          0.11772755678271586,
          -0.015455619122064746,
          -0.015443872863245991,
          -0.015442317065583772,
          0.03951382965691876,
          0.27670579911188936,
          0.11952830984104418,
          -0.021097850909429314,
          -0.015448847834690948,
          -0.015543537984081581,
          -0.015449231868951517,
          -0.015440867579199165,
          0.21777389296595245,
          -0.01587675755370661,
          -0.01546911297829487,
          -0.015460569832951505,
          -0.05575516605524348,
          0.1280550192036234,
          -0.015516231616197224,
          -0.015448190556159503,
          -0.01544004680951415,
          -0.015456827088936418,
          0.2601800158813444,
          -0.015442460642901088,
          -0.017523544261187428,
          0.12805732778904436,
          -0.015588668531924312,
          -0.015441650455206887,
          -0.01546873831231366,
          -0.015453014415019648,
          0.12778721381098923,
          0.12804473913059503,
          0.12805263447992704,
          0.12805703974615054,
          0.12806430329990146,
          0.03951667583037423,
          -0.015449825201862909,
          0.16033257911381874,
          -0.015504661084758155,
          0.12804648082453154,
          0.29130974997383585,
          0.3699266276049358,
          -0.015472895707213512,
          -0.015727464515399102,
          -0.015503087004567621,
          -0.015439815913937891,
          -0.015507926884995641,
          -0.015809147772693596,
          0.3186188813880593,
          0.2838218564714047,
          0.2741035480351881,
          -0.015443495243770332,
          -0.017931017007430338,
          0.3477936293484652,
          -0.015439810994179761,
          0.12805815405340737,
          -0.022948048247284168,
          0.03950271235931716,
          0.34970582531163674,
          0.128054650192354,
          0.0395096359318105,
          -0.015468527675523164,
          -0.015487416207701906,
          0.3293124892734314,
          0.35775074824240316,
          0.0395100425996536,
          0.12805505258885436,
          -0.015532985728665329,
          0.35334480103199933,
          -0.015471768495363135,
          0.11839934628824074,
          0.039493866432505326,
          0.38873424229877285,
          -0.015453506418079969,
          0.39577512710086027,
          -0.015443555356371466,
          0.039510112474567476,
          -0.015439809645823886,
          0.0395145734857764,
          0.5914283326566393,
          0.37324887915981725,
          0.12806133318264673,
          0.2833841931585136,
          -0.015498318263300094,
          0.12806021920851512,
          -0.01544602432678573,
          0.34137139237577696,
          0.3293060214136777,
          0.3888392334778827,
          -0.016327006876670904,
          0.0391768758804082,
          0.03947620734144771,
          0.3732504685386868,
          -0.015440081727125701,
          0.3732470972756714,
          0.34971469065595373,
          0.031160589465128313,
          0.33364960178203484,
          -0.01544094159542848,
          0.03942445888931552,
          0.3888390845843146,
          -0.015483978613829425,
          0.34970773536612904,
          0.4160253603827915,
          -0.015789282751168886,
          -0.05622920803181365,
          -0.015449802375535818,
          0.12738150827971184,
          -0.015450380279492212,
          0.33363503015455764,
          0.4107714307763749,
          0.3697020793589537,
          0.35936518872908696,
          0.3724317713889848,
          0.03949618407830063,
          -0.015447697965976302,
          -0.015447534276877856,
          0.03950275423432697,
          0.03951461892391047,
          0.37324298449615334,
          0.28868559627272694,
          -0.09101458533056879,
          0.07758400557074319,
          0.03938283306054094,
          0.12805614343864194,
          -0.016296657832069926,
          -0.06740644280367061,
          -0.015444693936128108,
          -0.01545273337782753,
          -0.015459560147781947,
          -0.015459948898422995,
          0.37324203220007335,
          0.38523527898816284,
          0.038388024180380544,
          0.21787342564941492,
          0.3888350222430169,
          0.388713655506058,
          -0.015484031884030861,
          0.03942487833918324,
          0.2178711537688072,
          0.32929019551991007,
          0.2178724283748841,
          0.2836165975687015,
          0.3593085719786096,
          0.37324988245718893,
          0.3283122578829269,
          0.03944304094928212,
          0.33342676983033376,
          -0.017288148094674004,
          0.09922309911660866,
          0.039513961814109856,
          0.2178725775382906,
          0.21772739314863757,
          -0.01546128661057909,
          0.03951215659075555,
          0.12805542280357934,
          0.09419158025549063,
          0.10674775526944243,
          0.27232823706090986,
          0.3252129540550348,
          0.3731764461478772,
          -0.01988955453411243,
          0.38869160066640807,
          0.1600343075779808,
          -0.01544732264554648,
          -0.022207661876239945,
          0.03939952456518183,
          0.3286972130391907,
          0.37314183507873827,
          -0.015442728283897639,
          0.3418721669126341,
          0.38881134456841715,
          0.3413414697493828,
          0.03949739689076488,
          0.3732452158448891,
          -0.056230961587375755,
          0.34971219131105497,
          0.2982376267304254,
          0.3413724934163018,
          0.3732035388478512,
          0.379366311688028,
          0.34322964316953053,
          0.3008894944159242,
          0.3729673954415624,
          0.16686521685837358,
          0.30318270172220285,
          0.03951358625253571,
          -0.015441854220856317,
          0.33352020045464287,
          0.3543858794715842,
          0.10467483849188883,
          0.3281537881281975,
          0.12712989267846095,
          0.039513251493184506,
          0.16685826559541755,
          0.38668373276371404,
          0.3413640788259552,
          0.12805614455606004,
          0.3719146320503773,
          0.3444319636625868,
          0.34443329891707775,
          0.42459232412560516,
          -0.015462151038724028,
          0.3888085707116686,
          0.3888313270450155,
          0.2740930026340076,
          0.12804017046865634,
          -0.051407744746158966,
          0.12801993818829302,
          -0.023466052800644076,
          0.21616084276698957,
          0.3438613314122681,
          -0.015804668452361528,
          0.12805261575342236,
          -0.030270698113741803,
          0.11771721256392464,
          -0.015441779433074688,
          -0.01547971155395078,
          0.2838440782008702,
          0.34749509065445006,
          0.32930678574671707,
          0.3727820590908863,
          0.38883862190042373
         ],
         "y": [
          -1.3561249273347986,
          -2.084078473702979,
          -1.0588122882527584,
          -2.2086750385054885,
          -2.0842030969922987,
          -1.9872238959791058,
          -1.861732841923763,
          -1.0587884654514053,
          -0.9474940198428646,
          -1.0588126958405488,
          -1.8527042067335449,
          -1.2891931274020916,
          -1.3561770400560687,
          -1.0588958085400286,
          -1.058835480720933,
          -0.48302288159361456,
          -1.2357240906018174,
          -1.0587980108009758,
          -1.0587881111053463,
          -1.0587840089537077,
          -0.9474943216422641,
          -1.8579615208160505,
          -1.364134882394997,
          -1.063817064075074,
          -1.058784769257252,
          -1.0589037339818848,
          -1.0587917147929005,
          -1.058783735636783,
          -1.6503098803825913,
          -1.0594138824805388,
          -1.0588032448445504,
          -1.0588104541776893,
          -1.0910266454110473,
          -1.356124155450052,
          -1.0588995677853512,
          -1.0587845559083693,
          -1.0587778131112804,
          -1.0587931614795245,
          -2.1458525354663074,
          -1.058781856235311,
          -1.067200336613835,
          -1.3561257062010212,
          -1.0588977842225922,
          -1.0587896039681999,
          -1.0589213720363635,
          -1.0588017473236695,
          -1.356512029038899,
          -1.3561342842957755,
          -1.3561363056981668,
          -1.3561641496882575,
          -1.3561168034480737,
          -0.9474844459567168,
          -1.0587854224562965,
          -1.2911966309682708,
          -1.0589073400829137,
          -1.3561341366821535,
          -2.4112053257184076,
          -2.349762364400726,
          -1.0588237026870762,
          -1.0596840328299073,
          -1.0588435431197112,
          -1.0587788051274227,
          -1.0588361100552066,
          -1.0591838560553635,
          -2.2253258898075168,
          -1.8519003318700995,
          -1.5320499912453136,
          -1.0587768203880372,
          -1.0636523041772497,
          -2.2456475462716954,
          -1.0587774931234681,
          -1.3561262612293299,
          -1.113981049637974,
          -0.9474966767561458,
          -2.1722139133386467,
          -1.3561453609173602,
          -0.9474934691743687,
          -1.0588954761359624,
          -1.058908825494179,
          -2.0841123420012293,
          -2.2701009703612933,
          -0.9474904680263124,
          -1.3561241778759845,
          -1.0588520204242002,
          -2.0389557743455016,
          -1.058810629144191,
          -1.363786649533428,
          -0.9475241327260618,
          -2.2007677060445934,
          -1.0588781349961494,
          -2.1315252949691894,
          -1.0587876695209288,
          -0.9474964087393685,
          -1.0587774920449649,
          -0.9474994053438657,
          -1.1730502094932451,
          -2.3454519362927986,
          -1.356121020364654,
          -1.8523921761446005,
          -1.05886875903424,
          -1.3561208629549146,
          -1.0587925596740224,
          -2.254914077553758,
          -2.0841140870052666,
          -1.987224327914498,
          -1.0647297692958861,
          -0.9475836234081016,
          -0.9476065709607784,
          -2.3454602074334234,
          -1.058778683077761,
          -2.3454605623037126,
          -2.1721833342023436,
          -1.0073577925179142,
          -2.2087875673284523,
          -1.0587785283314477,
          -0.9480773648571393,
          -1.9872216084419814,
          -1.0588129050391828,
          -2.1721858656152437,
          -2.2136209552592767,
          -1.0611617919723124,
          -0.6876138252993842,
          -1.0587936369484654,
          -1.357295144341965,
          -1.0588171379279117,
          -2.2087253899797923,
          -2.3088843637933487,
          -2.2783519019625107,
          -2.223213018675077,
          -2.346206238084057,
          -0.9475361673868768,
          -1.0587844131993838,
          -1.058821014271213,
          -0.9475143862124308,
          -0.9474954411958333,
          -2.3454767906730836,
          -2.2722823832238332,
          -1.1389838806634756,
          -1.167249731403185,
          -0.9481148898492451,
          -1.35612491063482,
          -1.0650775877144922,
          -1.0238694319217818,
          -1.0587869047003406,
          -1.0588234156439644,
          -1.0588293077070419,
          -1.058829046570751,
          -2.3454989984613235,
          -1.9985418274049451,
          -0.9479050495624581,
          -1.650174386712396,
          -1.987221499092792,
          -2.2008365909646215,
          -1.0588128692558778,
          -0.9476519850272169,
          -1.6501846481688924,
          -2.084269657095336,
          -1.650176860158176,
          -1.8521946631008166,
          -2.391744674031235,
          -2.3454542473998172,
          -2.089978022876087,
          -0.9477951582319919,
          -2.2091712585583987,
          -1.0608098199647489,
          -1.3251689657866565,
          -0.9474955891716598,
          -1.650169887825028,
          -1.6503860426548695,
          -1.058804572883206,
          -0.9474964721098974,
          -1.3561238804045443,
          -1.2268530865932636,
          -0.137615456047166,
          -2.932517732562155,
          -2.2778214297120147,
          -2.3456167663703615,
          -1.0623366916208992,
          -2.2007849027693642,
          -1.2916616142035082,
          -1.058798236191428,
          -1.0662849727607484,
          -0.9477331836801683,
          -2.087944585682948,
          -2.346028346687273,
          -1.058788879956053,
          -2.2060685136169655,
          -1.9872376823734257,
          -2.2550764226698266,
          -0.9475369820719595,
          -2.3454549763839543,
          -0.687594801026577,
          -2.172192316498377,
          -2.284412400709346,
          -2.2549076791406426,
          -2.345807849837326,
          -2.296613153556684,
          -2.445775475317576,
          -2.3284127720202816,
          -2.3459111699807425,
          -1.302899079242148,
          -2.185849127025695,
          -0.9474961227316671,
          -1.0587901908891977,
          -2.20972550643183,
          -2.2232699002029914,
          -0.9599774165738926,
          -2.3829165857989336,
          -1.3568641804692751,
          -0.9474985173189852,
          -1.3029454396729172,
          -1.9907396229740737,
          -2.254950159292696,
          -1.3561249113854255,
          -2.349840431988588,
          -2.186864113706931,
          -2.1868126927700064,
          -2.192071003512098,
          -1.0588406646020143,
          -1.987362076860365,
          -1.9872254908949407,
          -1.5321083939588025,
          -1.356142340229096,
          -0.4043282117559175,
          -1.3561968554106627,
          -1.1176277596295963,
          -1.6516257643874364,
          -2.1909960102648767,
          -1.0591868649586866,
          -1.356136293118972,
          -1.0815579033349394,
          -1.2357308942014524,
          -1.0587790395059222,
          -1.0588694702068124,
          -1.8519170925385948,
          -2.291535396115391,
          -2.084113475641216,
          -2.3460487649736037,
          -1.987223917098278
         ],
         "z": [
          -0.1500233290353774,
          -0.1537147252331733,
          -0.16104540078189863,
          -0.14495344225708165,
          -0.15215919859003868,
          -0.14211910430419064,
          0.16111095754654106,
          -0.16219040695564227,
          -0.2258338995985858,
          -0.16180749552228604,
          -0.09199044007902403,
          2.555292755509518,
          -0.14711133124330877,
          -0.1590660676960335,
          -0.16161189275963586,
          -0.22082310222261176,
          -0.21468417028234,
          -0.16166030589512215,
          -0.1621726860238713,
          -0.1622590289249501,
          -0.22592316377692218,
          0.18487032539629472,
          0.22741482818380315,
          0.08620441238754648,
          -0.16200555939582165,
          -0.15761583982101898,
          -0.16194496615913753,
          -0.1623159781187759,
          -0.17301226683213122,
          -0.1415623585159314,
          -0.16111233558314836,
          -0.16138959303025385,
          1.5847432831700234,
          -0.1499847268935748,
          -0.1586821794741977,
          -0.16203197532564628,
          -0.1623864120916683,
          -0.16164645971722305,
          -0.1337920524576364,
          -0.1622678196142359,
          -0.027365523857875274,
          -0.1500622803230177,
          -0.15593842843765035,
          -0.1622473444547392,
          -0.1603445043045779,
          -0.16173465270941415,
          -0.13722919897356928,
          -0.14952660453779873,
          -0.14981356699242473,
          -0.1497968004069793,
          -0.15038657684991844,
          -0.22609681842333426,
          -0.16196405491966975,
          -0.19486001044496334,
          -0.1590708739472255,
          -0.1495938373026621,
          3.8508036673676127,
          0.4533584217764947,
          -0.16083299238849086,
          -0.1454530051292831,
          -0.1595531333550523,
          -0.1623886277136601,
          -0.15941823238774314,
          -0.14565722418153343,
          -0.1473856579385536,
          -0.125959582232072,
          -0.19038453893688656,
          -0.16226180335093712,
          -0.035355361386222764,
          -0.1176284106671671,
          -0.16239750124074587,
          -0.1500900374224099,
          0.4887077817054907,
          -0.2254846602067516,
          -0.14065302397588017,
          -0.14983029451322266,
          -0.2257692749756351,
          -0.1605239659081646,
          -0.15971704870814715,
          -0.15478150380510608,
          0.3723913292663031,
          -0.22580461463274695,
          -0.1499858484198235,
          -0.15835963583095275,
          -0.13814270935613582,
          -0.16096242836285343,
          0.2680559812522973,
          -0.2249663763739698,
          -0.13475406005547244,
          -0.1612101971782233,
          -0.15032764025854492,
          -0.16218768783967275,
          -0.22576794109388482,
          -0.16239755967374647,
          -0.2259178020065087,
          -0.23123918893759224,
          0.2984392367716148,
          -0.15024567225252367,
          -0.10605416224818029,
          -0.15956759333888382,
          -0.15020433792796523,
          -0.16206138998523512,
          -0.15509989491387155,
          -0.15452390799946503,
          -0.1421407054972948,
          -0.08923965147134534,
          -0.21251392723271037,
          -0.2237488118737829,
          0.2984335361841324,
          -0.16237932401616328,
          0.29856413127094805,
          -0.14119272399242846,
          0.48817858401271363,
          -0.14372020740971472,
          -0.16234763845121894,
          -0.2186632765934528,
          -0.142153046257124,
          -0.16048287747806925,
          -0.14091137937692302,
          -0.1647208945229725,
          -0.13331759923938763,
          -0.19048490896196738,
          -0.16191053762053925,
          -0.11661106303668253,
          -0.16173296091043035,
          -0.14357754793542069,
          -0.1706216507340171,
          -0.027620185562306773,
          -0.16795813728115758,
          0.33451668461573897,
          -0.22497486371833902,
          -0.16205165869106947,
          -0.16181556109599426,
          -0.22536900429208004,
          -0.2259457759176033,
          0.298828027816545,
          -0.14182339565976093,
          3.243550535204774,
          -0.13097059410747366,
          -0.21683135460222222,
          -0.15002249386567912,
          -0.08809135493537634,
          1.583340073200793,
          -0.16214943897782846,
          -0.1616018842960947,
          -0.16130317884818202,
          -0.16129011935940363,
          0.2990112848868904,
          0.06988635815977806,
          -0.18037730013188863,
          -0.1776956334347013,
          -0.1419992354424808,
          -0.1335148557286464,
          -0.16048108794636357,
          -0.22149554209545513,
          -0.177541271286388,
          -0.1528918962550366,
          -0.17764132037143757,
          -0.11620268913298397,
          1.1352299190437374,
          0.2984163716500657,
          -0.07789701184161389,
          -0.22123855678047466,
          -0.13270319604244288,
          -0.078629835565934,
          1.0897855480162597,
          -0.22591979922137687,
          -0.17769315634695074,
          -0.17073912876203054,
          -0.16140126446921116,
          -0.22584528138698162,
          -0.15000190115754147,
          -0.19950035671956276,
          -0.279971085151184,
          8.024325359468055,
          -0.16046773140574228,
          0.3022859370765098,
          0.030438739415597476,
          -0.13301808328411432,
          -0.18043500624498532,
          -0.16197441839942722,
          0.1447617942242794,
          -0.21999347245960368,
          -0.10600378401504457,
          0.3063275173715335,
          -0.1622111364329093,
          -0.15985568073556736,
          -0.14099137282137525,
          -0.15288677657516037,
          -0.22501560631552797,
          0.2985987197749652,
          -0.19054415614653697,
          -0.1410381778454209,
          -0.14052335049570927,
          -0.15518414132431788,
          0.302520413616613,
          0.5898528258490447,
          2.104606858981719,
          -0.14951018868056126,
          0.3121875526865703,
          -0.20484371133999593,
          -0.10687207295853844,
          -0.2259019800152144,
          -0.16223570721917763,
          -0.1325878682805365,
          -0.14581325917365376,
          -0.15130786520014683,
          3.1094075993440495,
          -0.10989267950457603,
          -0.22587339166835316,
          -0.2042723414356025,
          -0.036870007607518386,
          -0.15458279538474742,
          -0.15002253140364682,
          0.3782499699294877,
          -0.12808641695793055,
          -0.12847765336978367,
          -0.15991143259226812,
          -0.16112942872419858,
          -0.1400622753283647,
          -0.14183223859461133,
          -0.1895967168202983,
          -0.1492994730430696,
          -0.11710402271720124,
          -0.148168892283397,
          0.5325568456662305,
          -0.10293845524294677,
          -0.0790230810752069,
          -0.1458077001614055,
          -0.14981293790387015,
          0.552603665926929,
          -0.21424562320302307,
          -0.16231238209331272,
          -0.1602706993096508,
          -0.12669394773545312,
          -0.11707810669312704,
          -0.15455703150650082,
          0.3201488731073654,
          -0.14212016047916953
         ]
        },
        {
         "customdata": [
          [
           "VeChainThor Authority"
          ],
          [
           "Proof-of-BibleHash"
          ],
          [
           "Proof-of-Authority"
          ],
          [
           "ECC 256K1"
          ],
          [
           "Leased POS"
          ]
         ],
         "hovertemplate": "<b>%{hovertext}</b><br><br>class=%{marker.color}<br>PC 3=%{x}<br>PC 2=%{y}<br>PC 1=%{z}<br>Algorithm=%{customdata[0]}<extra></extra>",
         "hovertext": [
          "Vechain",
          "BiblePay",
          "Poa Network",
          "Acute Angle Cloud",
          "Waves"
         ],
         "legendgroup": "3",
         "marker": {
          "color": [
           3,
           3,
           3,
           3,
           3
          ],
          "coloraxis": "coloraxis",
          "symbol": "square"
         },
         "mode": "markers",
         "name": "3",
         "scene": "scene",
         "showlegend": true,
         "type": "scatter3d",
         "x": [
          8.46503209537817,
          6.837784347155642,
          22.374852432619907,
          15.874535460518773,
          11.009185987365477
         ],
         "y": [
          4.602858284234684,
          1.2989439800226734,
          3.2927591532024585,
          4.509810038074031,
          0.5394539303161578
         ],
         "z": [
          4.47146655199666,
          -0.3131133846335184,
          -0.38520351369817607,
          -0.3238195947849987,
          -0.5183680599470233
         ]
        },
        {
         "customdata": [
          [
           "TRC10"
          ]
         ],
         "hovertemplate": "<b>%{hovertext}</b><br><br>class=%{marker.color}<br>PC 3=%{x}<br>PC 2=%{y}<br>PC 1=%{z}<br>Algorithm=%{customdata[0]}<extra></extra>",
         "hovertext": [
          "BitTorrent"
         ],
         "legendgroup": "1",
         "marker": {
          "color": [
           1
          ],
          "coloraxis": "coloraxis",
          "symbol": "x"
         },
         "mode": "markers",
         "name": "1",
         "scene": "scene",
         "showlegend": true,
         "type": "scatter3d",
         "x": [
          -1.1325771800105782
         ],
         "y": [
          1.3043844833712392
         ],
         "z": [
          34.035300558539504
         ]
        }
       ],
       "layout": {
        "autosize": true,
        "coloraxis": {
         "colorbar": {
          "title": {
           "text": "class"
          }
         },
         "colorscale": [
          [
           0,
           "#0d0887"
          ],
          [
           0.1111111111111111,
           "#46039f"
          ],
          [
           0.2222222222222222,
           "#7201a8"
          ],
          [
           0.3333333333333333,
           "#9c179e"
          ],
          [
           0.4444444444444444,
           "#bd3786"
          ],
          [
           0.5555555555555556,
           "#d8576b"
          ],
          [
           0.6666666666666666,
           "#ed7953"
          ],
          [
           0.7777777777777778,
           "#fb9f3a"
          ],
          [
           0.8888888888888888,
           "#fdca26"
          ],
          [
           1,
           "#f0f921"
          ]
         ]
        },
        "legend": {
         "title": {
          "text": "class"
         },
         "tracegroupgap": 0,
         "x": 0,
         "y": 1
        },
        "margin": {
         "t": 60
        },
        "scene": {
         "aspectmode": "auto",
         "aspectratio": {
          "x": 1,
          "y": 1,
          "z": 1
         },
         "camera": {
          "center": {
           "x": 0,
           "y": 0,
           "z": 0
          },
          "eye": {
           "x": 1.3486126639427485,
           "y": 1.3486126639427483,
           "z": 1.3486126639427483
          },
          "projection": {
           "type": "perspective"
          },
          "up": {
           "x": 0,
           "y": 0,
           "z": 1
          }
         },
         "domain": {
          "x": [
           0,
           1
          ],
          "y": [
           0,
           1
          ]
         },
         "xaxis": {
          "title": {
           "text": "PC 3"
          },
          "type": "linear"
         },
         "yaxis": {
          "title": {
           "text": "PC 2"
          },
          "type": "linear"
         },
         "zaxis": {
          "title": {
           "text": "PC 1"
          },
          "type": "linear"
         }
        },
        "template": {
         "data": {
          "bar": [
           {
            "error_x": {
             "color": "#2a3f5f"
            },
            "error_y": {
             "color": "#2a3f5f"
            },
            "marker": {
             "line": {
              "color": "#E5ECF6",
              "width": 0.5
             }
            },
            "type": "bar"
           }
          ],
          "barpolar": [
           {
            "marker": {
             "line": {
              "color": "#E5ECF6",
              "width": 0.5
             }
            },
            "type": "barpolar"
           }
          ],
          "carpet": [
           {
            "aaxis": {
             "endlinecolor": "#2a3f5f",
             "gridcolor": "white",
             "linecolor": "white",
             "minorgridcolor": "white",
             "startlinecolor": "#2a3f5f"
            },
            "baxis": {
             "endlinecolor": "#2a3f5f",
             "gridcolor": "white",
             "linecolor": "white",
             "minorgridcolor": "white",
             "startlinecolor": "#2a3f5f"
            },
            "type": "carpet"
           }
          ],
          "choropleth": [
           {
            "colorbar": {
             "outlinewidth": 0,
             "ticks": ""
            },
            "type": "choropleth"
           }
          ],
          "contour": [
           {
            "colorbar": {
             "outlinewidth": 0,
             "ticks": ""
            },
            "colorscale": [
             [
              0,
              "#0d0887"
             ],
             [
              0.1111111111111111,
              "#46039f"
             ],
             [
              0.2222222222222222,
              "#7201a8"
             ],
             [
              0.3333333333333333,
              "#9c179e"
             ],
             [
              0.4444444444444444,
              "#bd3786"
             ],
             [
              0.5555555555555556,
              "#d8576b"
             ],
             [
              0.6666666666666666,
              "#ed7953"
             ],
             [
              0.7777777777777778,
              "#fb9f3a"
             ],
             [
              0.8888888888888888,
              "#fdca26"
             ],
             [
              1,
              "#f0f921"
             ]
            ],
            "type": "contour"
           }
          ],
          "contourcarpet": [
           {
            "colorbar": {
             "outlinewidth": 0,
             "ticks": ""
            },
            "type": "contourcarpet"
           }
          ],
          "heatmap": [
           {
            "colorbar": {
             "outlinewidth": 0,
             "ticks": ""
            },
            "colorscale": [
             [
              0,
              "#0d0887"
             ],
             [
              0.1111111111111111,
              "#46039f"
             ],
             [
              0.2222222222222222,
              "#7201a8"
             ],
             [
              0.3333333333333333,
              "#9c179e"
             ],
             [
              0.4444444444444444,
              "#bd3786"
             ],
             [
              0.5555555555555556,
              "#d8576b"
             ],
             [
              0.6666666666666666,
              "#ed7953"
             ],
             [
              0.7777777777777778,
              "#fb9f3a"
             ],
             [
              0.8888888888888888,
              "#fdca26"
             ],
             [
              1,
              "#f0f921"
             ]
            ],
            "type": "heatmap"
           }
          ],
          "heatmapgl": [
           {
            "colorbar": {
             "outlinewidth": 0,
             "ticks": ""
            },
            "colorscale": [
             [
              0,
              "#0d0887"
             ],
             [
              0.1111111111111111,
              "#46039f"
             ],
             [
              0.2222222222222222,
              "#7201a8"
             ],
             [
              0.3333333333333333,
              "#9c179e"
             ],
             [
              0.4444444444444444,
              "#bd3786"
             ],
             [
              0.5555555555555556,
              "#d8576b"
             ],
             [
              0.6666666666666666,
              "#ed7953"
             ],
             [
              0.7777777777777778,
              "#fb9f3a"
             ],
             [
              0.8888888888888888,
              "#fdca26"
             ],
             [
              1,
              "#f0f921"
             ]
            ],
            "type": "heatmapgl"
           }
          ],
          "histogram": [
           {
            "marker": {
             "colorbar": {
              "outlinewidth": 0,
              "ticks": ""
             }
            },
            "type": "histogram"
           }
          ],
          "histogram2d": [
           {
            "colorbar": {
             "outlinewidth": 0,
             "ticks": ""
            },
            "colorscale": [
             [
              0,
              "#0d0887"
             ],
             [
              0.1111111111111111,
              "#46039f"
             ],
             [
              0.2222222222222222,
              "#7201a8"
             ],
             [
              0.3333333333333333,
              "#9c179e"
             ],
             [
              0.4444444444444444,
              "#bd3786"
             ],
             [
              0.5555555555555556,
              "#d8576b"
             ],
             [
              0.6666666666666666,
              "#ed7953"
             ],
             [
              0.7777777777777778,
              "#fb9f3a"
             ],
             [
              0.8888888888888888,
              "#fdca26"
             ],
             [
              1,
              "#f0f921"
             ]
            ],
            "type": "histogram2d"
           }
          ],
          "histogram2dcontour": [
           {
            "colorbar": {
             "outlinewidth": 0,
             "ticks": ""
            },
            "colorscale": [
             [
              0,
              "#0d0887"
             ],
             [
              0.1111111111111111,
              "#46039f"
             ],
             [
              0.2222222222222222,
              "#7201a8"
             ],
             [
              0.3333333333333333,
              "#9c179e"
             ],
             [
              0.4444444444444444,
              "#bd3786"
             ],
             [
              0.5555555555555556,
              "#d8576b"
             ],
             [
              0.6666666666666666,
              "#ed7953"
             ],
             [
              0.7777777777777778,
              "#fb9f3a"
             ],
             [
              0.8888888888888888,
              "#fdca26"
             ],
             [
              1,
              "#f0f921"
             ]
            ],
            "type": "histogram2dcontour"
           }
          ],
          "mesh3d": [
           {
            "colorbar": {
             "outlinewidth": 0,
             "ticks": ""
            },
            "type": "mesh3d"
           }
          ],
          "parcoords": [
           {
            "line": {
             "colorbar": {
              "outlinewidth": 0,
              "ticks": ""
             }
            },
            "type": "parcoords"
           }
          ],
          "pie": [
           {
            "automargin": true,
            "type": "pie"
           }
          ],
          "scatter": [
           {
            "marker": {
             "colorbar": {
              "outlinewidth": 0,
              "ticks": ""
             }
            },
            "type": "scatter"
           }
          ],
          "scatter3d": [
           {
            "line": {
             "colorbar": {
              "outlinewidth": 0,
              "ticks": ""
             }
            },
            "marker": {
             "colorbar": {
              "outlinewidth": 0,
              "ticks": ""
             }
            },
            "type": "scatter3d"
           }
          ],
          "scattercarpet": [
           {
            "marker": {
             "colorbar": {
              "outlinewidth": 0,
              "ticks": ""
             }
            },
            "type": "scattercarpet"
           }
          ],
          "scattergeo": [
           {
            "marker": {
             "colorbar": {
              "outlinewidth": 0,
              "ticks": ""
             }
            },
            "type": "scattergeo"
           }
          ],
          "scattergl": [
           {
            "marker": {
             "colorbar": {
              "outlinewidth": 0,
              "ticks": ""
             }
            },
            "type": "scattergl"
           }
          ],
          "scattermapbox": [
           {
            "marker": {
             "colorbar": {
              "outlinewidth": 0,
              "ticks": ""
             }
            },
            "type": "scattermapbox"
           }
          ],
          "scatterpolar": [
           {
            "marker": {
             "colorbar": {
              "outlinewidth": 0,
              "ticks": ""
             }
            },
            "type": "scatterpolar"
           }
          ],
          "scatterpolargl": [
           {
            "marker": {
             "colorbar": {
              "outlinewidth": 0,
              "ticks": ""
             }
            },
            "type": "scatterpolargl"
           }
          ],
          "scatterternary": [
           {
            "marker": {
             "colorbar": {
              "outlinewidth": 0,
              "ticks": ""
             }
            },
            "type": "scatterternary"
           }
          ],
          "surface": [
           {
            "colorbar": {
             "outlinewidth": 0,
             "ticks": ""
            },
            "colorscale": [
             [
              0,
              "#0d0887"
             ],
             [
              0.1111111111111111,
              "#46039f"
             ],
             [
              0.2222222222222222,
              "#7201a8"
             ],
             [
              0.3333333333333333,
              "#9c179e"
             ],
             [
              0.4444444444444444,
              "#bd3786"
             ],
             [
              0.5555555555555556,
              "#d8576b"
             ],
             [
              0.6666666666666666,
              "#ed7953"
             ],
             [
              0.7777777777777778,
              "#fb9f3a"
             ],
             [
              0.8888888888888888,
              "#fdca26"
             ],
             [
              1,
              "#f0f921"
             ]
            ],
            "type": "surface"
           }
          ],
          "table": [
           {
            "cells": {
             "fill": {
              "color": "#EBF0F8"
             },
             "line": {
              "color": "white"
             }
            },
            "header": {
             "fill": {
              "color": "#C8D4E3"
             },
             "line": {
              "color": "white"
             }
            },
            "type": "table"
           }
          ]
         },
         "layout": {
          "annotationdefaults": {
           "arrowcolor": "#2a3f5f",
           "arrowhead": 0,
           "arrowwidth": 1
          },
          "coloraxis": {
           "colorbar": {
            "outlinewidth": 0,
            "ticks": ""
           }
          },
          "colorscale": {
           "diverging": [
            [
             0,
             "#8e0152"
            ],
            [
             0.1,
             "#c51b7d"
            ],
            [
             0.2,
             "#de77ae"
            ],
            [
             0.3,
             "#f1b6da"
            ],
            [
             0.4,
             "#fde0ef"
            ],
            [
             0.5,
             "#f7f7f7"
            ],
            [
             0.6,
             "#e6f5d0"
            ],
            [
             0.7,
             "#b8e186"
            ],
            [
             0.8,
             "#7fbc41"
            ],
            [
             0.9,
             "#4d9221"
            ],
            [
             1,
             "#276419"
            ]
           ],
           "sequential": [
            [
             0,
             "#0d0887"
            ],
            [
             0.1111111111111111,
             "#46039f"
            ],
            [
             0.2222222222222222,
             "#7201a8"
            ],
            [
             0.3333333333333333,
             "#9c179e"
            ],
            [
             0.4444444444444444,
             "#bd3786"
            ],
            [
             0.5555555555555556,
             "#d8576b"
            ],
            [
             0.6666666666666666,
             "#ed7953"
            ],
            [
             0.7777777777777778,
             "#fb9f3a"
            ],
            [
             0.8888888888888888,
             "#fdca26"
            ],
            [
             1,
             "#f0f921"
            ]
           ],
           "sequentialminus": [
            [
             0,
             "#0d0887"
            ],
            [
             0.1111111111111111,
             "#46039f"
            ],
            [
             0.2222222222222222,
             "#7201a8"
            ],
            [
             0.3333333333333333,
             "#9c179e"
            ],
            [
             0.4444444444444444,
             "#bd3786"
            ],
            [
             0.5555555555555556,
             "#d8576b"
            ],
            [
             0.6666666666666666,
             "#ed7953"
            ],
            [
             0.7777777777777778,
             "#fb9f3a"
            ],
            [
             0.8888888888888888,
             "#fdca26"
            ],
            [
             1,
             "#f0f921"
            ]
           ]
          },
          "colorway": [
           "#636efa",
           "#EF553B",
           "#00cc96",
           "#ab63fa",
           "#FFA15A",
           "#19d3f3",
           "#FF6692",
           "#B6E880",
           "#FF97FF",
           "#FECB52"
          ],
          "font": {
           "color": "#2a3f5f"
          },
          "geo": {
           "bgcolor": "white",
           "lakecolor": "white",
           "landcolor": "#E5ECF6",
           "showlakes": true,
           "showland": true,
           "subunitcolor": "white"
          },
          "hoverlabel": {
           "align": "left"
          },
          "hovermode": "closest",
          "mapbox": {
           "style": "light"
          },
          "paper_bgcolor": "white",
          "plot_bgcolor": "#E5ECF6",
          "polar": {
           "angularaxis": {
            "gridcolor": "white",
            "linecolor": "white",
            "ticks": ""
           },
           "bgcolor": "#E5ECF6",
           "radialaxis": {
            "gridcolor": "white",
            "linecolor": "white",
            "ticks": ""
           }
          },
          "scene": {
           "xaxis": {
            "backgroundcolor": "#E5ECF6",
            "gridcolor": "white",
            "gridwidth": 2,
            "linecolor": "white",
            "showbackground": true,
            "ticks": "",
            "zerolinecolor": "white"
           },
           "yaxis": {
            "backgroundcolor": "#E5ECF6",
            "gridcolor": "white",
            "gridwidth": 2,
            "linecolor": "white",
            "showbackground": true,
            "ticks": "",
            "zerolinecolor": "white"
           },
           "zaxis": {
            "backgroundcolor": "#E5ECF6",
            "gridcolor": "white",
            "gridwidth": 2,
            "linecolor": "white",
            "showbackground": true,
            "ticks": "",
            "zerolinecolor": "white"
           }
          },
          "shapedefaults": {
           "line": {
            "color": "#2a3f5f"
           }
          },
          "ternary": {
           "aaxis": {
            "gridcolor": "white",
            "linecolor": "white",
            "ticks": ""
           },
           "baxis": {
            "gridcolor": "white",
            "linecolor": "white",
            "ticks": ""
           },
           "bgcolor": "#E5ECF6",
           "caxis": {
            "gridcolor": "white",
            "linecolor": "white",
            "ticks": ""
           }
          },
          "title": {
           "x": 0.05
          },
          "xaxis": {
           "automargin": true,
           "gridcolor": "white",
           "linecolor": "white",
           "ticks": "",
           "title": {
            "standoff": 15
           },
           "zerolinecolor": "white",
           "zerolinewidth": 2
          },
          "yaxis": {
           "automargin": true,
           "gridcolor": "white",
           "linecolor": "white",
           "ticks": "",
           "title": {
            "standoff": 15
           },
           "zerolinecolor": "white",
           "zerolinewidth": 2
          }
         }
        }
       }
      },
      "image/png": "[encoded data removed]",
      "text/html": [
       "<div>                            <div id=\"26eac139-b00e-4a8c-b5cc-7b21868044e2\" class=\"plotly-graph-div\" style=\"height:525px; width:800px;\"></div>            <script type=\"text/javascript\">                require([\"plotly\"], function(Plotly) {                    window.PLOTLYENV=window.PLOTLYENV || {};                                    if (document.getElementById(\"26eac139-b00e-4a8c-b5cc-7b21868044e2\")) {                    Plotly.newPlot(                        \"26eac139-b00e-4a8c-b5cc-7b21868044e2\",                        [{\"customdata\": [[\"Scrypt\"], [\"Scrypt\"], [\"X13\"], [\"X11\"], [\"SHA-512\"], [\"SHA-256\"], [\"SHA-256\"], [\"X15\"], [\"Scrypt\"], [\"Scrypt\"], [\"Scrypt\"], [\"Scrypt\"], [\"Scrypt\"], [\"Scrypt\"], [\"Groestl\"], [\"PoS\"], [\"Scrypt\"], [\"Scrypt\"], [\"X11\"], [\"X11\"], [\"SHA3\"], [\"Scrypt\"], [\"SHA-256\"], [\"Scrypt\"], [\"X13\"], [\"X13\"], [\"NeoScrypt\"], [\"Scrypt\"], [\"Scrypt\"], [\"Scrypt\"], [\"X11\"], [\"X11\"], [\"Multiple\"], [\"PHI1612\"], [\"X11\"], [\"Scrypt\"], [\"Scrypt\"], [\"Scrypt\"], [\"X11\"], [\"Multiple\"], [\"X13\"], [\"Scrypt\"], [\"Shabal256\"], [\"Counterparty\"], [\"SHA-256\"], [\"Groestl\"], [\"Scrypt\"], [\"X13\"], [\"Scrypt\"], [\"Scrypt\"], [\"X13\"], [\"X11\"], [\"Scrypt\"], [\"X11\"], [\"SHA3\"], [\"QUAIT\"], [\"X11\"], [\"Scrypt\"], [\"X13\"], [\"SHA-256\"], [\"X15\"], [\"BLAKE256\"], [\"SHA-256\"], [\"X11\"], [\"SHA-256\"], [\"NIST5\"], [\"Scrypt\"], [\"Scrypt\"], [\"X11\"], [\"Scrypt\"], [\"SHA-256\"], [\"Scrypt\"], [\"PoS\"], [\"X11\"], [\"SHA-256\"], [\"SHA-256\"], [\"NIST5\"], [\"X11\"], [\"POS 3.0\"], [\"Scrypt\"], [\"Scrypt\"], [\"Scrypt\"], [\"X13\"], [\"X11\"], [\"X11\"], [\"Scrypt\"], [\"SHA-256\"], [\"X11\"], [\"Scrypt\"], [\"Scrypt\"], [\"Scrypt\"], [\"Scrypt\"], [\"SHA-256D\"], [\"PoS\"], [\"Scrypt\"], [\"X11\"], [\"PoS\"], [\"X13\"], [\"X14\"], [\"PoS\"], [\"SHA-256D\"], [\"DPoS\"], [\"X11\"], [\"X13\"], [\"X11\"], [\"PoS\"], [\"Scrypt\"], [\"Scrypt\"], [\"PoS\"], [\"X11\"], [\"SHA-256\"], [\"Scrypt\"], [\"X11\"], [\"Scrypt\"], [\"Scrypt\"], [\"X11\"], [\"Scrypt\"], [\"Scrypt\"], [\"Scrypt\"], [\"Scrypt\"], [\"Quark\"], [\"QuBit\"], [\"Scrypt\"], [\"SHA-256\"], [\"X11\"], [\"Scrypt\"], [\"Scrypt\"], [\"Scrypt\"], [\"Scrypt\"], [\"X13\"], [\"Scrypt\"], [\"Scrypt\"], [\"X11\"], [\"Blake2S\"], [\"X11\"], [\"PoS\"], [\"X11\"], [\"PoS\"], [\"X11\"], [\"Scrypt\"], [\"Scrypt\"], [\"Scrypt\"], [\"SHA-256\"], [\"X11\"], [\"Scrypt\"], [\"PoS\"], [\"Scrypt\"], [\"X15\"], [\"SHA-256\"], [\"POS 3.0\"], [\"536\"], [\"NIST5\"], [\"NIST5\"], [\"Skein\"], [\"X13\"], [\"Scrypt\"], [\"X13\"], [\"SkunkHash v2 Raptor\"], [\"Skein\"], [\"X11\"], [\"Scrypt\"], [\"PoS\"], [\"Scrypt\"], [\"Scrypt\"], [\"SHA-512\"], [\"Ouroboros\"], [\"X11\"], [\"NeoScrypt\"], [\"Scrypt\"], [\"Lyra2REv2\"], [\"Scrypt\"], [\"SHA-256\"], [\"NIST5\"], [\"PHI1612\"], [\"Scrypt\"], [\"Quark\"], [\"POS 2.0\"], [\"Scrypt\"], [\"SHA-256\"], [\"X11\"], [\"DPoS\"], [\"NIST5\"], [\"X13\"], [\"Scrypt\"], [\"NIST5\"], [\"Quark\"], [\"Scrypt\"], [\"Scrypt\"], [\"X11\"], [\"Quark\"], [\"Scrypt\"], [\"Scrypt\"], [\"X11\"], [\"POS 3.0\"], [\"Scrypt\"], [\"Scrypt\"], [\"X13\"], [\"SHA-256 + Hive\"], [\"C11\"], [\"X11\"], [\"XEVAN\"], [\"Scrypt\"], [\"VBFT\"], [\"NIST5\"], [\"Scrypt\"], [\"Scrypt\"], [\"Scrypt\"], [\"Green Protocol\"], [\"PoS\"], [\"Scrypt\"], [\"Semux BFT consensus\"], [\"Quark\"], [\"PoS\"], [\"X16R\"], [\"Scrypt\"], [\"XEVAN\"], [\"Scrypt\"], [\"Scrypt\"], [\"Scrypt\"], [\"SHA-256D\"], [\"Scrypt\"], [\"X15\"], [\"Scrypt\"], [\"Quark\"], [\"SHA-256\"], [\"DPoS\"], [\"X16R\"], [\"Quark\"], [\"Quark\"], [\"Scrypt\"], [\"Lyra2REv2\"], [\"Quark\"], [\"Scrypt\"], [\"X11\"], [\"X11\"], [\"Scrypt\"], [\"PoS\"], [\"Keccak\"], [\"X11\"], [\"Scrypt\"], [\"SHA-512\"], [\"XEVAN\"], [\"XEVAN\"], [\"X11\"], [\"Quark\"], [\"Equihash\"], [\"Scrypt\"], [\"Quark\"], [\"Quark\"], [\"Scrypt\"], [\"X11\"], [\"Scrypt\"], [\"XEVAN\"], [\"SHA-256D\"], [\"X11\"], [\"X11\"], [\"DPoS\"], [\"Scrypt\"], [\"X11\"], [\"Scrypt\"], [\"Scrypt\"], [\"SHA-256\"], [\"Scrypt\"], [\"X11\"], [\"Scrypt\"], [\"SHA-256\"], [\"X11\"], [\"Scrypt\"], [\"Scrypt\"], [\"X11\"], [\"Scrypt\"], [\"PoS\"], [\"X11\"], [\"SHA-256\"], [\"DPoS\"], [\"Scrypt\"], [\"Scrypt\"], [\"NeoScrypt\"], [\"X13\"], [\"DPoS\"], [\"DPoS\"], [\"SHA-256\"], [\"PoS\"], [\"PoS\"], [\"SHA-256\"], [\"Scrypt\"], [\"Scrypt\"]], \"hovertemplate\": \"<b>%{hovertext}</b><br><br>class=%{marker.color}<br>PC 3=%{x}<br>PC 2=%{y}<br>PC 1=%{z}<br>Algorithm=%{customdata[0]}<extra></extra>\", \"hovertext\": [\"42 Coin\", \"404Coin\", \"EliteCoin\", \"Dash\", \"Bitshares\", \"BitcoinDark\", \"PayCoin\", \"KoboCoin\", \"Aurora Coin\", \"BlueCoin\", \"EnergyCoin\", \"BitBar\", \"CryptoBullion\", \"CasinoCoin\", \"Diamond\", \"Exclusive Coin\", \"FlutterCoin\", \"HoboNickels\", \"HyperStake\", \"IOCoin\", \"MaxCoin\", \"MintCoin\", \"MazaCoin\", \"Nautilus Coin\", \"NavCoin\", \"OpalCoin\", \"Orbitcoin\", \"PotCoin\", \"PhoenixCoin\", \"Reddcoin\", \"SuperCoin\", \"SyncCoin\", \"TeslaCoin\", \"TittieCoin\", \"TorCoin\", \"UnitaryStatus Dollar\", \"UltraCoin\", \"VeriCoin\", \"X11 Coin\", \"Crypti\", \"StealthCoin\", \"ZCC Coin\", \"BurstCoin\", \"StorjCoin\", \"Neutron\", \"FairCoin\", \"RubyCoin\", \"Kore\", \"Dnotes\", \"8BIT Coin\", \"Sativa Coin\", \"Ucoin\", \"Vtorrent\", \"IslaCoin\", \"Nexus\", \"Droidz\", \"Squall Coin\", \"Diggits\", \"Paycon\", \"Emercoin\", \"EverGreenCoin\", \"Decred\", \"EDRCoin\", \"Hitcoin\", \"DubaiCoin\", \"PWR Coin\", \"BillaryCoin\", \"GPU Coin\", \"EuropeCoin\", \"ZeitCoin\", \"SwingCoin\", \"SafeExchangeCoin\", \"Nebuchadnezzar\", \"Ratecoin\", \"Revenu\", \"Clockcoin\", \"VIP Tokens\", \"BitSend\", \"Let it Ride\", \"PutinCoin\", \"iBankCoin\", \"Frankywillcoin\", \"MudraCoin\", \"Lutetium Coin\", \"GoldBlocks\", \"CarterCoin\", \"BitTokens\", \"MustangCoin\", \"ZoneCoin\", \"RootCoin\", \"BitCurrency\", \"Swiscoin\", \"BuzzCoin\", \"Opair\", \"PesoBit\", \"Halloween Coin\", \"CoffeeCoin\", \"RoyalCoin\", \"GanjaCoin V2\", \"TeamUP\", \"LanaCoin\", \"ARK\", \"InsaneCoin\", \"EmberCoin\", \"XenixCoin\", \"FreeCoin\", \"PLNCoin\", \"AquariusCoin\", \"Creatio\", \"Eternity\", \"Eurocoin\", \"BitcoinFast\", \"Stakenet\", \"BitConnect Coin\", \"MoneyCoin\", \"Enigma\", \"Russiacoin\", \"PandaCoin\", \"GameUnits\", \"GAKHcoin\", \"Allsafe\", \"LiteCreed\", \"Klingon Empire Darsek\", \"Internet of People\", \"KushCoin\", \"Printerium\", \"Impeach\", \"Zilbercoin\", \"FirstCoin\", \"FindCoin\", \"OpenChat\", \"RenosCoin\", \"VirtacoinPlus\", \"TajCoin\", \"Impact\", \"Atmos\", \"HappyCoin\", \"MacronCoin\", \"Condensate\", \"Independent Money System\", \"ArgusCoin\", \"LomoCoin\", \"ProCurrency\", \"GoldReserve\", \"GrowthCoin\", \"Phreak\", \"Degas Coin\", \"HTML5 Coin\", \"Ultimate Secure Cash\", \"QTUM\", \"Espers\", \"Denarius\", \"Virta Unique Coin\", \"Bitcoin Planet\", \"BritCoin\", \"Linda\", \"DeepOnion\", \"Signatum\", \"Cream\", \"Monoeci\", \"Draftcoin\", \"Stakecoin\", \"CoinonatX\", \"Ethereum Dark\", \"Obsidian\", \"Cardano\", \"Regalcoin\", \"TrezarCoin\", \"TerraNovaCoin\", \"Rupee\", \"WomenCoin\", \"Theresa May Coin\", \"NamoCoin\", \"LUXCoin\", \"Xios\", \"Bitcloud 2.0\", \"KekCoin\", \"BlackholeCoin\", \"Infinity Economics\", \"Magnet\", \"Lamden Tau\", \"Electra\", \"Bitcoin Diamond\", \"Cash & Back Coin\", \"Bulwark\", \"Kalkulus\", \"GermanCoin\", \"LiteCoin Ultra\", \"PhantomX\", \"Digiwage\", \"Trollcoin\", \"Litecoin Plus\", \"Monkey Project\", \"TokenPay\", \"My Big Coin\", \"Unified Society USDEX\", \"Tokyo Coin\", \"LitecoinCash\", \"Stipend\", \"Pushi\", \"Ellerium\", \"Velox\", \"Ontology\", \"Bitspace\", \"Briacoin\", \"Ignition\", \"MedicCoin\", \"Bitcoin Green\", \"Deviant Coin\", \"Abjcoin\", \"Semux\", \"Carebit\", \"Zealium\", \"Proton\", \"iDealCash\", \"Bitcoin Incognito\", \"HollyWoodCoin\", \"Swisscoin\", \"Xt3ch\", \"TheVig\", \"EmaratCoin\", \"Dekado\", \"Lynx\", \"Poseidon Quark\", \"BitcoinWSpectrum\", \"Muse\", \"Trivechain\", \"Dystem\", \"Giant\", \"Peony Coin\", \"Absolute Coin\", \"Vitae\", \"TPCash\", \"ARENON\", \"EUNO\", \"MMOCoin\", \"Ketan\", \"XDNA\", \"PAXEX\", \"ThunderStake\", \"Kcash\", \"Bettex coin\", \"BitMoney\", \"Junson Ming Chan Coin\", \"HerbCoin\", \"PirateCash\", \"Oduwa\", \"Galilel\", \"Crypto Sports\", \"Credit\", \"Dash Platinum\", \"Nasdacoin\", \"Beetle Coin\", \"Titan Coin\", \"Award\", \"Insane Coin\", \"ALAX\", \"LiteDoge\", \"TruckCoin\", \"OrangeCoin\", \"BitstarCoin\", \"NeosCoin\", \"HyperCoin\", \"PinkCoin\", \"AudioCoin\", \"IncaKoin\", \"Piggy Coin\", \"Genstake\", \"XiaoMiCoin\", \"CapriCoin\", \" ClubCoin\", \"Radium\", \"Creditbit \", \"OKCash\", \"Lisk\", \"HiCoin\", \"WhiteCoin\", \"FriendshipCoin\", \"Triangles Coin\", \"EOS\", \"Oxycoin\", \"TigerCash\", \"Particl\", \"Nxt\", \"ZEPHYR\", \"Gapcoin\", \"BitcoinPlus\"], \"legendgroup\": \"0\", \"marker\": {\"color\": [0, 0, 0, 0, 0, 0, 0, 0, 0, 0, 0, 0, 0, 0, 0, 0, 0, 0, 0, 0, 0, 0, 0, 0, 0, 0, 0, 0, 0, 0, 0, 0, 0, 0, 0, 0, 0, 0, 0, 0, 0, 0, 0, 0, 0, 0, 0, 0, 0, 0, 0, 0, 0, 0, 0, 0, 0, 0, 0, 0, 0, 0, 0, 0, 0, 0, 0, 0, 0, 0, 0, 0, 0, 0, 0, 0, 0, 0, 0, 0, 0, 0, 0, 0, 0, 0, 0, 0, 0, 0, 0, 0, 0, 0, 0, 0, 0, 0, 0, 0, 0, 0, 0, 0, 0, 0, 0, 0, 0, 0, 0, 0, 0, 0, 0, 0, 0, 0, 0, 0, 0, 0, 0, 0, 0, 0, 0, 0, 0, 0, 0, 0, 0, 0, 0, 0, 0, 0, 0, 0, 0, 0, 0, 0, 0, 0, 0, 0, 0, 0, 0, 0, 0, 0, 0, 0, 0, 0, 0, 0, 0, 0, 0, 0, 0, 0, 0, 0, 0, 0, 0, 0, 0, 0, 0, 0, 0, 0, 0, 0, 0, 0, 0, 0, 0, 0, 0, 0, 0, 0, 0, 0, 0, 0, 0, 0, 0, 0, 0, 0, 0, 0, 0, 0, 0, 0, 0, 0, 0, 0, 0, 0, 0, 0, 0, 0, 0, 0, 0, 0, 0, 0, 0, 0, 0, 0, 0, 0, 0, 0, 0, 0, 0, 0, 0, 0, 0, 0, 0, 0, 0, 0, 0, 0, 0, 0, 0, 0, 0, 0, 0, 0, 0, 0, 0, 0, 0, 0, 0, 0, 0, 0, 0, 0, 0, 0, 0, 0, 0, 0, 0, 0, 0, 0, 0, 0, 0, 0, 0, 0, 0, 0, 0, 0, 0, 0, 0], \"coloraxis\": \"coloraxis\", \"symbol\": \"circle\"}, \"mode\": \"markers\", \"name\": \"0\", \"scene\": \"scene\", \"showlegend\": true, \"type\": \"scatter3d\", \"x\": [-0.5195833323129145, -0.5200101924304936, -0.5918305064877095, -0.464631759786889, 0.05478925880129757, -0.3760816641199081, -0.09451019005408437, -0.5774611521932917, -0.5195912909218291, -0.5198142377133971, -0.5196280518392093, -0.5195833885740594, -0.5195837915106695, 0.2104978411547066, -0.38639293753573417, -0.05455281943703149, -0.286157096858405, -0.5196255644972793, -0.183662047135393, -0.46463489205320235, -0.6412910085713086, -0.24574669990309597, -0.3768632893280101, -0.2380159430879949, -0.5555749603132325, -0.5555564526965175, -0.2862681318987987, -0.5196985283731163, -0.519618206371399, -0.5302362575704002, -0.18307051963500454, -0.46462668292593057, 0.061238983150739695, -0.2821502517668417, -0.46462801887330235, -0.5201132607531508, -0.5196097485593005, -0.3579442025241977, -0.46462965714178206, 0.06123997143241215, -0.5555629709182579, -0.5197187240930533, 1.1962211245898409, -0.0808123495829662, -0.3760991663574365, -0.3864107092553409, -0.23801862147446662, -0.5555526593621567, -0.23811301421992062, -0.5195838656900298, -0.5555543400991468, -0.1830547028031447, -0.5195891815893761, -0.4646272324784756, -0.5715912047247504, -0.65574134959308, -0.09877504932789835, -0.23805324314900342, -0.555563399157489, -0.3761766615917397, -0.5774303685942956, -0.38664669974618693, -0.37608252928490005, -0.47078946208196637, -0.3760821210249486, -0.5640245052453098, -0.5195900301142651, -0.2380414928005575, -0.46466180403977136, -0.2595234247468315, -0.376084255392455, 0.22734228266085663, -0.05455965553881802, -0.46468169911153595, -0.3760980121569486, -0.3761283026347316, -0.5604030584443236, -0.4646468889582234, -0.11894923041232336, -0.5200420281365973, -0.5195885953232476, -0.5196278324863152, -0.2739944954427921, -0.18334445934131696, -0.46463641883738893, -0.5196063633718946, -0.3760813305207557, -0.46462716623553146, -0.5195859844435088, -0.5195840372266078, -0.23807037305851836, -0.34103003959591205, -0.6045429637821099, -0.054583697927528735, -0.5195955141344725, -0.4648452842754837, -0.05460806195507175, -0.2739774682782902, -0.5983654076256055, -0.05458179638630777, -0.5968021914233954, -0.215394279647405, -0.4646357963923841, -0.5891220822078738, -0.46462839715442644, -0.054573005596444076, -0.5195926878503365, -0.5195876502260044, -0.05455965553881802, -0.46463378482889994, -0.376085544561786, -0.5195933819888992, -0.23430663784539107, -0.5195896440855814, -0.5196404013638973, -0.46462738652788504, -0.5195981291175621, -0.25294970351723356, -0.5195856553155598, -0.5195848078267012, -0.2007742747646866, -0.23005535431705307, -0.5196328479840202, -0.37608203209560415, -0.46462950228115574, -0.5195892604467521, -0.519585234348116, -0.23801429376548908, -0.25107286000813017, -0.2739828193051182, -0.5200283342151103, -0.2380246529023121, -0.4646396269938988, -0.640063468579472, -0.46467586170328506, -0.054600142131676785, -0.46464266439898344, -0.05472927278881782, -0.46471170114278954, -0.5195870145048056, -0.5195860837395695, -0.5196651279106876, -0.10066239222095784, -0.46463618684764235, -0.23827921948822228, -0.05455734298949253, -0.5195996632745843, -0.5995435583866738, -0.09452489913883436, -0.1189769734646786, -0.7867041978039367, -0.5603677202857688, -0.5603980543817348, -0.7404090083158075, -0.555561122042676, -0.5269508477686301, -0.5555604517921595, -0.08605899334776818, -0.7404237355012839, -0.4646320258614416, -0.2380169455382371, -0.05455723646716071, -0.5195943707809871, -0.5195852013022949, 0.05606282580758408, -0.17529986240946016, -0.46463152506225713, -0.28636566805260283, -0.5195850308826249, -0.062221857077361296, -0.5392332710553973, -0.3761210118048427, -0.5606670269698473, -0.5629555101607522, -0.5195858273574183, -0.4823713008541455, -0.13439872188125318, -0.519590485175911, -0.09850982820363485, -0.4646523157323625, -0.2154902541842839, -0.5731337163411975, -0.5556347780412839, -0.5196407989195935, -0.2787978748662449, -0.20077702232338474, -0.5254488086694512, -0.5195986338923535, -0.4646471788799769, -0.20078894257023422, -0.5198715553978598, -0.519584568850154, -0.183055408514151, -0.11894194340135088, -0.27617961808169994, -0.5196876070386974, -0.27412533472167155, 3.5175870881636153, -0.4099516763126004, -0.464629510527021, -0.39945151017327224, -0.2380281549191929, -0.0661024456130423, -0.5603744793534075, -0.5195838844306268, -0.5195841699442335, -0.23814668268572375, -0.12984584659858914, -0.05456588721468567, -0.5195893711678815, -0.2097265529978775, -0.48241092033754507, -0.054561309228613804, -0.05570450916154626, -0.5205116088180467, -0.03360038488732106, -0.2380249305089162, -0.5241223518872361, -0.23801510661993686, -0.5958165921566052, -0.5195980368045249, -0.29586706629875964, -0.40196518296817185, -0.2008232646311508, -0.0945340015350842, -0.1470696140896073, -0.33729397995205174, -0.20077351607218064, -0.4823463893256312, -0.2393867646228846, -0.3437948960128489, -0.2008013931020907, -0.5196669098936613, -0.18306358415367976, -0.46464194497060946, -0.2380691226730198, -0.05457128379179868, -0.4253689345877902, -0.1830618914032926, -0.5214375574902422, 0.3702071159531478, -0.11787841879867726, -0.0856671690249644, -0.1893059728159242, -0.4823610570370882, 0.16626031318586362, -0.5195904161706946, -0.4823520087492031, -0.20077102274897846, -0.5368897467511878, -0.18305396093562143, -0.5195976542254731, -0.3995595596736043, -0.5965301489103151, -0.4646665637922069, -0.464637770732914, -0.21578976048925022, -0.5280065192947986, -0.46471483093517524, -0.5196009404365779, -0.5195952376136942, -0.09450812090562374, -0.519586832156715, -0.4648260550480471, -0.5207966649107658, -0.38261398767835947, -0.464887897465437, -0.5196063597829693, -0.5197629016179892, -0.46471683149237825, -0.519634045467994, -0.05455287862054325, -0.18984291747177456, -0.37611510610426185, -0.21540142110760643, -0.242459572189517, -0.5196993922685285, -0.2862719715737925, -0.555551006006237, -0.21571561219990731, -0.21575261881978577, -0.09494981284020247, -0.054554833547208595, 0.20770682320051215, -0.1636780467866277, -0.5196091615378189, -0.23800887120332787], \"y\": [1.0888779028306588, 1.0888162508699513, 1.5619664974020278, 1.200159438435636, 1.4954302722348825, 0.7915255866927793, 0.5903686042921209, 1.883633395757257, 1.0888722677696827, 1.089033009431337, 1.088907942400167, 1.0888776132185853, 1.0888775564520565, 0.6832698578707332, 0.9119675720005559, 1.5770989037199579, 0.3275967405018156, 1.088827687894949, 0.9994148643027015, 1.200161542479516, 2.0345929578907764, 0.8929104407993739, 0.7904807895113891, 0.8877068474692819, 1.7433440699538052, 1.7433316377932742, 0.4974944969579614, 1.0886802408792287, 1.0888371522130744, 1.09603381487908, 0.9990175162834093, 1.2001704344978115, 0.09453324064847983, 1.5873724160422118, 1.200164783911617, 1.0881860904403138, 1.0888301611010964, 0.4608999125635033, 1.200168831277085, 0.09459806318607507, 1.7433360162921538, 1.088313985883733, 1.256872043554698, 1.5610447766608102, 0.7915072197646805, 0.911982378139604, 0.8877192423267108, 1.743321231320982, 0.8874552169746466, 1.0888782611446965, 1.7433236700539603, 0.9989937943298542, 1.0888687347253836, 1.2001708043047694, 2.28242606532605, 1.8872120155802476, 0.49764692283478407, 0.8876770124192608, 1.743303560755132, 0.7909489425717644, 1.8838246982056626, 0.8691349844520461, 0.7915261678518896, 1.1869235331288421, 0.7915334245463539, 1.462525778652857, 1.0888548976992136, 0.8875898463242968, 1.199942559363946, 0.8373331751727671, 0.7915155397821052, 0.6967431551036752, 1.5770903984694469, 1.2001582764928267, 0.7914051206216328, 0.7912275186983986, 1.4600341987732477, 1.2000929821000905, 1.5679283944384075, 1.0878762956115584, 1.08885240588827, 1.0888423086556493, 1.5420438541368509, 0.9987712847461481, 1.20014423187801, 1.0888344358018123, 0.791526017467496, 1.2001687952153122, 1.0888659322358456, 1.088878376371325, 0.8877540055277536, 0.5725276736732268, 1.866676748457777, 1.5770711858590882, 1.0888860857789258, 1.1993349807276859, 1.5771098174010174, 1.5421617519987278, 1.9860801026782229, 1.5769212544090165, 1.8696588936474343, 2.0726981486367726, 1.2001569110413377, 1.7653221147334495, 1.2001690632500954, 1.57707972021246, 1.0888589488152631, 1.0888532990518367, 1.5770903984694469, 1.2001359138901029, 0.7915295030381738, 1.0888630430368846, 0.6830119995701998, 1.0888638064870881, 1.088490144283777, 1.2001676334647986, 1.0887935419337367, 0.8764560817233454, 1.0888709500618827, 1.0888767226173701, 1.4635454168563744, 0.61556370466372, 1.088583732133998, 0.791526488737853, 1.2001662034064446, 1.0888687876964167, 1.0888648171665156, 0.8876803177466299, 0.5364018393109206, 1.5421574718943858, 1.088521960946045, 0.8877007492060692, 1.2001136437007038, 1.7593780022207228, 1.200131435078885, 1.577058466925602, 1.200115684023247, 1.5769554875107286, 1.1999001126286855, 1.0888664852506968, 1.0888610219699402, 1.088277983606763, 0.5453946232689414, 1.2001506246828608, 0.8865845664191467, 1.5770822964159819, 1.088820112171551, 1.8397583012609513, 0.590255642720691, 1.5679034818829016, 1.8321313173550835, 1.4600628501157453, 1.4600111914642582, 1.9050426449933444, 1.7433151284236084, 1.0610837005353264, 1.743321948371865, 1.533439740405747, 1.905052537716801, 1.2001677982047119, 0.8877067180553139, 1.5770615311826213, 1.088853719254842, 1.088876407889627, 1.4968728129803421, 1.4822563714883084, 1.2001560064436592, 0.4973005383695821, 1.0888687406488953, 0.6553226176541705, 1.085705798248321, 0.791500938405881, 1.4594846158900732, 1.7894878232945615, 1.0888658267160738, 1.6646046347432033, 1.692941604306336, 1.0888730233566595, 0.5871696996558243, 1.2000933531186575, 2.0725170438224763, 1.4489988088539427, 1.7432467300067411, 1.0887789835873605, 1.2588891388717576, 1.463543988159885, 1.0600747326334672, 1.0887899518232869, 1.2001514597441822, 1.4634865089743865, 1.0884821339775796, 1.088876114024009, 0.99899361351462, 1.567929065862952, 0.5693132231305872, 1.0887960190966455, 1.541738824693658, 0.8142846336425013, 0.9208041222862059, 1.2001559629436045, 1.1877642679081892, 0.8876444431140205, 1.4107164072100535, 1.460041195839297, 1.0888763091414133, 1.0888751912021102, 0.887477833164411, 1.4766016959170039, 1.5770500537355312, 1.0888623134315412, 2.1404272656804357, 1.664631248422607, 1.5770522174671122, 0.6435761359120535, 1.0861472746306997, 0.48526663673511883, 0.8877064538442547, 1.0852472954700865, 0.8876880672708632, 1.8738467576125704, 1.0888327717629847, 1.6826252676923874, 0.4931355980281404, 1.4631624862948691, 0.5903271269216522, 1.8031063710748232, 0.8447268406060928, 1.4635409780343642, 1.6647155004613503, 0.8775841640133121, 0.8564682088123932, 1.4635079696761175, 1.088279180621956, 0.9989768399788916, 1.2001479439591696, 0.8875829009685098, 1.5769737853839692, 0.9826401469925525, 0.9989462340249327, 1.078335893795313, 1.5401635022736115, 0.9866065265412794, 0.34101164815037016, 1.003206070440576, 1.6646933637835746, -0.04078293294851357, 1.0888689091693238, 1.6647101824229091, 1.4635442998012729, 1.051519351438798, 0.9989934924528076, 1.0888325147723492, 1.1875487080758522, 1.871117243091812, 1.1999221815391912, 1.2001582372692783, 2.0723907998356896, 1.07161578872308, 1.2002296470014147, 1.0887587580040519, 1.0888503696529375, 0.5903616480348063, 1.0888802538156386, 1.199976927819395, 1.082816865527038, 0.7958035410678503, 1.1996910373665957, 1.088883548189616, 1.0887365797348239, 1.2000947791318188, 1.0888071902760967, 1.5770930496995914, 0.6923676793809561, 0.791493697037229, 2.072680078982498, 0.8841479455934766, 1.0887594048632823, 0.49746014307719366, 1.7433279004928108, 2.072995856029756, 2.0730207145648185, 0.590017234854751, 1.5770946024751513, 1.7577216206835347, 0.8592952551570584, 1.0887315371827142, 0.8877120378924697], \"z\": [-0.335425767656451, -0.31877948131384115, 2.2906930979301663, -0.3988619263908597, -0.25900422391851463, -0.3232356840846616, -0.2751289108174861, -0.2497743144839646, -0.3350857076618785, -0.3276688507573507, -0.333923483107925, -0.335421710004015, -0.33540600613237487, 0.7850281118311913, -0.38882851294919973, -0.3573162546554101, -0.2657106135845328, -0.3334867631817592, -0.33059408581400745, -0.39875670264980917, -0.4159352051127167, -0.02743751959518308, -0.28658474110510335, -0.2870704309506097, -0.2893427359719001, -0.2899644713142951, -0.35088790131482883, -0.3297349562973361, -0.33382933264742476, 0.02244311579347627, -0.3504655559581264, -0.3991278558822094, -0.2500399503285477, -0.3270775705387932, -0.3990396245558723, -0.3106865793280774, -0.3341047887235021, -0.26695609136030507, -0.3990040998488233, -0.2505067154953881, -0.289745501530772, -0.3265418327046428, 0.320655948248921, -0.3659013551971094, -0.3224482828757254, -0.3882504891171402, -0.2870506054873938, -0.29003987479384236, -0.2817117975125263, -0.33540784984256516, -0.2899920842879892, -0.35091018539187097, -0.3351425571899431, -0.3991093988327422, -0.4041229816330199, -0.4417307085978973, -0.3556013605161311, -0.2854539774456899, -0.2895143328119245, -0.31580411891139987, -0.25221190253306613, -0.08723581043282912, -0.32320662017758073, -0.07698703363592037, -0.3232701950663482, -0.2410438153377154, -0.33501866790679513, -0.2853238703413927, -0.3962831286998159, 0.8646003662278783, -0.3230705924480659, 0.05504922891569475, -0.35699989310509445, -0.39695450081215383, -0.32181622251786335, -0.31948810017449086, -0.36231062490585597, -0.39784641335284465, -0.35003510038335967, -0.3113452697900157, -0.33505675101397275, -0.33349728659463884, -0.24062967577345223, -0.338414442281254, -0.39858401435271434, -0.3342618654996018, -0.3232512264961589, -0.3990986172038412, -0.335245624807894, -0.335402087331129, -0.2853120894307104, -0.21233724606889723, 0.01622095292387936, -0.35595810019892793, -0.3350165380002404, -0.3852807989642643, -0.3552870402662174, -0.24205796857848214, -0.43496709385298754, -0.3550377862701942, -0.29798822007338344, 3.739578411474957, -0.39869163751786213, 0.8413073017762519, -0.39905356661939406, -0.35642134854356283, -0.3349443866510626, -0.33509861664711504, -0.35699989310509445, -0.39862914334293975, -0.3231139978259088, -0.33494508763766717, -0.33921392075229917, -0.33509233510334047, -0.3306875840105623, -0.3990825455091583, -0.33430435751370374, 0.3555098839123774, -0.3352913665899895, -0.33536182407664006, -0.350478199576642, -0.36255161507220435, -0.33159453718262394, -0.32322765815209026, -0.39899259254867675, -0.3351399080958749, -0.3352667765177415, -0.28695752737574565, -0.25917922146328787, -0.24182607388884822, -0.31614094974868434, -0.2866987277688068, -0.39825945852477673, -0.4338422557609097, -0.3969988518285104, -0.3552483410829521, -0.3981574215029753, -0.34965431028338334, -0.39410397532766384, -0.3352101017761606, -0.3352093381412445, -0.32834231524690716, 0.2566648100875793, -0.39863516423090417, -0.2696249032225544, -0.3570342231617665, -0.33442191031611695, 0.880741992806313, -0.27382148132406675, -0.3488147936213197, 0.5766342120644625, -0.3638446090743141, -0.3623486592043863, -0.401832231078044, -0.2896775421022656, 0.12885742198076974, -0.289748191763602, -0.3431216393269774, -0.4013374935953301, -0.39890715216254874, -0.2870314401141938, -0.3569007951219558, -0.3348457432797342, -0.3353447722277971, -0.3170023728901037, 0.6481869787713975, -0.39884813334216596, -0.34589340605383595, -0.33530049268380896, -0.3205893853672768, 0.43307548767761816, -0.32157567725919234, -0.34863042694350954, -0.4106772507551962, -0.3352509018771086, -0.3969656841498175, -0.33299353559342515, -0.3351213614043837, -0.10180044203011972, -0.39764243083074985, 3.7444284006593826, 0.19503593236299382, -0.28642276281169554, -0.33258477703872263, -0.3155651242343466, -0.3503642212379676, 0.07839869420388558, -0.33426138644888564, -0.39822254702466625, -0.3495302132641737, -0.3218412619178942, -0.335366885629903, -0.35088214244642685, -0.35031674953034997, -0.2596644761251312, -0.33091694482193484, -0.23363293638739036, -0.5270545899197433, -0.3725506972884075, -0.3989244799080021, -0.32556068324654014, -0.28619272283270997, -0.3280096973906954, -0.36344412230118667, -0.33539421332036673, -0.33537595061650743, -0.2805807564154244, -0.3398231311226464, -0.35649572496385085, -0.3350928320531563, 3.934441727457906, -0.39563472763303287, -0.35668420069707174, -0.3296999166072126, -0.28203471979897776, -0.2821861980537698, -0.28672593604519125, -0.1387206175455937, -0.2869779129496928, -0.3632077833315583, -0.3345675978351755, -0.2035132325229896, 2.2259080453781337, -0.34607931932000724, -0.27394849368664176, 1.0276783420858344, -0.37708051699482853, -0.35047767278138825, -0.3986473469385603, -0.167904079677604, -0.3685612117941822, -0.3491986695787133, -0.3282824522288145, -0.35046008200740775, -0.39839837227989267, -0.2842268243493749, -0.3557854854156204, -0.3640833629958315, -0.3503218429883146, -0.19509412091330475, -0.279153516497963, -0.27751040884383427, 0.49564887839771116, -0.14099495376574117, -0.39794281506178086, -0.26642324005647994, -0.33509674764766395, -0.39839837037440373, -0.35059451323223834, 0.5702638794089916, -0.35093640800332454, -0.3345804499987643, -0.32002323648793674, -0.31799222358088464, -0.39596714850539994, -0.39862531253910666, 3.7566576878957143, 0.09928630622748952, -0.39616666140154644, -0.3339671189196368, -0.33479059156924623, -0.2751615676710011, -0.3353081958888203, -0.39026242913970266, -0.24914133670192398, -0.10306378157789739, -0.3860171001187002, -0.33458716007016776, -0.3276591477369049, -0.39519763980323064, -0.33302843168367097, -0.3572752455942647, -0.3766806546178105, -0.3217523920553334, 3.739969712090467, -0.0944687523678768, -0.33022621344955994, -0.350514390441026, -0.29014692434351214, 3.749831135044132, 3.7510743163697096, -0.2560789916498628, -0.35721115903707024, -0.3684430510798149, 2.473250439484507, -0.3334741608086424, -0.2873738154201181]}, {\"customdata\": [[\"SHA-256\"], [\"Ethash\"], [\"Scrypt\"], [\"CryptoNight-V7\"], [\"Ethash\"], [\"Equihash\"], [\"Multiple\"], [\"Scrypt\"], [\"X11\"], [\"Scrypt\"], [\"Multiple\"], [\"Scrypt\"], [\"SHA-256\"], [\"Scrypt\"], [\"Scrypt\"], [\"Quark\"], [\"Groestl\"], [\"Scrypt\"], [\"Scrypt\"], [\"Scrypt\"], [\"X11\"], [\"Multiple\"], [\"SHA-256\"], [\"Scrypt\"], [\"Scrypt\"], [\"Scrypt\"], [\"Scrypt\"], [\"Scrypt\"], [\"NeoScrypt\"], [\"Scrypt\"], [\"Scrypt\"], [\"Scrypt\"], [\"Scrypt\"], [\"SHA-256\"], [\"Scrypt\"], [\"Scrypt\"], [\"Scrypt\"], [\"Scrypt\"], [\"HybridScryptHash256\"], [\"Scrypt\"], [\"Scrypt\"], [\"SHA-256\"], [\"Scrypt\"], [\"Scrypt\"], [\"Scrypt\"], [\"Scrypt\"], [\"SHA-256\"], [\"SHA-256\"], [\"SHA-256\"], [\"SHA-256\"], [\"SHA-256\"], [\"X11\"], [\"Scrypt\"], [\"Lyra2REv2\"], [\"Scrypt\"], [\"SHA-256\"], [\"CryptoNight\"], [\"CryptoNight\"], [\"Scrypt\"], [\"Scrypt\"], [\"Scrypt\"], [\"Scrypt\"], [\"Scrypt\"], [\"Scrypt\"], [\"Stanford Folding\"], [\"Multiple\"], [\"QuBit\"], [\"Scrypt\"], [\"Scrypt\"], [\"M7 POW\"], [\"Scrypt\"], [\"SHA-256\"], [\"Scrypt\"], [\"X11\"], [\"Lyra2RE\"], [\"SHA-256\"], [\"X11\"], [\"Scrypt\"], [\"Scrypt\"], [\"Ethash\"], [\"Blake2b\"], [\"X11\"], [\"SHA-256\"], [\"Scrypt\"], [\"1GB AES Pattern Search\"], [\"Scrypt\"], [\"SHA-256\"], [\"X11\"], [\"Dagger\"], [\"Scrypt\"], [\"X11GOST\"], [\"Scrypt\"], [\"X11\"], [\"Scrypt\"], [\"X11\"], [\"Equihash\"], [\"CryptoNight\"], [\"SHA-256\"], [\"Multiple\"], [\"Scrypt\"], [\"SHA-256\"], [\"Scrypt\"], [\"Lyra2Z\"], [\"Ethash\"], [\"Equihash\"], [\"Scrypt\"], [\"X11\"], [\"X11\"], [\"CryptoNight\"], [\"Scrypt\"], [\"CryptoNight\"], [\"Lyra2RE\"], [\"X11\"], [\"CryptoNight-V7\"], [\"Scrypt\"], [\"X11\"], [\"Equihash\"], [\"Scrypt\"], [\"Lyra2RE\"], [\"Dagger-Hashimoto\"], [\"Scrypt\"], [\"NIST5\"], [\"Scrypt\"], [\"SHA-256\"], [\"Scrypt\"], [\"CryptoNight-V7\"], [\"Argon2d\"], [\"Blake2b\"], [\"Cloverhash\"], [\"CryptoNight\"], [\"X11\"], [\"Scrypt\"], [\"Scrypt\"], [\"X11\"], [\"X11\"], [\"CryptoNight\"], [\"Time Travel\"], [\"Scrypt\"], [\"Keccak\"], [\"X11\"], [\"SHA-256\"], [\"Scrypt\"], [\"Scrypt\"], [\"Scrypt\"], [\"Scrypt\"], [\"Scrypt\"], [\"Scrypt\"], [\"CryptoNight\"], [\"Equihash\"], [\"X11\"], [\"NeoScrypt\"], [\"Equihash\"], [\"Dagger\"], [\"Scrypt\"], [\"X11\"], [\"NeoScrypt\"], [\"Ethash\"], [\"NeoScrypt\"], [\"Multiple\"], [\"CryptoNight\"], [\"CryptoNight\"], [\"Ethash\"], [\"X11\"], [\"CryptoNight-V7\"], [\"Scrypt\"], [\"BLAKE256\"], [\"X11\"], [\"NeoScrypt\"], [\"NeoScrypt\"], [\"Scrypt\"], [\"X11\"], [\"SHA-256\"], [\"C11\"], [\"Ethash\"], [\"CryptoNight\"], [\"SkunkHash\"], [\"CryptoNight\"], [\"Scrypt\"], [\"Dagger\"], [\"Lyra2REv2\"], [\"Scrypt\"], [\"Scrypt\"], [\"X11\"], [\"Ethash\"], [\"CryptoNight\"], [\"Scrypt\"], [\"IMesh\"], [\"Equihash\"], [\"Lyra2Z\"], [\"X11\"], [\"CryptoNight\"], [\"NIST5\"], [\"Lyra2RE\"], [\"Tribus\"], [\"Lyra2Z\"], [\"CryptoNight\"], [\"CryptoNight Heavy\"], [\"CryptoNight\"], [\"Jump Consistent Hash\"], [\"CryptoNight\"], [\"X16R\"], [\"HMQ1725\"], [\"X11\"], [\"Scrypt\"], [\"CryptoNight-V7\"], [\"Cryptonight-GPU\"], [\"XEVAN\"], [\"CryptoNight Heavy\"], [\"SHA-256\"], [\"X11\"], [\"X16R\"], [\"Equihash\"], [\"Lyra2Z\"], [\"SHA-256\"], [\"CryptoNight\"], [\"Blake\"], [\"Blake\"], [\"Exosis\"], [\"Scrypt\"], [\"Equihash\"], [\"Equihash\"], [\"QuBit\"], [\"SHA-256\"], [\"X13\"], [\"SHA-256\"], [\"Scrypt\"], [\"NeoScrypt\"], [\"Blake\"], [\"Scrypt\"], [\"SHA-256\"], [\"Scrypt\"], [\"Groestl\"], [\"Scrypt\"], [\"Scrypt\"], [\"Multiple\"], [\"Equihash+Scrypt\"], [\"Ethash\"], [\"CryptoNight\"], [\"Equihash\"]], \"hovertemplate\": \"<b>%{hovertext}</b><br><br>class=%{marker.color}<br>PC 3=%{x}<br>PC 2=%{y}<br>PC 1=%{z}<br>Algorithm=%{customdata[0]}<extra></extra>\", \"hovertext\": [\"Bitcoin\", \"Ethereum\", \"Litecoin\", \"Monero\", \"Ethereum Classic\", \"ZCash\", \"DigiByte\", \"ProsperCoin\", \"Spreadcoin\", \"Argentum\", \"MyriadCoin\", \"MoonCoin\", \"ZetaCoin\", \"SexCoin\", \"Quatloo\", \"QuarkCoin\", \"Riecoin\", \"Digitalcoin \", \"Catcoin\", \"CannaCoin\", \"CryptCoin\", \"Verge\", \"DevCoin\", \"EarthCoin\", \"E-Gulden\", \"Einsteinium\", \"Emerald\", \"Franko\", \"FeatherCoin\", \"GrandCoin\", \"GlobalCoin\", \"GoldCoin\", \"Infinite Coin\", \"IXcoin\", \"KrugerCoin\", \"LuckyCoin\", \"Litebar \", \"MegaCoin\", \"MediterraneanCoin\", \"MinCoin\", \"NobleCoin\", \"Namecoin\", \"NyanCoin\", \"RonPaulCoin\", \"StableCoin\", \"SmartCoin\", \"SysCoin\", \"TigerCoin\", \"TerraCoin\", \"UnbreakableCoin\", \"Unobtanium\", \"UroCoin\", \"ViaCoin\", \"Vertcoin\", \"WorldCoin\", \"JouleCoin\", \"ByteCoin\", \"DigitalNote \", \"MonaCoin\", \"Gulden\", \"PesetaCoin\", \"Wild Beast Coin\", \"Flo\", \"ArtByte\", \"Folding Coin\", \"Unitus\", \"CypherPunkCoin\", \"OmniCron\", \"GreenCoin\", \"Cryptonite\", \"MasterCoin\", \"SoonCoin\", \"1Credit\", \"MarsCoin \", \"Crypto\", \"Anarchists Prime\", \"BowsCoin\", \"Song Coin\", \"BitZeny\", \"Expanse\", \"Siacoin\", \"MindCoin\", \"I0coin\", \"Revolution VR\", \"HOdlcoin\", \"Gamecredits\", \"CarpeDiemCoin\", \"Adzcoin\", \"SoilCoin\", \"YoCoin\", \"SibCoin\", \"Francs\", \"BolivarCoin\", \"Omni\", \"PizzaCoin\", \"Komodo\", \"Karbo\", \"ZayedCoin\", \"Circuits of Value\", \"DopeCoin\", \"DollarCoin\", \"Shilling\", \"ZCoin\", \"Elementrem\", \"ZClassic\", \"KiloCoin\", \"ArtexCoin\", \"Kurrent\", \"Cannabis Industry Coin\", \"OsmiumCoin\", \"Bikercoins\", \"HexxCoin\", \"PacCoin\", \"Citadel\", \"BeaverCoin\", \"VaultCoin\", \"Zero\", \"Canada eCoin\", \"Zoin\", \"DubaiCoin\", \"EB3coin\", \"Coinonat\", \"BenjiRolls\", \"ILCoin\", \"EquiTrader\", \"Quantum Resistant Ledger\", \"Dynamic\", \"Nano\", \"ChanCoin\", \"Dinastycoin\", \"DigitalPrice\", \"Unify\", \"SocialCoin\", \"ArcticCoin\", \"DAS\", \"LeviarCoin\", \"Bitcore\", \"gCn Coin\", \"SmartCash\", \"Onix\", \"Bitcoin Cash\", \"Sojourn Coin\", \"NewYorkCoin\", \"FrazCoin\", \"Kronecoin\", \"AdCoin\", \"Linx\", \"Sumokoin\", \"BitcoinZ\", \"Elements\", \"VIVO Coin\", \"Bitcoin Gold\", \"Pirl\", \"eBoost\", \"Pura\", \"Innova\", \"Ellaism\", \"GoByte\", \"SHIELD\", \"UltraNote\", \"BitCoal\", \"DaxxCoin\", \"AC3\", \"Lethean\", \"PopularCoin\", \"Photon\", \"Sucre\", \"SparksPay\", \"GunCoin\", \"IrishCoin\", \"Pioneer Coin\", \"UnitedBitcoin\", \"Interzone\", \"1717 Masonic Commemorative Token\", \"TurtleCoin\", \"MUNcoin\", \"Niobio Cash\", \"ShareChain\", \"Travelflex\", \"KREDS\", \"BitFlip\", \"LottoCoin\", \"Crypto Improvement Fund\", \"Callisto Network\", \"BitTube\", \"Poseidon\", \"Aidos Kuneen\", \"Bitrolium\", \"Alpenschillling\", \"FuturoCoin\", \"Monero Classic\", \"Jumpcoin\", \"Infinex\", \"KEYCO\", \"GINcoin\", \"PlatinCoin\", \"Loki\", \"Newton Coin\", \"MassGrid\", \"PluraCoin\", \"Motion\", \"PlusOneCoin\", \"Axe\", \"HexCoin\", \"Webchain\", \"Ryo\", \"Urals Coin\", \"Qwertycoin\", \"Project Pai\", \"Azart\", \"Xchange\", \"CrypticCoin\", \"Actinium\", \"Bitcoin SV\", \"FREDEnergy\", \"Universal Molecule\", \"Lithium\", \"Exosis\", \"Block-Logic\", \"Beam\", \"Bithereum\", \"SLICE\", \"BLAST\", \"Bitcoin Rhodium\", \"GlobalToken\", \"SolarCoin\", \"UFO Coin\", \"BlakeCoin\", \"Crypto Escudo\", \"Crown Coin\", \"SmileyCoin\", \"Groestlcoin\", \"Bata\", \"Pakcoin\", \"JoinCoin\", \"Vollar\", \"Reality Clash\", \"Beldex\", \"Horizen\"], \"legendgroup\": \"2\", \"marker\": {\"color\": [2, 2, 2, 2, 2, 2, 2, 2, 2, 2, 2, 2, 2, 2, 2, 2, 2, 2, 2, 2, 2, 2, 2, 2, 2, 2, 2, 2, 2, 2, 2, 2, 2, 2, 2, 2, 2, 2, 2, 2, 2, 2, 2, 2, 2, 2, 2, 2, 2, 2, 2, 2, 2, 2, 2, 2, 2, 2, 2, 2, 2, 2, 2, 2, 2, 2, 2, 2, 2, 2, 2, 2, 2, 2, 2, 2, 2, 2, 2, 2, 2, 2, 2, 2, 2, 2, 2, 2, 2, 2, 2, 2, 2, 2, 2, 2, 2, 2, 2, 2, 2, 2, 2, 2, 2, 2, 2, 2, 2, 2, 2, 2, 2, 2, 2, 2, 2, 2, 2, 2, 2, 2, 2, 2, 2, 2, 2, 2, 2, 2, 2, 2, 2, 2, 2, 2, 2, 2, 2, 2, 2, 2, 2, 2, 2, 2, 2, 2, 2, 2, 2, 2, 2, 2, 2, 2, 2, 2, 2, 2, 2, 2, 2, 2, 2, 2, 2, 2, 2, 2, 2, 2, 2, 2, 2, 2, 2, 2, 2, 2, 2, 2, 2, 2, 2, 2, 2, 2, 2, 2, 2, 2, 2, 2, 2, 2, 2, 2, 2, 2, 2, 2, 2, 2, 2, 2, 2, 2, 2, 2, 2, 2, 2, 2, 2, 2, 2, 2, 2, 2, 2, 2, 2, 2, 2, 2, 2, 2, 2, 2, 2, 2, 2, 2, 2, 2, 2, 2, 2], \"coloraxis\": \"coloraxis\", \"symbol\": \"diamond\"}, \"mode\": \"markers\", \"name\": \"2\", \"scene\": \"scene\", \"showlegend\": true, \"type\": \"scatter3d\", \"x\": [0.12805616829970579, 0.32927855177472765, -0.01546929859921167, 0.3336624357874143, 0.32925935044957644, 0.388838590460548, 0.2779867423489897, -0.015443345352276707, 0.03951143059436897, -0.015449194055893206, 0.2830687986862316, -0.04677928158247777, 0.12798868879584696, -0.015506794400060153, -0.01545037045184849, 0.021685500510686923, 0.11772755678271586, -0.015455619122064746, -0.015443872863245991, -0.015442317065583772, 0.03951382965691876, 0.27670579911188936, 0.11952830984104418, -0.021097850909429314, -0.015448847834690948, -0.015543537984081581, -0.015449231868951517, -0.015440867579199165, 0.21777389296595245, -0.01587675755370661, -0.01546911297829487, -0.015460569832951505, -0.05575516605524348, 0.1280550192036234, -0.015516231616197224, -0.015448190556159503, -0.01544004680951415, -0.015456827088936418, 0.2601800158813444, -0.015442460642901088, -0.017523544261187428, 0.12805732778904436, -0.015588668531924312, -0.015441650455206887, -0.01546873831231366, -0.015453014415019648, 0.12778721381098923, 0.12804473913059503, 0.12805263447992704, 0.12805703974615054, 0.12806430329990146, 0.03951667583037423, -0.015449825201862909, 0.16033257911381874, -0.015504661084758155, 0.12804648082453154, 0.29130974997383585, 0.3699266276049358, -0.015472895707213512, -0.015727464515399102, -0.015503087004567621, -0.015439815913937891, -0.015507926884995641, -0.015809147772693596, 0.3186188813880593, 0.2838218564714047, 0.2741035480351881, -0.015443495243770332, -0.017931017007430338, 0.3477936293484652, -0.015439810994179761, 0.12805815405340737, -0.022948048247284168, 0.03950271235931716, 0.34970582531163674, 0.128054650192354, 0.0395096359318105, -0.015468527675523164, -0.015487416207701906, 0.3293124892734314, 0.35775074824240316, 0.0395100425996536, 0.12805505258885436, -0.015532985728665329, 0.35334480103199933, -0.015471768495363135, 0.11839934628824074, 0.039493866432505326, 0.38873424229877285, -0.015453506418079969, 0.39577512710086027, -0.015443555356371466, 0.039510112474567476, -0.015439809645823886, 0.0395145734857764, 0.5914283326566393, 0.37324887915981725, 0.12806133318264673, 0.2833841931585136, -0.015498318263300094, 0.12806021920851512, -0.01544602432678573, 0.34137139237577696, 0.3293060214136777, 0.3888392334778827, -0.016327006876670904, 0.0391768758804082, 0.03947620734144771, 0.3732504685386868, -0.015440081727125701, 0.3732470972756714, 0.34971469065595373, 0.031160589465128313, 0.33364960178203484, -0.01544094159542848, 0.03942445888931552, 0.3888390845843146, -0.015483978613829425, 0.34970773536612904, 0.4160253603827915, -0.015789282751168886, -0.05622920803181365, -0.015449802375535818, 0.12738150827971184, -0.015450380279492212, 0.33363503015455764, 0.4107714307763749, 0.3697020793589537, 0.35936518872908696, 0.3724317713889848, 0.03949618407830063, -0.015447697965976302, -0.015447534276877856, 0.03950275423432697, 0.03951461892391047, 0.37324298449615334, 0.28868559627272694, -0.09101458533056879, 0.07758400557074319, 0.03938283306054094, 0.12805614343864194, -0.016296657832069926, -0.06740644280367061, -0.015444693936128108, -0.01545273337782753, -0.015459560147781947, -0.015459948898422995, 0.37324203220007335, 0.38523527898816284, 0.038388024180380544, 0.21787342564941492, 0.3888350222430169, 0.388713655506058, -0.015484031884030861, 0.03942487833918324, 0.2178711537688072, 0.32929019551991007, 0.2178724283748841, 0.2836165975687015, 0.3593085719786096, 0.37324988245718893, 0.3283122578829269, 0.03944304094928212, 0.33342676983033376, -0.017288148094674004, 0.09922309911660866, 0.039513961814109856, 0.2178725775382906, 0.21772739314863757, -0.01546128661057909, 0.03951215659075555, 0.12805542280357934, 0.09419158025549063, 0.10674775526944243, 0.27232823706090986, 0.3252129540550348, 0.3731764461478772, -0.01988955453411243, 0.38869160066640807, 0.1600343075779808, -0.01544732264554648, -0.022207661876239945, 0.03939952456518183, 0.3286972130391907, 0.37314183507873827, -0.015442728283897639, 0.3418721669126341, 0.38881134456841715, 0.3413414697493828, 0.03949739689076488, 0.3732452158448891, -0.056230961587375755, 0.34971219131105497, 0.2982376267304254, 0.3413724934163018, 0.3732035388478512, 0.379366311688028, 0.34322964316953053, 0.3008894944159242, 0.3729673954415624, 0.16686521685837358, 0.30318270172220285, 0.03951358625253571, -0.015441854220856317, 0.33352020045464287, 0.3543858794715842, 0.10467483849188883, 0.3281537881281975, 0.12712989267846095, 0.039513251493184506, 0.16685826559541755, 0.38668373276371404, 0.3413640788259552, 0.12805614455606004, 0.3719146320503773, 0.3444319636625868, 0.34443329891707775, 0.42459232412560516, -0.015462151038724028, 0.3888085707116686, 0.3888313270450155, 0.2740930026340076, 0.12804017046865634, -0.051407744746158966, 0.12801993818829302, -0.023466052800644076, 0.21616084276698957, 0.3438613314122681, -0.015804668452361528, 0.12805261575342236, -0.030270698113741803, 0.11771721256392464, -0.015441779433074688, -0.01547971155395078, 0.2838440782008702, 0.34749509065445006, 0.32930678574671707, 0.3727820590908863, 0.38883862190042373], \"y\": [-1.3561249273347986, -2.084078473702979, -1.0588122882527584, -2.2086750385054885, -2.0842030969922987, -1.9872238959791058, -1.861732841923763, -1.0587884654514053, -0.9474940198428646, -1.0588126958405488, -1.8527042067335449, -1.2891931274020916, -1.3561770400560687, -1.0588958085400286, -1.058835480720933, -0.48302288159361456, -1.2357240906018174, -1.0587980108009758, -1.0587881111053463, -1.0587840089537077, -0.9474943216422641, -1.8579615208160505, -1.364134882394997, -1.063817064075074, -1.058784769257252, -1.0589037339818848, -1.0587917147929005, -1.058783735636783, -1.6503098803825913, -1.0594138824805388, -1.0588032448445504, -1.0588104541776893, -1.0910266454110473, -1.356124155450052, -1.0588995677853512, -1.0587845559083693, -1.0587778131112804, -1.0587931614795245, -2.1458525354663074, -1.058781856235311, -1.067200336613835, -1.3561257062010212, -1.0588977842225922, -1.0587896039681999, -1.0589213720363635, -1.0588017473236695, -1.356512029038899, -1.3561342842957755, -1.3561363056981668, -1.3561641496882575, -1.3561168034480737, -0.9474844459567168, -1.0587854224562965, -1.2911966309682708, -1.0589073400829137, -1.3561341366821535, -2.4112053257184076, -2.349762364400726, -1.0588237026870762, -1.0596840328299073, -1.0588435431197112, -1.0587788051274227, -1.0588361100552066, -1.0591838560553635, -2.2253258898075168, -1.8519003318700995, -1.5320499912453136, -1.0587768203880372, -1.0636523041772497, -2.2456475462716954, -1.0587774931234681, -1.3561262612293299, -1.113981049637974, -0.9474966767561458, -2.1722139133386467, -1.3561453609173602, -0.9474934691743687, -1.0588954761359624, -1.058908825494179, -2.0841123420012293, -2.2701009703612933, -0.9474904680263124, -1.3561241778759845, -1.0588520204242002, -2.0389557743455016, -1.058810629144191, -1.363786649533428, -0.9475241327260618, -2.2007677060445934, -1.0588781349961494, -2.1315252949691894, -1.0587876695209288, -0.9474964087393685, -1.0587774920449649, -0.9474994053438657, -1.1730502094932451, -2.3454519362927986, -1.356121020364654, -1.8523921761446005, -1.05886875903424, -1.3561208629549146, -1.0587925596740224, -2.254914077553758, -2.0841140870052666, -1.987224327914498, -1.0647297692958861, -0.9475836234081016, -0.9476065709607784, -2.3454602074334234, -1.058778683077761, -2.3454605623037126, -2.1721833342023436, -1.0073577925179142, -2.2087875673284523, -1.0587785283314477, -0.9480773648571393, -1.9872216084419814, -1.0588129050391828, -2.1721858656152437, -2.2136209552592767, -1.0611617919723124, -0.6876138252993842, -1.0587936369484654, -1.357295144341965, -1.0588171379279117, -2.2087253899797923, -2.3088843637933487, -2.2783519019625107, -2.223213018675077, -2.346206238084057, -0.9475361673868768, -1.0587844131993838, -1.058821014271213, -0.9475143862124308, -0.9474954411958333, -2.3454767906730836, -2.2722823832238332, -1.1389838806634756, -1.167249731403185, -0.9481148898492451, -1.35612491063482, -1.0650775877144922, -1.0238694319217818, -1.0587869047003406, -1.0588234156439644, -1.0588293077070419, -1.058829046570751, -2.3454989984613235, -1.9985418274049451, -0.9479050495624581, -1.650174386712396, -1.987221499092792, -2.2008365909646215, -1.0588128692558778, -0.9476519850272169, -1.6501846481688924, -2.084269657095336, -1.650176860158176, -1.8521946631008166, -2.391744674031235, -2.3454542473998172, -2.089978022876087, -0.9477951582319919, -2.2091712585583987, -1.0608098199647489, -1.3251689657866565, -0.9474955891716598, -1.650169887825028, -1.6503860426548695, -1.058804572883206, -0.9474964721098974, -1.3561238804045443, -1.2268530865932636, -0.137615456047166, -2.932517732562155, -2.2778214297120147, -2.3456167663703615, -1.0623366916208992, -2.2007849027693642, -1.2916616142035082, -1.058798236191428, -1.0662849727607484, -0.9477331836801683, -2.087944585682948, -2.346028346687273, -1.058788879956053, -2.2060685136169655, -1.9872376823734257, -2.2550764226698266, -0.9475369820719595, -2.3454549763839543, -0.687594801026577, -2.172192316498377, -2.284412400709346, -2.2549076791406426, -2.345807849837326, -2.296613153556684, -2.445775475317576, -2.3284127720202816, -2.3459111699807425, -1.302899079242148, -2.185849127025695, -0.9474961227316671, -1.0587901908891977, -2.20972550643183, -2.2232699002029914, -0.9599774165738926, -2.3829165857989336, -1.3568641804692751, -0.9474985173189852, -1.3029454396729172, -1.9907396229740737, -2.254950159292696, -1.3561249113854255, -2.349840431988588, -2.186864113706931, -2.1868126927700064, -2.192071003512098, -1.0588406646020143, -1.987362076860365, -1.9872254908949407, -1.5321083939588025, -1.356142340229096, -0.4043282117559175, -1.3561968554106627, -1.1176277596295963, -1.6516257643874364, -2.1909960102648767, -1.0591868649586866, -1.356136293118972, -1.0815579033349394, -1.2357308942014524, -1.0587790395059222, -1.0588694702068124, -1.8519170925385948, -2.291535396115391, -2.084113475641216, -2.3460487649736037, -1.987223917098278], \"z\": [-0.1500233290353774, -0.1537147252331733, -0.16104540078189863, -0.14495344225708165, -0.15215919859003868, -0.14211910430419064, 0.16111095754654106, -0.16219040695564227, -0.2258338995985858, -0.16180749552228604, -0.09199044007902403, 2.555292755509518, -0.14711133124330877, -0.1590660676960335, -0.16161189275963586, -0.22082310222261176, -0.21468417028234, -0.16166030589512215, -0.1621726860238713, -0.1622590289249501, -0.22592316377692218, 0.18487032539629472, 0.22741482818380315, 0.08620441238754648, -0.16200555939582165, -0.15761583982101898, -0.16194496615913753, -0.1623159781187759, -0.17301226683213122, -0.1415623585159314, -0.16111233558314836, -0.16138959303025385, 1.5847432831700234, -0.1499847268935748, -0.1586821794741977, -0.16203197532564628, -0.1623864120916683, -0.16164645971722305, -0.1337920524576364, -0.1622678196142359, -0.027365523857875274, -0.1500622803230177, -0.15593842843765035, -0.1622473444547392, -0.1603445043045779, -0.16173465270941415, -0.13722919897356928, -0.14952660453779873, -0.14981356699242473, -0.1497968004069793, -0.15038657684991844, -0.22609681842333426, -0.16196405491966975, -0.19486001044496334, -0.1590708739472255, -0.1495938373026621, 3.8508036673676127, 0.4533584217764947, -0.16083299238849086, -0.1454530051292831, -0.1595531333550523, -0.1623886277136601, -0.15941823238774314, -0.14565722418153343, -0.1473856579385536, -0.125959582232072, -0.19038453893688656, -0.16226180335093712, -0.035355361386222764, -0.1176284106671671, -0.16239750124074587, -0.1500900374224099, 0.4887077817054907, -0.2254846602067516, -0.14065302397588017, -0.14983029451322266, -0.2257692749756351, -0.1605239659081646, -0.15971704870814715, -0.15478150380510608, 0.3723913292663031, -0.22580461463274695, -0.1499858484198235, -0.15835963583095275, -0.13814270935613582, -0.16096242836285343, 0.2680559812522973, -0.2249663763739698, -0.13475406005547244, -0.1612101971782233, -0.15032764025854492, -0.16218768783967275, -0.22576794109388482, -0.16239755967374647, -0.2259178020065087, -0.23123918893759224, 0.2984392367716148, -0.15024567225252367, -0.10605416224818029, -0.15956759333888382, -0.15020433792796523, -0.16206138998523512, -0.15509989491387155, -0.15452390799946503, -0.1421407054972948, -0.08923965147134534, -0.21251392723271037, -0.2237488118737829, 0.2984335361841324, -0.16237932401616328, 0.29856413127094805, -0.14119272399242846, 0.48817858401271363, -0.14372020740971472, -0.16234763845121894, -0.2186632765934528, -0.142153046257124, -0.16048287747806925, -0.14091137937692302, -0.1647208945229725, -0.13331759923938763, -0.19048490896196738, -0.16191053762053925, -0.11661106303668253, -0.16173296091043035, -0.14357754793542069, -0.1706216507340171, -0.027620185562306773, -0.16795813728115758, 0.33451668461573897, -0.22497486371833902, -0.16205165869106947, -0.16181556109599426, -0.22536900429208004, -0.2259457759176033, 0.298828027816545, -0.14182339565976093, 3.243550535204774, -0.13097059410747366, -0.21683135460222222, -0.15002249386567912, -0.08809135493537634, 1.583340073200793, -0.16214943897782846, -0.1616018842960947, -0.16130317884818202, -0.16129011935940363, 0.2990112848868904, 0.06988635815977806, -0.18037730013188863, -0.1776956334347013, -0.1419992354424808, -0.1335148557286464, -0.16048108794636357, -0.22149554209545513, -0.177541271286388, -0.1528918962550366, -0.17764132037143757, -0.11620268913298397, 1.1352299190437374, 0.2984163716500657, -0.07789701184161389, -0.22123855678047466, -0.13270319604244288, -0.078629835565934, 1.0897855480162597, -0.22591979922137687, -0.17769315634695074, -0.17073912876203054, -0.16140126446921116, -0.22584528138698162, -0.15000190115754147, -0.19950035671956276, -0.279971085151184, 8.024325359468055, -0.16046773140574228, 0.3022859370765098, 0.030438739415597476, -0.13301808328411432, -0.18043500624498532, -0.16197441839942722, 0.1447617942242794, -0.21999347245960368, -0.10600378401504457, 0.3063275173715335, -0.1622111364329093, -0.15985568073556736, -0.14099137282137525, -0.15288677657516037, -0.22501560631552797, 0.2985987197749652, -0.19054415614653697, -0.1410381778454209, -0.14052335049570927, -0.15518414132431788, 0.302520413616613, 0.5898528258490447, 2.104606858981719, -0.14951018868056126, 0.3121875526865703, -0.20484371133999593, -0.10687207295853844, -0.2259019800152144, -0.16223570721917763, -0.1325878682805365, -0.14581325917365376, -0.15130786520014683, 3.1094075993440495, -0.10989267950457603, -0.22587339166835316, -0.2042723414356025, -0.036870007607518386, -0.15458279538474742, -0.15002253140364682, 0.3782499699294877, -0.12808641695793055, -0.12847765336978367, -0.15991143259226812, -0.16112942872419858, -0.1400622753283647, -0.14183223859461133, -0.1895967168202983, -0.1492994730430696, -0.11710402271720124, -0.148168892283397, 0.5325568456662305, -0.10293845524294677, -0.0790230810752069, -0.1458077001614055, -0.14981293790387015, 0.552603665926929, -0.21424562320302307, -0.16231238209331272, -0.1602706993096508, -0.12669394773545312, -0.11707810669312704, -0.15455703150650082, 0.3201488731073654, -0.14212016047916953]}, {\"customdata\": [[\"VeChainThor Authority\"], [\"Proof-of-BibleHash\"], [\"Proof-of-Authority\"], [\"ECC 256K1\"], [\"Leased POS\"]], \"hovertemplate\": \"<b>%{hovertext}</b><br><br>class=%{marker.color}<br>PC 3=%{x}<br>PC 2=%{y}<br>PC 1=%{z}<br>Algorithm=%{customdata[0]}<extra></extra>\", \"hovertext\": [\"Vechain\", \"BiblePay\", \"Poa Network\", \"Acute Angle Cloud\", \"Waves\"], \"legendgroup\": \"3\", \"marker\": {\"color\": [3, 3, 3, 3, 3], \"coloraxis\": \"coloraxis\", \"symbol\": \"square\"}, \"mode\": \"markers\", \"name\": \"3\", \"scene\": \"scene\", \"showlegend\": true, \"type\": \"scatter3d\", \"x\": [8.46503209537817, 6.837784347155642, 22.374852432619907, 15.874535460518773, 11.009185987365477], \"y\": [4.602858284234684, 1.2989439800226734, 3.2927591532024585, 4.509810038074031, 0.5394539303161578], \"z\": [4.47146655199666, -0.3131133846335184, -0.38520351369817607, -0.3238195947849987, -0.5183680599470233]}, {\"customdata\": [[\"TRC10\"]], \"hovertemplate\": \"<b>%{hovertext}</b><br><br>class=%{marker.color}<br>PC 3=%{x}<br>PC 2=%{y}<br>PC 1=%{z}<br>Algorithm=%{customdata[0]}<extra></extra>\", \"hovertext\": [\"BitTorrent\"], \"legendgroup\": \"1\", \"marker\": {\"color\": [1], \"coloraxis\": \"coloraxis\", \"symbol\": \"x\"}, \"mode\": \"markers\", \"name\": \"1\", \"scene\": \"scene\", \"showlegend\": true, \"type\": \"scatter3d\", \"x\": [-1.1325771800105782], \"y\": [1.3043844833712392], \"z\": [34.035300558539504]}],                        {\"coloraxis\": {\"colorbar\": {\"title\": {\"text\": \"class\"}}, \"colorscale\": [[0.0, \"#0d0887\"], [0.1111111111111111, \"#46039f\"], [0.2222222222222222, \"#7201a8\"], [0.3333333333333333, \"#9c179e\"], [0.4444444444444444, \"#bd3786\"], [0.5555555555555556, \"#d8576b\"], [0.6666666666666666, \"#ed7953\"], [0.7777777777777778, \"#fb9f3a\"], [0.8888888888888888, \"#fdca26\"], [1.0, \"#f0f921\"]]}, \"legend\": {\"title\": {\"text\": \"class\"}, \"tracegroupgap\": 0, \"x\": 0, \"y\": 1}, \"margin\": {\"t\": 60}, \"scene\": {\"domain\": {\"x\": [0.0, 1.0], \"y\": [0.0, 1.0]}, \"xaxis\": {\"title\": {\"text\": \"PC 3\"}}, \"yaxis\": {\"title\": {\"text\": \"PC 2\"}}, \"zaxis\": {\"title\": {\"text\": \"PC 1\"}}}, \"template\": {\"data\": {\"bar\": [{\"error_x\": {\"color\": \"#2a3f5f\"}, \"error_y\": {\"color\": \"#2a3f5f\"}, \"marker\": {\"line\": {\"color\": \"#E5ECF6\", \"width\": 0.5}}, \"type\": \"bar\"}], \"barpolar\": [{\"marker\": {\"line\": {\"color\": \"#E5ECF6\", \"width\": 0.5}}, \"type\": \"barpolar\"}], \"carpet\": [{\"aaxis\": {\"endlinecolor\": \"#2a3f5f\", \"gridcolor\": \"white\", \"linecolor\": \"white\", \"minorgridcolor\": \"white\", \"startlinecolor\": \"#2a3f5f\"}, \"baxis\": {\"endlinecolor\": \"#2a3f5f\", \"gridcolor\": \"white\", \"linecolor\": \"white\", \"minorgridcolor\": \"white\", \"startlinecolor\": \"#2a3f5f\"}, \"type\": \"carpet\"}], \"choropleth\": [{\"colorbar\": {\"outlinewidth\": 0, \"ticks\": \"\"}, \"type\": \"choropleth\"}], \"contour\": [{\"colorbar\": {\"outlinewidth\": 0, \"ticks\": \"\"}, \"colorscale\": [[0.0, \"#0d0887\"], [0.1111111111111111, \"#46039f\"], [0.2222222222222222, \"#7201a8\"], [0.3333333333333333, \"#9c179e\"], [0.4444444444444444, \"#bd3786\"], [0.5555555555555556, \"#d8576b\"], [0.6666666666666666, \"#ed7953\"], [0.7777777777777778, \"#fb9f3a\"], [0.8888888888888888, \"#fdca26\"], [1.0, \"#f0f921\"]], \"type\": \"contour\"}], \"contourcarpet\": [{\"colorbar\": {\"outlinewidth\": 0, \"ticks\": \"\"}, \"type\": \"contourcarpet\"}], \"heatmap\": [{\"colorbar\": {\"outlinewidth\": 0, \"ticks\": \"\"}, \"colorscale\": [[0.0, \"#0d0887\"], [0.1111111111111111, \"#46039f\"], [0.2222222222222222, \"#7201a8\"], [0.3333333333333333, \"#9c179e\"], [0.4444444444444444, \"#bd3786\"], [0.5555555555555556, \"#d8576b\"], [0.6666666666666666, \"#ed7953\"], [0.7777777777777778, \"#fb9f3a\"], [0.8888888888888888, \"#fdca26\"], [1.0, \"#f0f921\"]], \"type\": \"heatmap\"}], \"heatmapgl\": [{\"colorbar\": {\"outlinewidth\": 0, \"ticks\": \"\"}, \"colorscale\": [[0.0, \"#0d0887\"], [0.1111111111111111, \"#46039f\"], [0.2222222222222222, \"#7201a8\"], [0.3333333333333333, \"#9c179e\"], [0.4444444444444444, \"#bd3786\"], [0.5555555555555556, \"#d8576b\"], [0.6666666666666666, \"#ed7953\"], [0.7777777777777778, \"#fb9f3a\"], [0.8888888888888888, \"#fdca26\"], [1.0, \"#f0f921\"]], \"type\": \"heatmapgl\"}], \"histogram\": [{\"marker\": {\"colorbar\": {\"outlinewidth\": 0, \"ticks\": \"\"}}, \"type\": \"histogram\"}], \"histogram2d\": [{\"colorbar\": {\"outlinewidth\": 0, \"ticks\": \"\"}, \"colorscale\": [[0.0, \"#0d0887\"], [0.1111111111111111, \"#46039f\"], [0.2222222222222222, \"#7201a8\"], [0.3333333333333333, \"#9c179e\"], [0.4444444444444444, \"#bd3786\"], [0.5555555555555556, \"#d8576b\"], [0.6666666666666666, \"#ed7953\"], [0.7777777777777778, \"#fb9f3a\"], [0.8888888888888888, \"#fdca26\"], [1.0, \"#f0f921\"]], \"type\": \"histogram2d\"}], \"histogram2dcontour\": [{\"colorbar\": {\"outlinewidth\": 0, \"ticks\": \"\"}, \"colorscale\": [[0.0, \"#0d0887\"], [0.1111111111111111, \"#46039f\"], [0.2222222222222222, \"#7201a8\"], [0.3333333333333333, \"#9c179e\"], [0.4444444444444444, \"#bd3786\"], [0.5555555555555556, \"#d8576b\"], [0.6666666666666666, \"#ed7953\"], [0.7777777777777778, \"#fb9f3a\"], [0.8888888888888888, \"#fdca26\"], [1.0, \"#f0f921\"]], \"type\": \"histogram2dcontour\"}], \"mesh3d\": [{\"colorbar\": {\"outlinewidth\": 0, \"ticks\": \"\"}, \"type\": \"mesh3d\"}], \"parcoords\": [{\"line\": {\"colorbar\": {\"outlinewidth\": 0, \"ticks\": \"\"}}, \"type\": \"parcoords\"}], \"pie\": [{\"automargin\": true, \"type\": \"pie\"}], \"scatter\": [{\"marker\": {\"colorbar\": {\"outlinewidth\": 0, \"ticks\": \"\"}}, \"type\": \"scatter\"}], \"scatter3d\": [{\"line\": {\"colorbar\": {\"outlinewidth\": 0, \"ticks\": \"\"}}, \"marker\": {\"colorbar\": {\"outlinewidth\": 0, \"ticks\": \"\"}}, \"type\": \"scatter3d\"}], \"scattercarpet\": [{\"marker\": {\"colorbar\": {\"outlinewidth\": 0, \"ticks\": \"\"}}, \"type\": \"scattercarpet\"}], \"scattergeo\": [{\"marker\": {\"colorbar\": {\"outlinewidth\": 0, \"ticks\": \"\"}}, \"type\": \"scattergeo\"}], \"scattergl\": [{\"marker\": {\"colorbar\": {\"outlinewidth\": 0, \"ticks\": \"\"}}, \"type\": \"scattergl\"}], \"scattermapbox\": [{\"marker\": {\"colorbar\": {\"outlinewidth\": 0, \"ticks\": \"\"}}, \"type\": \"scattermapbox\"}], \"scatterpolar\": [{\"marker\": {\"colorbar\": {\"outlinewidth\": 0, \"ticks\": \"\"}}, \"type\": \"scatterpolar\"}], \"scatterpolargl\": [{\"marker\": {\"colorbar\": {\"outlinewidth\": 0, \"ticks\": \"\"}}, \"type\": \"scatterpolargl\"}], \"scatterternary\": [{\"marker\": {\"colorbar\": {\"outlinewidth\": 0, \"ticks\": \"\"}}, \"type\": \"scatterternary\"}], \"surface\": [{\"colorbar\": {\"outlinewidth\": 0, \"ticks\": \"\"}, \"colorscale\": [[0.0, \"#0d0887\"], [0.1111111111111111, \"#46039f\"], [0.2222222222222222, \"#7201a8\"], [0.3333333333333333, \"#9c179e\"], [0.4444444444444444, \"#bd3786\"], [0.5555555555555556, \"#d8576b\"], [0.6666666666666666, \"#ed7953\"], [0.7777777777777778, \"#fb9f3a\"], [0.8888888888888888, \"#fdca26\"], [1.0, \"#f0f921\"]], \"type\": \"surface\"}], \"table\": [{\"cells\": {\"fill\": {\"color\": \"#EBF0F8\"}, \"line\": {\"color\": \"white\"}}, \"header\": {\"fill\": {\"color\": \"#C8D4E3\"}, \"line\": {\"color\": \"white\"}}, \"type\": \"table\"}]}, \"layout\": {\"annotationdefaults\": {\"arrowcolor\": \"#2a3f5f\", \"arrowhead\": 0, \"arrowwidth\": 1}, \"coloraxis\": {\"colorbar\": {\"outlinewidth\": 0, \"ticks\": \"\"}}, \"colorscale\": {\"diverging\": [[0, \"#8e0152\"], [0.1, \"#c51b7d\"], [0.2, \"#de77ae\"], [0.3, \"#f1b6da\"], [0.4, \"#fde0ef\"], [0.5, \"#f7f7f7\"], [0.6, \"#e6f5d0\"], [0.7, \"#b8e186\"], [0.8, \"#7fbc41\"], [0.9, \"#4d9221\"], [1, \"#276419\"]], \"sequential\": [[0.0, \"#0d0887\"], [0.1111111111111111, \"#46039f\"], [0.2222222222222222, \"#7201a8\"], [0.3333333333333333, \"#9c179e\"], [0.4444444444444444, \"#bd3786\"], [0.5555555555555556, \"#d8576b\"], [0.6666666666666666, \"#ed7953\"], [0.7777777777777778, \"#fb9f3a\"], [0.8888888888888888, \"#fdca26\"], [1.0, \"#f0f921\"]], \"sequentialminus\": [[0.0, \"#0d0887\"], [0.1111111111111111, \"#46039f\"], [0.2222222222222222, \"#7201a8\"], [0.3333333333333333, \"#9c179e\"], [0.4444444444444444, \"#bd3786\"], [0.5555555555555556, \"#d8576b\"], [0.6666666666666666, \"#ed7953\"], [0.7777777777777778, \"#fb9f3a\"], [0.8888888888888888, \"#fdca26\"], [1.0, \"#f0f921\"]]}, \"colorway\": [\"#636efa\", \"#EF553B\", \"#00cc96\", \"#ab63fa\", \"#FFA15A\", \"#19d3f3\", \"#FF6692\", \"#B6E880\", \"#FF97FF\", \"#FECB52\"], \"font\": {\"color\": \"#2a3f5f\"}, \"geo\": {\"bgcolor\": \"white\", \"lakecolor\": \"white\", \"landcolor\": \"#E5ECF6\", \"showlakes\": true, \"showland\": true, \"subunitcolor\": \"white\"}, \"hoverlabel\": {\"align\": \"left\"}, \"hovermode\": \"closest\", \"mapbox\": {\"style\": \"light\"}, \"paper_bgcolor\": \"white\", \"plot_bgcolor\": \"#E5ECF6\", \"polar\": {\"angularaxis\": {\"gridcolor\": \"white\", \"linecolor\": \"white\", \"ticks\": \"\"}, \"bgcolor\": \"#E5ECF6\", \"radialaxis\": {\"gridcolor\": \"white\", \"linecolor\": \"white\", \"ticks\": \"\"}}, \"scene\": {\"xaxis\": {\"backgroundcolor\": \"#E5ECF6\", \"gridcolor\": \"white\", \"gridwidth\": 2, \"linecolor\": \"white\", \"showbackground\": true, \"ticks\": \"\", \"zerolinecolor\": \"white\"}, \"yaxis\": {\"backgroundcolor\": \"#E5ECF6\", \"gridcolor\": \"white\", \"gridwidth\": 2, \"linecolor\": \"white\", \"showbackground\": true, \"ticks\": \"\", \"zerolinecolor\": \"white\"}, \"zaxis\": {\"backgroundcolor\": \"#E5ECF6\", \"gridcolor\": \"white\", \"gridwidth\": 2, \"linecolor\": \"white\", \"showbackground\": true, \"ticks\": \"\", \"zerolinecolor\": \"white\"}}, \"shapedefaults\": {\"line\": {\"color\": \"#2a3f5f\"}}, \"ternary\": {\"aaxis\": {\"gridcolor\": \"white\", \"linecolor\": \"white\", \"ticks\": \"\"}, \"baxis\": {\"gridcolor\": \"white\", \"linecolor\": \"white\", \"ticks\": \"\"}, \"bgcolor\": \"#E5ECF6\", \"caxis\": {\"gridcolor\": \"white\", \"linecolor\": \"white\", \"ticks\": \"\"}}, \"title\": {\"x\": 0.05}, \"xaxis\": {\"automargin\": true, \"gridcolor\": \"white\", \"linecolor\": \"white\", \"ticks\": \"\", \"title\": {\"standoff\": 15}, \"zerolinecolor\": \"white\", \"zerolinewidth\": 2}, \"yaxis\": {\"automargin\": true, \"gridcolor\": \"white\", \"linecolor\": \"white\", \"ticks\": \"\", \"title\": {\"standoff\": 15}, \"zerolinecolor\": \"white\", \"zerolinewidth\": 2}}}, \"width\": 800},                        {\"responsive\": true}                    ).then(function(){\n",
       "                            \n",
       "var gd = document.getElementById('26eac139-b00e-4a8c-b5cc-7b21868044e2');\n",
       "var x = new MutationObserver(function (mutations, observer) {{\n",
       "        var display = window.getComputedStyle(gd).display;\n",
       "        if (!display || display === 'none') {{\n",
       "            console.log([gd, 'removed!']);\n",
       "            Plotly.purge(gd);\n",
       "            observer.disconnect();\n",
       "        }}\n",
       "}});\n",
       "\n",
       "// Listen for the removal of the full notebook cells\n",
       "var notebookContainer = gd.closest('#notebook-container');\n",
       "if (notebookContainer) {{\n",
       "    x.observe(notebookContainer, {childList: true});\n",
       "}}\n",
       "\n",
       "// Listen for the clearing of the current output cell\n",
       "var outputEl = gd.closest('.output');\n",
       "if (outputEl) {{\n",
       "    x.observe(outputEl, {childList: true});\n",
       "}}\n",
       "\n",
       "                        })                };                });            </script>        </div>"
      ]
     },
     "metadata": {},
     "output_type": "display_data"
    }
   ],
   "source": [
    "# Create a 3D-Scatter with the PCA data and the clusters\n",
    "fig = px.scatter_3d(\n",
    "    clustered_df,\n",
    "    x=\"PC 3\",\n",
    "    y=\"PC 2\",\n",
    "    z=\"PC 1\",\n",
    "    hover_name='CoinName',\n",
    "    hover_data= ['Algorithm'],\n",
    "    color=\"class\",\n",
    "    symbol=\"class\",\n",
    "    width=800,\n",
    ")\n",
    "fig.update_layout(legend=dict(x=0, y=1))\n",
    "fig.show()\n"
   ]
  },
  {
   "cell_type": "markdown",
   "metadata": {},
   "source": [
    "#### Table of Tradable Cryptocurrencies"
   ]
  },
  {
   "cell_type": "code",
   "execution_count": 53,
   "metadata": {},
   "outputs": [
    {
     "data": {},
     "metadata": {},
     "output_type": "display_data"
    },
    {
     "data": {
      "application/vnd.holoviews_exec.v0+json": "",
      "text/html": [
       "<div id='1832'>\n",
       "\n",
       "\n",
       "\n",
       "\n",
       "\n",
       "  <div class=\"bk-root\" id=\"7e8df402-d376-47e8-933a-989c2c0b466a\" data-root-id=\"1832\"></div>\n",
       "</div>\n",
       "<script type=\"application/javascript\">(function(root) {\n",
       "  function embed_document(root) {\n",
       "    var docs_json = {\"54fcb05b-57c8-4042-90a6-96fadaecf7b4\":{\"defs\":[{\"extends\":null,\"module\":null,\"name\":\"DataModel\",\"overrides\":[],\"properties\":[]}],\"roots\":{\"references\":[{\"attributes\":{\"editor\":{\"id\":\"1847\"},\"field\":\"ProofType\",\"formatter\":{\"id\":\"1846\"},\"title\":\"ProofType\"},\"id\":\"1848\",\"type\":\"TableColumn\"},{\"attributes\":{},\"id\":\"1857\",\"type\":\"NumberEditor\"},{\"attributes\":{\"editor\":{\"id\":\"1862\"},\"field\":\"class\",\"formatter\":{\"id\":\"1861\"},\"title\":\"class\"},\"id\":\"1863\",\"type\":\"TableColumn\"},{\"attributes\":{},\"id\":\"1842\",\"type\":\"StringEditor\"},{\"attributes\":{\"data\":{\"Algorithm\":[\"Scrypt\",\"Scrypt\",\"X13\",\"SHA-256\",\"Ethash\",\"Scrypt\",\"X11\",\"CryptoNight-V7\",\"Ethash\",\"Equihash\",\"SHA-512\",\"Multiple\",\"SHA-256\",\"SHA-256\",\"Scrypt\",\"X15\",\"X11\",\"Scrypt\",\"Scrypt\",\"Scrypt\",\"Multiple\",\"Scrypt\",\"SHA-256\",\"Scrypt\",\"Scrypt\",\"Scrypt\",\"Quark\",\"Groestl\",\"Scrypt\",\"Scrypt\",\"Scrypt\",\"Scrypt\",\"Scrypt\",\"X11\",\"Scrypt\",\"Groestl\",\"Multiple\",\"SHA-256\",\"Scrypt\",\"Scrypt\",\"Scrypt\",\"Scrypt\",\"PoS\",\"Scrypt\",\"Scrypt\",\"NeoScrypt\",\"Scrypt\",\"Scrypt\",\"Scrypt\",\"Scrypt\",\"X11\",\"Scrypt\",\"X11\",\"SHA-256\",\"Scrypt\",\"Scrypt\",\"Scrypt\",\"SHA3\",\"Scrypt\",\"HybridScryptHash256\",\"Scrypt\",\"Scrypt\",\"SHA-256\",\"Scrypt\",\"X13\",\"Scrypt\",\"SHA-256\",\"Scrypt\",\"X13\",\"NeoScrypt\",\"Scrypt\",\"Scrypt\",\"Scrypt\",\"Scrypt\",\"Scrypt\",\"Scrypt\",\"X11\",\"X11\",\"SHA-256\",\"Multiple\",\"SHA-256\",\"PHI1612\",\"X11\",\"SHA-256\",\"SHA-256\",\"SHA-256\",\"X11\",\"Scrypt\",\"Scrypt\",\"Scrypt\",\"Scrypt\",\"Lyra2REv2\",\"Scrypt\",\"X11\",\"Multiple\",\"SHA-256\",\"X13\",\"Scrypt\",\"CryptoNight\",\"CryptoNight\",\"Shabal256\",\"Counterparty\",\"Scrypt\",\"SHA-256\",\"Groestl\",\"Scrypt\",\"Scrypt\",\"Scrypt\",\"X13\",\"Scrypt\",\"Scrypt\",\"Scrypt\",\"Scrypt\",\"X13\",\"Scrypt\",\"Stanford Folding\",\"X11\",\"Multiple\",\"QuBit\",\"Scrypt\",\"Scrypt\",\"Scrypt\",\"M7 POW\",\"Scrypt\",\"SHA-256\",\"Scrypt\",\"X11\",\"SHA3\",\"X11\",\"Lyra2RE\",\"SHA-256\",\"QUAIT\",\"X11\",\"X11\",\"Scrypt\",\"Scrypt\",\"Scrypt\",\"Ethash\",\"X13\",\"Blake2b\",\"SHA-256\",\"X15\",\"X11\",\"SHA-256\",\"BLAKE256\",\"Scrypt\",\"1GB AES Pattern Search\",\"SHA-256\",\"X11\",\"Scrypt\",\"SHA-256\",\"SHA-256\",\"NIST5\",\"Scrypt\",\"Scrypt\",\"X11\",\"Dagger\",\"Scrypt\",\"X11GOST\",\"X11\",\"Scrypt\",\"SHA-256\",\"Scrypt\",\"PoS\",\"Scrypt\",\"X11\",\"X11\",\"SHA-256\",\"SHA-256\",\"NIST5\",\"X11\",\"Scrypt\",\"POS 3.0\",\"Scrypt\",\"Scrypt\",\"Scrypt\",\"X13\",\"X11\",\"X11\",\"Equihash\",\"X11\",\"Scrypt\",\"CryptoNight\",\"SHA-256\",\"SHA-256\",\"X11\",\"Scrypt\",\"Multiple\",\"Scrypt\",\"Scrypt\",\"Scrypt\",\"SHA-256\",\"Scrypt\",\"Scrypt\",\"SHA-256D\",\"PoS\",\"Scrypt\",\"X11\",\"Lyra2Z\",\"PoS\",\"X13\",\"X14\",\"PoS\",\"SHA-256D\",\"Ethash\",\"Equihash\",\"DPoS\",\"X11\",\"Scrypt\",\"X11\",\"X13\",\"X11\",\"PoS\",\"Scrypt\",\"Scrypt\",\"X11\",\"PoS\",\"X11\",\"SHA-256\",\"Scrypt\",\"X11\",\"Scrypt\",\"Scrypt\",\"X11\",\"CryptoNight\",\"Scrypt\",\"Scrypt\",\"Scrypt\",\"Scrypt\",\"Quark\",\"QuBit\",\"Scrypt\",\"CryptoNight\",\"Lyra2RE\",\"Scrypt\",\"SHA-256\",\"X11\",\"Scrypt\",\"X11\",\"Scrypt\",\"CryptoNight-V7\",\"Scrypt\",\"Scrypt\",\"Scrypt\",\"X13\",\"X11\",\"Equihash\",\"Scrypt\",\"Scrypt\",\"Lyra2RE\",\"Scrypt\",\"Dagger-Hashimoto\",\"X11\",\"Blake2S\",\"X11\",\"Scrypt\",\"PoS\",\"X11\",\"NIST5\",\"PoS\",\"X11\",\"Scrypt\",\"Scrypt\",\"Scrypt\",\"SHA-256\",\"X11\",\"Scrypt\",\"Scrypt\",\"SHA-256\",\"PoS\",\"Scrypt\",\"X15\",\"SHA-256\",\"Scrypt\",\"POS 3.0\",\"CryptoNight-V7\",\"536\",\"Argon2d\",\"Blake2b\",\"Cloverhash\",\"CryptoNight\",\"NIST5\",\"X11\",\"NIST5\",\"Skein\",\"Scrypt\",\"X13\",\"Scrypt\",\"X11\",\"X11\",\"Scrypt\",\"CryptoNight\",\"X13\",\"Time Travel\",\"Scrypt\",\"Keccak\",\"SkunkHash v2 Raptor\",\"X11\",\"Skein\",\"SHA-256\",\"X11\",\"Scrypt\",\"VeChainThor Authority\",\"Scrypt\",\"PoS\",\"Scrypt\",\"Scrypt\",\"Scrypt\",\"Scrypt\",\"Scrypt\",\"Scrypt\",\"Scrypt\",\"CryptoNight\",\"SHA-512\",\"Ouroboros\",\"X11\",\"Equihash\",\"NeoScrypt\",\"X11\",\"Scrypt\",\"NeoScrypt\",\"Lyra2REv2\",\"Equihash\",\"Scrypt\",\"SHA-256\",\"NIST5\",\"PHI1612\",\"Dagger\",\"Scrypt\",\"Quark\",\"Scrypt\",\"POS 2.0\",\"Scrypt\",\"SHA-256\",\"X11\",\"NeoScrypt\",\"Ethash\",\"NeoScrypt\",\"X11\",\"DPoS\",\"NIST5\",\"X13\",\"Multiple\",\"Scrypt\",\"CryptoNight\",\"CryptoNight\",\"Ethash\",\"NIST5\",\"Quark\",\"X11\",\"CryptoNight-V7\",\"Scrypt\",\"Scrypt\",\"Scrypt\",\"X11\",\"BLAKE256\",\"X11\",\"NeoScrypt\",\"Quark\",\"NeoScrypt\",\"Scrypt\",\"Scrypt\",\"Scrypt\",\"X11\",\"X11\",\"SHA-256\",\"C11\",\"POS 3.0\",\"Ethash\",\"Scrypt\",\"CryptoNight\",\"SkunkHash\",\"Scrypt\",\"CryptoNight\",\"Scrypt\",\"Dagger\",\"Lyra2REv2\",\"X13\",\"Proof-of-BibleHash\",\"SHA-256 + Hive\",\"Scrypt\",\"Scrypt\",\"X11\",\"C11\",\"Proof-of-Authority\",\"X11\",\"XEVAN\",\"Scrypt\",\"VBFT\",\"Ethash\",\"CryptoNight\",\"Scrypt\",\"IMesh\",\"NIST5\",\"Scrypt\",\"Scrypt\",\"Equihash\",\"Scrypt\",\"Lyra2Z\",\"Green Protocol\",\"PoS\",\"Scrypt\",\"Semux BFT consensus\",\"X11\",\"Quark\",\"PoS\",\"CryptoNight\",\"X16R\",\"Scrypt\",\"NIST5\",\"Lyra2RE\",\"XEVAN\",\"Tribus\",\"Scrypt\",\"Lyra2Z\",\"CryptoNight\",\"CryptoNight Heavy\",\"CryptoNight\",\"Scrypt\",\"Scrypt\",\"Jump Consistent Hash\",\"SHA-256D\",\"CryptoNight\",\"Scrypt\",\"X15\",\"Scrypt\",\"Quark\",\"SHA-256\",\"DPoS\",\"X16R\",\"HMQ1725\",\"X11\",\"X16R\",\"Quark\",\"Quark\",\"Scrypt\",\"Lyra2REv2\",\"Quark\",\"Scrypt\",\"Scrypt\",\"CryptoNight-V7\",\"Cryptonight-GPU\",\"XEVAN\",\"CryptoNight Heavy\",\"X11\",\"X11\",\"Scrypt\",\"PoS\",\"SHA-256\",\"Keccak\",\"X11\",\"X11\",\"Scrypt\",\"SHA-512\",\"X16R\",\"ECC 256K1\",\"Equihash\",\"XEVAN\",\"Lyra2Z\",\"SHA-256\",\"XEVAN\",\"X11\",\"CryptoNight\",\"Quark\",\"Blake\",\"Blake\",\"Equihash\",\"Exosis\",\"Scrypt\",\"Scrypt\",\"Equihash\",\"Quark\",\"Equihash\",\"Quark\",\"Scrypt\",\"QuBit\",\"X11\",\"Scrypt\",\"XEVAN\",\"SHA-256D\",\"X11\",\"SHA-256\",\"X13\",\"SHA-256\",\"X11\",\"DPoS\",\"Scrypt\",\"Scrypt\",\"X11\",\"NeoScrypt\",\"Scrypt\",\"Blake\",\"Scrypt\",\"SHA-256\",\"Scrypt\",\"X11\",\"Scrypt\",\"Scrypt\",\"SHA-256\",\"X11\",\"SHA-256\",\"Scrypt\",\"Scrypt\",\"Scrypt\",\"Groestl\",\"X11\",\"Scrypt\",\"PoS\",\"Scrypt\",\"Scrypt\",\"X11\",\"SHA-256\",\"DPoS\",\"Scrypt\",\"Scrypt\",\"NeoScrypt\",\"Multiple\",\"X13\",\"Equihash+Scrypt\",\"DPoS\",\"Ethash\",\"DPoS\",\"SHA-256\",\"Leased POS\",\"PoS\",\"TRC10\",\"PoS\",\"SHA-256\",\"Scrypt\",\"CryptoNight\",\"Equihash\",\"Scrypt\"],\"CoinName\":[\"42 Coin\",\"404Coin\",\"EliteCoin\",\"Bitcoin\",\"Ethereum\",\"Litecoin\",\"Dash\",\"Monero\",\"Ethereum Classic\",\"ZCash\",\"Bitshares\",\"DigiByte\",\"BitcoinDark\",\"PayCoin\",\"ProsperCoin\",\"KoboCoin\",\"Spreadcoin\",\"Argentum\",\"Aurora Coin\",\"BlueCoin\",\"MyriadCoin\",\"MoonCoin\",\"ZetaCoin\",\"SexCoin\",\"Quatloo\",\"EnergyCoin\",\"QuarkCoin\",\"Riecoin\",\"Digitalcoin \",\"BitBar\",\"Catcoin\",\"CryptoBullion\",\"CannaCoin\",\"CryptCoin\",\"CasinoCoin\",\"Diamond\",\"Verge\",\"DevCoin\",\"EarthCoin\",\"E-Gulden\",\"Einsteinium\",\"Emerald\",\"Exclusive Coin\",\"FlutterCoin\",\"Franko\",\"FeatherCoin\",\"GrandCoin\",\"GlobalCoin\",\"GoldCoin\",\"HoboNickels\",\"HyperStake\",\"Infinite Coin\",\"IOCoin\",\"IXcoin\",\"KrugerCoin\",\"LuckyCoin\",\"Litebar \",\"MaxCoin\",\"MegaCoin\",\"MediterraneanCoin\",\"MintCoin\",\"MinCoin\",\"MazaCoin\",\"Nautilus Coin\",\"NavCoin\",\"NobleCoin\",\"Namecoin\",\"NyanCoin\",\"OpalCoin\",\"Orbitcoin\",\"PotCoin\",\"PhoenixCoin\",\"Reddcoin\",\"RonPaulCoin\",\"StableCoin\",\"SmartCoin\",\"SuperCoin\",\"SyncCoin\",\"SysCoin\",\"TeslaCoin\",\"TigerCoin\",\"TittieCoin\",\"TorCoin\",\"TerraCoin\",\"UnbreakableCoin\",\"Unobtanium\",\"UroCoin\",\"UnitaryStatus Dollar\",\"UltraCoin\",\"ViaCoin\",\"VeriCoin\",\"Vertcoin\",\"WorldCoin\",\"X11 Coin\",\"Crypti\",\"JouleCoin\",\"StealthCoin\",\"ZCC Coin\",\"ByteCoin\",\"DigitalNote \",\"BurstCoin\",\"StorjCoin\",\"MonaCoin\",\"Neutron\",\"FairCoin\",\"Gulden\",\"RubyCoin\",\"PesetaCoin\",\"Kore\",\"Wild Beast Coin\",\"Dnotes\",\"Flo\",\"8BIT Coin\",\"Sativa Coin\",\"ArtByte\",\"Folding Coin\",\"Ucoin\",\"Unitus\",\"CypherPunkCoin\",\"OmniCron\",\"Vtorrent\",\"GreenCoin\",\"Cryptonite\",\"MasterCoin\",\"SoonCoin\",\"1Credit\",\"IslaCoin\",\"Nexus\",\"MarsCoin \",\"Crypto\",\"Anarchists Prime\",\"Droidz\",\"BowsCoin\",\"Squall Coin\",\"Song Coin\",\"BitZeny\",\"Diggits\",\"Expanse\",\"Paycon\",\"Siacoin\",\"Emercoin\",\"EverGreenCoin\",\"MindCoin\",\"I0coin\",\"Decred\",\"Revolution VR\",\"HOdlcoin\",\"EDRCoin\",\"Hitcoin\",\"Gamecredits\",\"DubaiCoin\",\"CarpeDiemCoin\",\"PWR Coin\",\"BillaryCoin\",\"GPU Coin\",\"Adzcoin\",\"SoilCoin\",\"YoCoin\",\"SibCoin\",\"EuropeCoin\",\"ZeitCoin\",\"SwingCoin\",\"SafeExchangeCoin\",\"Nebuchadnezzar\",\"Francs\",\"BolivarCoin\",\"Ratecoin\",\"Revenu\",\"Clockcoin\",\"VIP Tokens\",\"BitSend\",\"Omni\",\"Let it Ride\",\"PutinCoin\",\"iBankCoin\",\"Frankywillcoin\",\"MudraCoin\",\"PizzaCoin\",\"Lutetium Coin\",\"Komodo\",\"GoldBlocks\",\"CarterCoin\",\"Karbo\",\"BitTokens\",\"ZayedCoin\",\"MustangCoin\",\"ZoneCoin\",\"Circuits of Value\",\"RootCoin\",\"DopeCoin\",\"BitCurrency\",\"DollarCoin\",\"Swiscoin\",\"Shilling\",\"BuzzCoin\",\"Opair\",\"PesoBit\",\"Halloween Coin\",\"ZCoin\",\"CoffeeCoin\",\"RoyalCoin\",\"GanjaCoin V2\",\"TeamUP\",\"LanaCoin\",\"Elementrem\",\"ZClassic\",\"ARK\",\"InsaneCoin\",\"KiloCoin\",\"ArtexCoin\",\"EmberCoin\",\"XenixCoin\",\"FreeCoin\",\"PLNCoin\",\"AquariusCoin\",\"Kurrent\",\"Creatio\",\"Eternity\",\"Eurocoin\",\"BitcoinFast\",\"Stakenet\",\"BitConnect Coin\",\"MoneyCoin\",\"Enigma\",\"Cannabis Industry Coin\",\"Russiacoin\",\"PandaCoin\",\"GameUnits\",\"GAKHcoin\",\"Allsafe\",\"LiteCreed\",\"OsmiumCoin\",\"Bikercoins\",\"HexxCoin\",\"Klingon Empire Darsek\",\"Internet of People\",\"KushCoin\",\"Printerium\",\"PacCoin\",\"Impeach\",\"Citadel\",\"Zilbercoin\",\"FirstCoin\",\"BeaverCoin\",\"FindCoin\",\"VaultCoin\",\"Zero\",\"OpenChat\",\"Canada eCoin\",\"Zoin\",\"RenosCoin\",\"DubaiCoin\",\"VirtacoinPlus\",\"TajCoin\",\"Impact\",\"EB3coin\",\"Atmos\",\"HappyCoin\",\"Coinonat\",\"MacronCoin\",\"Condensate\",\"Independent Money System\",\"ArgusCoin\",\"LomoCoin\",\"ProCurrency\",\"GoldReserve\",\"BenjiRolls\",\"GrowthCoin\",\"ILCoin\",\"Phreak\",\"Degas Coin\",\"HTML5 Coin\",\"Ultimate Secure Cash\",\"EquiTrader\",\"QTUM\",\"Quantum Resistant Ledger\",\"Espers\",\"Dynamic\",\"Nano\",\"ChanCoin\",\"Dinastycoin\",\"Denarius\",\"DigitalPrice\",\"Virta Unique Coin\",\"Bitcoin Planet\",\"Unify\",\"BritCoin\",\"SocialCoin\",\"ArcticCoin\",\"DAS\",\"Linda\",\"LeviarCoin\",\"DeepOnion\",\"Bitcore\",\"gCn Coin\",\"SmartCash\",\"Signatum\",\"Onix\",\"Cream\",\"Bitcoin Cash\",\"Monoeci\",\"Draftcoin\",\"Vechain\",\"Sojourn Coin\",\"Stakecoin\",\"NewYorkCoin\",\"FrazCoin\",\"Kronecoin\",\"AdCoin\",\"Linx\",\"CoinonatX\",\"Ethereum Dark\",\"Sumokoin\",\"Obsidian\",\"Cardano\",\"Regalcoin\",\"BitcoinZ\",\"TrezarCoin\",\"Elements\",\"TerraNovaCoin\",\"VIVO Coin\",\"Rupee\",\"Bitcoin Gold\",\"WomenCoin\",\"Theresa May Coin\",\"NamoCoin\",\"LUXCoin\",\"Pirl\",\"Xios\",\"Bitcloud 2.0\",\"eBoost\",\"KekCoin\",\"BlackholeCoin\",\"Infinity Economics\",\"Pura\",\"Innova\",\"Ellaism\",\"GoByte\",\"Magnet\",\"Lamden Tau\",\"Electra\",\"Bitcoin Diamond\",\"SHIELD\",\"Cash & Back Coin\",\"UltraNote\",\"BitCoal\",\"DaxxCoin\",\"Bulwark\",\"Kalkulus\",\"AC3\",\"Lethean\",\"GermanCoin\",\"LiteCoin Ultra\",\"PopularCoin\",\"PhantomX\",\"Photon\",\"Sucre\",\"SparksPay\",\"Digiwage\",\"GunCoin\",\"IrishCoin\",\"Trollcoin\",\"Litecoin Plus\",\"Monkey Project\",\"Pioneer Coin\",\"UnitedBitcoin\",\"Interzone\",\"TokenPay\",\"1717 Masonic Commemorative Token\",\"My Big Coin\",\"TurtleCoin\",\"MUNcoin\",\"Unified Society USDEX\",\"Niobio Cash\",\"ShareChain\",\"Travelflex\",\"KREDS\",\"Tokyo Coin\",\"BiblePay\",\"LitecoinCash\",\"BitFlip\",\"LottoCoin\",\"Crypto Improvement Fund\",\"Stipend\",\"Poa Network\",\"Pushi\",\"Ellerium\",\"Velox\",\"Ontology\",\"Callisto Network\",\"BitTube\",\"Poseidon\",\"Aidos Kuneen\",\"Bitspace\",\"Briacoin\",\"Ignition\",\"Bitrolium\",\"MedicCoin\",\"Alpenschillling\",\"Bitcoin Green\",\"Deviant Coin\",\"Abjcoin\",\"Semux\",\"FuturoCoin\",\"Carebit\",\"Zealium\",\"Monero Classic\",\"Proton\",\"iDealCash\",\"Jumpcoin\",\"Infinex\",\"Bitcoin Incognito\",\"KEYCO\",\"HollyWoodCoin\",\"GINcoin\",\"PlatinCoin\",\"Loki\",\"Newton Coin\",\"Swisscoin\",\"Xt3ch\",\"MassGrid\",\"TheVig\",\"PluraCoin\",\"EmaratCoin\",\"Dekado\",\"Lynx\",\"Poseidon Quark\",\"BitcoinWSpectrum\",\"Muse\",\"Motion\",\"PlusOneCoin\",\"Axe\",\"Trivechain\",\"Dystem\",\"Giant\",\"Peony Coin\",\"Absolute Coin\",\"Vitae\",\"HexCoin\",\"TPCash\",\"Webchain\",\"Ryo\",\"Urals Coin\",\"Qwertycoin\",\"ARENON\",\"EUNO\",\"MMOCoin\",\"Ketan\",\"Project Pai\",\"XDNA\",\"PAXEX\",\"Azart\",\"ThunderStake\",\"Kcash\",\"Xchange\",\"Acute Angle Cloud\",\"CrypticCoin\",\"Bettex coin\",\"Actinium\",\"Bitcoin SV\",\"BitMoney\",\"Junson Ming Chan Coin\",\"FREDEnergy\",\"HerbCoin\",\"Universal Molecule\",\"Lithium\",\"PirateCash\",\"Exosis\",\"Block-Logic\",\"Oduwa\",\"Beam\",\"Galilel\",\"Bithereum\",\"Crypto Sports\",\"Credit\",\"SLICE\",\"Dash Platinum\",\"Nasdacoin\",\"Beetle Coin\",\"Titan Coin\",\"Award\",\"BLAST\",\"Bitcoin Rhodium\",\"GlobalToken\",\"Insane Coin\",\"ALAX\",\"LiteDoge\",\"SolarCoin\",\"TruckCoin\",\"UFO Coin\",\"OrangeCoin\",\"BlakeCoin\",\"BitstarCoin\",\"NeosCoin\",\"HyperCoin\",\"PinkCoin\",\"Crypto Escudo\",\"AudioCoin\",\"IncaKoin\",\"Piggy Coin\",\"Crown Coin\",\"Genstake\",\"SmileyCoin\",\"XiaoMiCoin\",\"Groestlcoin\",\"CapriCoin\",\" ClubCoin\",\"Radium\",\"Bata\",\"Pakcoin\",\"Creditbit \",\"OKCash\",\"Lisk\",\"HiCoin\",\"WhiteCoin\",\"FriendshipCoin\",\"JoinCoin\",\"Triangles Coin\",\"Vollar\",\"EOS\",\"Reality Clash\",\"Oxycoin\",\"TigerCash\",\"Waves\",\"Particl\",\"BitTorrent\",\"Nxt\",\"ZEPHYR\",\"Gapcoin\",\"Beldex\",\"Horizen\",\"BitcoinPlus\"],\"ProofType\":[\"PoW/PoS\",\"PoW/PoS\",\"PoW/PoS\",\"PoW\",\"PoW\",\"PoW\",\"PoW/PoS\",\"PoW\",\"PoW\",\"PoW\",\"PoS\",\"PoW\",\"PoW/PoS\",\"PoS\",\"PoW\",\"PoW/PoS\",\"PoW\",\"PoW\",\"PoW/PoS\",\"PoW/PoS\",\"PoW\",\"PoW\",\"PoW\",\"PoW\",\"PoW\",\"PoW/PoS\",\"PoW\",\"PoW\",\"PoW\",\"PoW/PoS\",\"PoW\",\"PoW/PoS\",\"PoW\",\"PoW\",\"PoC\",\"PoW/PoS\",\"PoW\",\"PoW\",\"PoW\",\"PoW\",\"PoW\",\"PoW\",\"PoS\",\"PoS/PoW/PoT\",\"PoW\",\"PoW\",\"PoW\",\"PoW\",\"PoW\",\"PoW/PoS\",\"PoS\",\"PoW\",\"PoW/PoS\",\"PoW\",\"PoW\",\"PoW\",\"PoW\",\"PoW/PoS\",\"PoW\",\"PoW\",\"PoS\",\"PoW\",\"PoW/PoS\",\"PoS\",\"PoW/PoS\",\"PoW\",\"PoW\",\"PoW\",\"PoW/PoS\",\"PoW/PoS\",\"PoW/PoS\",\"PoW/PoS\",\"PoW/PoS\",\"PoW\",\"PoW\",\"PoW\",\"PoS\",\"PoW/PoS\",\"PoW\",\"PoS\",\"PoW\",\"PoS\",\"PoW/PoS\",\"PoW\",\"PoW\",\"PoW\",\"PoW\",\"PoW/PoS\",\"PoW/PoS\",\"PoW\",\"PoST\",\"PoW\",\"PoW\",\"PoW/PoS\",\"PoS\",\"PoW\",\"PoW/PoS\",\"PoW/PoS\",\"PoW\",\"PoW\",\"PoC\",\"PoS\",\"PoW\",\"PoW/PoS\",\"PoW/PoS\",\"PoW\",\"PoS\",\"PoW\",\"PoW/PoS\",\"PoW\",\"PoS\",\"PoW\",\"PoW/PoS\",\"PoW/PoS\",\"PoW\",\"PoW\",\"PoS\",\"PoW\",\"PoW\",\"PoW\",\"PoW/PoS\",\"PoW\",\"PoW\",\"PoW\",\"PoW\",\"PoW\",\"PoW/PoS\",\"PoW/nPoS\",\"PoW\",\"PoW\",\"PoW\",\"PoW/PoS\",\"PoW\",\"PoS/PoW\",\"PoW\",\"PoW\",\"PoS\",\"PoW\",\"PoW/PoS\",\"PoW\",\"PoW/PoS\",\"PoW/PoS\",\"PoW\",\"PoW\",\"PoW/PoS\",\"PoW\",\"PoW\",\"PoW/PoS\",\"PoW/PoS\",\"PoW\",\"PoW/PoS\",\"PoW\",\"PoW/PoS\",\"PoW/PoS\",\"PoS\",\"PoW\",\"PoW\",\"PoW\",\"PoW\",\"PoW/PoS\",\"PoS\",\"PoW/PoS\",\"PoC\",\"PoS\",\"PoW\",\"PoW\",\"PoW/PoS\",\"PoW/PoS\",\"PoW/PoS\",\"PoW/PoS\",\"PoW/PoS\",\"PoW\",\"PoS\",\"PoW/PoS\",\"PoW/PoS\",\"PoW/PoS\",\"PoS\",\"PoW\",\"PoS\",\"dPoW/PoW\",\"PoW/PoS\",\"PoW/PoS\",\"PoW\",\"PoW/PoS\",\"PoW\",\"PoW/PoS\",\"PoW/PoS\",\"PoW\",\"PoW/PoS\",\"PoW\",\"PoS\",\"PoW\",\"PoW/PoW\",\"PoW\",\"PoW/PoS\",\"PoS\",\"PoW/PoS\",\"PoW/PoS\",\"PoW\",\"PoS\",\"PoS\",\"PoW/PoS\",\"PoS\",\"PoW/PoS\",\"PoW\",\"PoW\",\"DPoS\",\"PoW/PoS\",\"PoW\",\"PoW\",\"PoW/PoS\",\"PoW/PoS\",\"PoS\",\"PoW/PoS\",\"PoW/PoS\",\"PoW\",\"PoS\",\"PoW/PoS\",\"PoW/PoS\",\"PoW/PoS\",\"TPoS\",\"PoW/PoS\",\"PoW/PoS\",\"PoW/PoS\",\"PoW\",\"PoW/PoS\",\"PoS\",\"PoW/PoS\",\"PoW/PoS\",\"PoS\",\"PoW/PoS\",\"PoW\",\"PoW\",\"PoW\",\"PoW/PoS\",\"PoW/PoS\",\"PoW/PoS\",\"PoW/PoS\",\"PoW\",\"PoW/PoS\",\"PoW\",\"PoS\",\"PoW/PoS \",\"PoW\",\"PoS\",\"PoW\",\"PoW\",\"PoW/PoS\",\"PoW\",\"PoW\",\"PoS\",\"PoW\",\"PoW/PoS\",\"PoW/PoS\",\"PoW/PoS\",\"PoW\",\"PoS\",\"PoW/PoS\",\"PoW\",\"PoS\",\"PoW/PoS\",\"PoW/PoS\",\"PoW/PoS\",\"PoW/PoS\",\"PoS\",\"PoW/PoS\",\"PoW\",\"PoS\",\"PoW\",\"PoS\",\"PoW/PoS\",\"PoW/PoS\",\"PoS\",\"PoW\",\"PoS\",\"PoW\",\"PoW/PoS\",\"PoW\",\"PoW\",\"PoW\",\"PoW\",\"PoW/PoS\",\"PoW\",\"PoW/PoS\",\"PoW/PoS\",\"PoW\",\"PoW/PoS\",\"PoW\",\"PoW\",\"PoW\",\"PoW/PoS\",\"PoW\",\"PoW/PoS\",\"PoW\",\"PoW\",\"PoW\",\"PoS\",\"PoW\",\"PoW/PoS\",\"PoW\",\"PoW/PoS\",\"PoS\",\"Proof of Authority\",\"PoW\",\"PoS\",\"PoW\",\"PoW\",\"PoW\",\"PoW\",\"PoW\",\"PoW/PoS\",\"PoW/PoS\",\"PoW\",\"PoS\",\"PoS\",\"PoW/PoS\",\"PoW\",\"PoW/PoS\",\"PoW\",\"PoW/PoS\",\"PoW\",\"PoS\",\"PoW\",\"PoW/PoS\",\"PoW/PoS\",\"PoW/PoS\",\"PoW/PoS\",\"PoW\",\"PoW/PoS\",\"PoW/PoS\",\"PoW\",\"PoS\",\"PoW/PoS\",\"PoS\",\"PoW\",\"PoW\",\"PoW\",\"PoW\",\"PoW/PoS\",\"DPoS\",\"PoW/PoS\",\"PoW/PoS\",\"PoW\",\"PoW/PoS\",\"PoW\",\"PoW\",\"PoW\",\"PoS\",\"PoS\",\"PoW\",\"PoW\",\"PoW/PoS\",\"PoW/PoS\",\"PoW\",\"PoW/PoS\",\"PoW\",\"PoW\",\"PoW\",\"PoS\",\"PoW\",\"PoW\",\"PoW/PoS\",\"PoW/PoS\",\"PoS\",\"PoW\",\"PoW\",\"PoW\",\"PoS\",\"PoS\",\"PoW and PoS\",\"PoW\",\"PoW\",\"PoW/PoS\",\"PoW\",\"PoW\",\"PoW\",\"PoW\",\"PoS\",\"POBh\",\"PoW + Hive\",\"PoW\",\"PoW\",\"PoW\",\"PoW/PoS\",\"PoA\",\"PoW/PoS\",\"PoW/PoS\",\"PoS\",\"PoS\",\"PoW\",\"PoW\",\"PoW\",\"PoW\",\"PoW/PoS\",\"PoW/PoS\",\"PoW/PoS\",\"PoW\",\"PoS\",\"PoW\",\"PoS\",\"PoS\",\"PoW/PoS\",\"DPoS\",\"PoW\",\"PoW/PoS\",\"PoS\",\"PoW\",\"PoS\",\"PoW/PoS\",\"PoW\",\"PoW\",\"PoS/PoW\",\"PoW\",\"PoS\",\"PoW\",\"PoW\",\"PoW\",\"PoW\",\"PoW/PoS\",\"PoS\",\"PoW\",\"PoW/PoS\",\"PoW\",\"PoW/PoS\",\"PoS\",\"HPoW\",\"PoS\",\"PoS\",\"PoS\",\"PoW\",\"PoW\",\"PoW\",\"PoW/PoS\",\"PoS\",\"PoW/PoS\",\"PoS\",\"PoW/PoS\",\"PoS\",\"PoW\",\"PoW/PoS\",\"PoW\",\"PoW\",\"PoW\",\"PoW\",\"PoS\",\"PoW/PoS\",\"PoS\",\"PoS\",\"PoW\",\"PoW/PoS\",\"PoS\",\"PoW\",\"PoW/PoS\",\"Zero-Knowledge Proof\",\"PoW\",\"DPOS\",\"PoW\",\"PoS\",\"PoW\",\"PoW\",\"Pos\",\"PoS\",\"PoW\",\"PoW/PoS\",\"PoW\",\"PoW\",\"PoS\",\"PoW\",\"PoW\",\"PoW/PoS\",\"PoW\",\"PoW/PoS\",\"PoW\",\"PoS\",\"PoW/PoS\",\"PoW\",\"PoS\",\"PoW/PoS\",\"PoW/PoS\",\"PoW/PoS\",\"PoW/PoS\",\"PoW\",\"PoW\",\"PoW\",\"PoW/PoS\",\"DPoS\",\"PoW/PoS\",\"PoW\",\"PoW/PoS\",\"PoW\",\"PoW/PoS\",\"PoW\",\"PoW/PoS\",\"PoS\",\"PoW/PoS\",\"PoW/PoS\",\"PoW\",\"PoW/PoS\",\"PoW/PoS\",\"PoW/PoS\",\"PoW\",\"PoW/PoS\",\"PoW\",\"PoW/PoS\",\"PoW\",\"PoW/PoS\",\"PoW/PoS\",\"PoS\",\"PoW\",\"PoW\",\"Proof of Trust\",\"PoW/PoS\",\"DPoS\",\"PoS\",\"PoW/PoS\",\"PoW/PoS\",\"PoW\",\"PoW/PoS\",\"PoW\",\"DPoS\",\"PoW\",\"DPoS\",\"PoS\",\"LPoS\",\"PoS\",\"DPoS\",\"PoS/LPoS\",\"DPoS\",\"PoW/PoS\",\"PoW\",\"PoW\",\"PoS\"],\"TotalCoinSupply\":[\"42\",\"532000000\",\"314159265359\",\"21000000\",\"0\",\"84000000\",\"22000000\",\"0\",\"210000000\",\"21000000\",\"3600570502\",\"21000000000\",\"22000000\",\"12500000\",\"21000000\",\"350000000\",\"20000000\",\"64000000\",\"16768584\",\"0\",\"2000000000\",\"384000000000\",\"169795588\",\"250000000\",\"100000000\",\"0\",\"247000000\",\"84000000\",\"48166000\",\"500000\",\"21000000 \",\"1000000\",\"13140000\",\"18000000\",\"40000000000\",\"4380000\",\"16555000000\",\"21000000000\",\"13500000000\",\"21000000 \",\"299792458\",\"32000000\",\"0\",\"0\",\"11235813\",\"336000000\",\"1420609614\",\"70000000\",\"72245700\",\"120000000\",\"0\",\"90600000000\",\"22000000\",\"21000000\",\"265420800\",\"20000000\",\"1350000\",\"100000000\",\"42000000\",\"200000000\",\"0\",\"10000000\",\"2419200000\",\"16180000\",\"0\",\"15000000000\",\"21000000\",\"337000000\",\"0\",\"3770000\",\"420000000\",\"98000000\",\"0\",\"21000000\",\"250000000\",\"51200000\",\"0\",\"1000\",\"888000000\",\"100000000\",\"47011968\",\"2300000000\",\"10000000\",\"42000000\",\"80000000\",\"250000\",\"0\",\"1600000000\",\"100000000\",\"23000000\",\"0\",\"84000000\",\"265420800\",\"5500000\",\"0\",\"45000000\",\"0\",\"1000000000\",\"184467440735\",\"10000000000\",\"2158812800\",\"500000000\",\"105120000\",\"68000000\",\"0\",\"1680000000\",\"0\",\"166386000\",\"12000000\",\"2628000\",\"500000000\",\"160000000\",\"0\",\"10000000\",\"1000000000\",\"1000000000\",\"20000000\",\"0\",\"0\",\"3371337\",\"20000000\",\"10000000000\",\"1840000000\",\"619478\",\"21000000\",\"92000000000\",\"0\",\"78000000\",\"33000000\",\"65789100\",\"53760000\",\"5060000\",\"21000000\",\"0\",\"210240000\",\"250000000\",\"100000000\",\"16906397\",\"50000000\",\"0\",\"1000000000\",\"26298000\",\"16000000\",\"21000000\",\"21000000\",\"210000000\",\"81962100\",\"22000000\",\"26550000000\",\"84000000\",\"10500000\",\"21626280000 \",\"0\",\"42000000\",\"221052632\",\"84000000\",\"30000000\",\"168351300\",\"24000000\",\"384000000\",\" 99000000000\",\"40000000\",\"2147483647\",\"20000000\",\"20000000\",\"25000000\",\"75000000\",\"222725000\",\"525000000\",\"90000000\",\"139000000\",\"616448\",\"33500000\",\"2000000000\",\"44333333\",\"100000000\",\"200000000\",\"25000000\",\"657000000\",\"200000000\",\"50000000\",\"90000000\",\"10000000\",\"21000000\",\"9736000\",\"3000000\",\"21000000\",\"1200000000\",\"0\",\"200000000\",\"0\",\"10638298\",\"3100000000\",\"30000000\",\"20000000000\",\"74000000\",\"0\",\"1500000000\",\"21400000\",\"39999898\",\"2500124\",\"100000000\",\"301000000\",\"7506000000\",\"26205539\",\"21000000\",\"125000000\",\"30000000\",\"10000000000\",\"500000000\",\"850000000\",\"3853326.77707314\",\"50000000\",\"38540000 \",\"42000000\",\"228000000\",\"20000000\",\"60000000\",\"20000000\",\"33000000\",\"76500000\",\"28000000\",\"650659833\",\"5000000\",\"21000000\",\"144000000\",\"32514916898\",\"13000000\",\"3315789\",\"15000000\",\"78835200\",\"2714286\",\"25000000\",\"9999999\",\"500000000\",\"21000000\",\"9354000\",\"20000000\",\"100000000000\",\"21933333\",\"185000000\",\"55000000\",\"110000000\",\"3360000\",\"14524851.4827\",\"1000000000\",\"17000000\",\"1000000000\",\"100000000 \",\"21000000\",\"34426423\",\"2232901\",\"100000000\",\"36900000\",\"110000000\",\"4000000000\",\"110290030\",\"100000000\",\"48252000\",\"400000000\",\"500000000\",\"21212121\",\"28600000\",\"1000000000\",\"75000000000\",\"40000000\",\"35520400\",\"2000000000\",\"2500000000\",\"30000000\",\"105000000\",\"90000000000\",\"200084200\",\"72000000\",\"100000000\",\"105000000\",\"50000000000\",\"0\",\"340282367\",\"30000000\",\"2000000000\",\"10000000\",\"100000000\",\"120000000\",\"100000000\",\"19276800\",\"30000000\",\" 75000000\",\"60000000\",\"18900000\",\"50000000000\",\"54000000\",\"18898187.6216583\",\"21000000\",\"200000000000\",\"5000000000\",\"137500000\",\"1100000000\",\"100000000\",\"21000000\",\"9507271\",\"17405891.19707116\",\"86712634466\",\"10500000000\",\"61599965\",\"0\",\"20000000\",\"84000000\",\"100000000\",\"100000000\",\"48252000\",\"4200000\",\"88888888\",\"91388946\",\"45000000000\",\"27000000\",\"21000000000\",\"400000000\",\"1800000000\",\"15733333\",\"27000000\",\"24000000\",\"21000000\",\"25000000000\",\"100000000\",\"1200000000\",\"60000000\",\"156306732.71\",\"21000000\",\"200000000\",\"100000000\",\"21000000\",\"14788275.991\",\"9000000000\",\"350000000\",\"45000000\",\"280000000\",\"31800000\",\"144000000\",\"500000000\",\"30000000000\",\"210000000\",\"660000000\",\"210000000\",\"85000000000\",\"12500000\",\"10000000000\",\"27716121\",\"20000000\",\"550000000\",\"999481516\",\"50000000000\",\"150000000\",\"4999999999\",\"50000000\",\" 90000000000\",\"19800000\",\"21000000\",\"120000000\",\"500000000\",\"64000000\",\"900000000\",\"4000000\",\"21000000\",\"23000000\",\"20166000\",\"23000000\",\"25000000\",\"1618033\",\"30000000\",\"1000000000000\",\"16600000\",\"232000000\",\"336000000\",\"10000000000\",\"100000000\",\"1100000000\",\"800000000\",\"5200000000\",\"840000000\",\"40000000\",\"18406979840\",\"500000000\",\"19340594\",\"252460800\",\"25000000\",\"60000000\",\"124000000\",\"1000000000\",\"6500000000\",\"1000000000\",\"21000000\",\"25000000\",\"50000000\",\"3000000\",\"5000000\",\"70000000\",\"500000000\",\"300000000\",\"21000000\",\"88000000\",\"30000000\",\"100000000\",\"100000000\",\"200000000\",\"80000000\",\"18400000\",\"45000000\",\"5121951220\",\"21000000\",\"26280000\",\"21000000\",\"18000000\",\"26000000\",\"10500000\",\"600000518\",\"150000000\",\"184000000000\",\"10200000000\",\"44000000\",\"168000000\",\"100000000\",\"1000000000\",\"84000000\",\"90000000\",\"92000000000\",\"650000000 \",\"100262205\",\"18081806 \",\"22075700\",\"21000000\",\"21000000\",\"82546564\",\"21000000\",\"5151000\",\"16880000000\",\"52500000\",\"100000000\",\"22105263\",\"1000000000\",\"1750000000\",\"88188888\",\"210000000\",\"184470000000\",\"55000000\",\"50000000\",\"260000000\",\"210000000\",\"2100000000\",\"366000000\",\"100000000\",\"25000000\",\"18000000000\",\"1000000000\",\"100000000\",\"1000000000\",\"7600000000\",\"50000000\",\"84000000\",\"21000000\",\"70000000000\",\"0\",\"8080000000\",\"54000000\",\"105120001.44\",\"25228800\",\"105000000\",\"21000000\",\"120000000\",\"21000000\",\"262800000\",\"19035999\",\"30886000\",\"13370000\",\"74800000000\",\"100000000\",\"19700000\",\"84000000\",\"500000000\",\"5000000000\",\"420000000\",\"64000000\",\"2100000\",\"168000000\",\"30000000\",\"1000000000\",\"35000000000\",\"98100000000\",\"0\",\"4000000000\",\"200000000\",\"7000000000\",\"54256119\",\"21000000\",\"0\",\"500000000\",\"1000000000\",\"10500000000\",\"190000000\",\"1000000000\",\"42000000\",\"15000000\",\"50000000000\",\"400000000\",\"105000000\",\"208000000\",\"160000000\",\"9000000\",\"5000000\",\"182000000\",\"16504333\",\"105000000\",\"159918400\",\"10008835635\",\"300000000\",\"60168145\",\"2800000\",\"120000\",\"2100000000\",\"0\",\"24487944\",\"0\",\"1000000000\",\"100000000\",\"8634140\",\"990000000000\",\"1000000000\",\"2000000000\",\"250000000\",\"1400222610\",\"21000000\",\"1000000\"],\"TotalCoinsMined\":{\"__ndarray__\":\"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\",\"dtype\":\"float64\",\"order\":\"little\",\"shape\":[532]},\"class\":{\"__ndarray__\":\"AAAAAAAAAAAAAAAAAgAAAAIAAAACAAAAAAAAAAIAAAACAAAAAgAAAAAAAAACAAAAAAAAAAAAAAACAAAAAAAAAAIAAAACAAAAAAAAAAAAAAACAAAAAgAAAAIAAAACAAAAAgAAAAAAAAACAAAAAgAAAAIAAAAAAAAAAgAAAAAAAAACAAAAAgAAAAAAAAAAAAAAAgAAAAIAAAACAAAAAgAAAAIAAAACAAAAAAAAAAAAAAACAAAAAgAAAAIAAAACAAAAAgAAAAAAAAAAAAAAAgAAAAAAAAACAAAAAgAAAAIAAAACAAAAAAAAAAIAAAACAAAAAAAAAAIAAAAAAAAAAAAAAAAAAAACAAAAAgAAAAIAAAAAAAAAAAAAAAAAAAAAAAAAAAAAAAIAAAACAAAAAgAAAAAAAAAAAAAAAgAAAAAAAAACAAAAAAAAAAAAAAACAAAAAgAAAAIAAAACAAAAAAAAAAAAAAACAAAAAAAAAAIAAAACAAAAAAAAAAAAAAACAAAAAAAAAAAAAAACAAAAAgAAAAAAAAAAAAAAAgAAAAAAAAAAAAAAAgAAAAAAAAACAAAAAAAAAAIAAAAAAAAAAgAAAAAAAAAAAAAAAgAAAAIAAAAAAAAAAgAAAAIAAAACAAAAAAAAAAIAAAACAAAAAgAAAAIAAAACAAAAAAAAAAAAAAACAAAAAgAAAAIAAAAAAAAAAgAAAAAAAAACAAAAAgAAAAAAAAACAAAAAAAAAAIAAAAAAAAAAAAAAAIAAAACAAAAAAAAAAIAAAACAAAAAAAAAAAAAAACAAAAAAAAAAIAAAAAAAAAAAAAAAAAAAACAAAAAgAAAAIAAAACAAAAAAAAAAAAAAAAAAAAAAAAAAAAAAACAAAAAgAAAAAAAAAAAAAAAAAAAAAAAAAAAAAAAgAAAAAAAAAAAAAAAAAAAAAAAAAAAAAAAgAAAAAAAAACAAAAAAAAAAAAAAACAAAAAAAAAAIAAAAAAAAAAAAAAAIAAAAAAAAAAgAAAAAAAAACAAAAAAAAAAIAAAAAAAAAAAAAAAAAAAAAAAAAAgAAAAAAAAAAAAAAAAAAAAAAAAAAAAAAAgAAAAIAAAAAAAAAAAAAAAIAAAACAAAAAAAAAAAAAAAAAAAAAAAAAAAAAAACAAAAAAAAAAAAAAAAAAAAAAAAAAAAAAAAAAAAAAAAAAAAAAACAAAAAAAAAAAAAAAAAAAAAAAAAAAAAAAAAAAAAgAAAAIAAAACAAAAAAAAAAAAAAAAAAAAAAAAAAIAAAAAAAAAAgAAAAAAAAAAAAAAAgAAAAAAAAACAAAAAgAAAAAAAAACAAAAAgAAAAAAAAACAAAAAAAAAAAAAAAAAAAAAgAAAAAAAAAAAAAAAgAAAAAAAAAAAAAAAAAAAAAAAAAAAAAAAAAAAAAAAAACAAAAAAAAAAIAAAAAAAAAAAAAAAAAAAAAAAAAAgAAAAAAAAACAAAAAAAAAAIAAAACAAAAAgAAAAIAAAAAAAAAAgAAAAAAAAAAAAAAAgAAAAAAAAACAAAAAgAAAAIAAAAAAAAAAgAAAAAAAAACAAAAAgAAAAIAAAAAAAAAAgAAAAAAAAACAAAAAAAAAAAAAAADAAAAAgAAAAAAAAACAAAAAgAAAAIAAAACAAAAAgAAAAAAAAAAAAAAAgAAAAAAAAAAAAAAAAAAAAIAAAAAAAAAAgAAAAAAAAACAAAAAAAAAAIAAAAAAAAAAAAAAAAAAAAAAAAAAgAAAAAAAAAAAAAAAgAAAAAAAAAAAAAAAAAAAAIAAAACAAAAAgAAAAIAAAAAAAAAAAAAAAAAAAAAAAAAAgAAAAAAAAACAAAAAgAAAAIAAAAAAAAAAAAAAAIAAAACAAAAAAAAAAAAAAACAAAAAAAAAAIAAAACAAAAAgAAAAAAAAACAAAAAgAAAAAAAAAAAAAAAAAAAAIAAAACAAAAAgAAAAAAAAACAAAAAAAAAAIAAAACAAAAAAAAAAIAAAACAAAAAgAAAAIAAAAAAAAAAwAAAAAAAAACAAAAAgAAAAIAAAAAAAAAAwAAAAAAAAAAAAAAAAAAAAAAAAACAAAAAgAAAAIAAAACAAAAAAAAAAAAAAAAAAAAAgAAAAAAAAACAAAAAAAAAAAAAAAAAAAAAAAAAAIAAAAAAAAAAAAAAAIAAAAAAAAAAAAAAAIAAAACAAAAAAAAAAIAAAAAAAAAAgAAAAIAAAACAAAAAgAAAAAAAAAAAAAAAgAAAAAAAAACAAAAAAAAAAAAAAAAAAAAAAAAAAAAAAAAAAAAAgAAAAIAAAACAAAAAAAAAAAAAAAAAAAAAAAAAAAAAAAAAAAAAgAAAAAAAAACAAAAAgAAAAIAAAACAAAAAAAAAAAAAAAAAAAAAAAAAAIAAAAAAAAAAAAAAAIAAAAAAAAAAAAAAAIAAAADAAAAAgAAAAAAAAACAAAAAgAAAAAAAAAAAAAAAgAAAAAAAAACAAAAAgAAAAAAAAACAAAAAgAAAAAAAAACAAAAAAAAAAIAAAAAAAAAAAAAAAIAAAAAAAAAAAAAAAAAAAAAAAAAAAAAAAIAAAACAAAAAgAAAAAAAAAAAAAAAAAAAAIAAAAAAAAAAgAAAAAAAAACAAAAAAAAAAAAAAAAAAAAAAAAAAIAAAAAAAAAAAAAAAAAAAACAAAAAAAAAAIAAAAAAAAAAgAAAAAAAAAAAAAAAAAAAAIAAAACAAAAAAAAAAAAAAAAAAAAAAAAAAAAAAAAAAAAAgAAAAAAAAACAAAAAAAAAAIAAAAAAAAAAAAAAAMAAAAAAAAAAQAAAAAAAAAAAAAAAAAAAAIAAAACAAAAAAAAAA==\",\"dtype\":\"int32\",\"order\":\"little\",\"shape\":[532]}},\"selected\":{\"id\":\"1835\"},\"selection_policy\":{\"id\":\"1869\"}},\"id\":\"1834\",\"type\":\"ColumnDataSource\"},{\"attributes\":{\"margin\":[5,5,5,5],\"name\":\"HSpacer03114\",\"sizing_mode\":\"stretch_width\"},\"id\":\"1833\",\"type\":\"Spacer\"},{\"attributes\":{\"columns\":[{\"id\":\"1838\"},{\"id\":\"1843\"},{\"id\":\"1848\"},{\"id\":\"1853\"},{\"id\":\"1858\"},{\"id\":\"1863\"}],\"height\":300,\"reorderable\":false,\"source\":{\"id\":\"1834\"},\"view\":{\"id\":\"1868\"},\"width\":800},\"id\":\"1866\",\"type\":\"DataTable\"},{\"attributes\":{},\"id\":\"1846\",\"type\":\"StringFormatter\"},{\"attributes\":{},\"id\":\"1836\",\"type\":\"StringFormatter\"},{\"attributes\":{\"editor\":{\"id\":\"1857\"},\"field\":\"TotalCoinsMined\",\"formatter\":{\"id\":\"1856\"},\"title\":\"TotalCoinsMined\"},\"id\":\"1858\",\"type\":\"TableColumn\"},{\"attributes\":{\"editor\":{\"id\":\"1842\"},\"field\":\"Algorithm\",\"formatter\":{\"id\":\"1841\"},\"title\":\"Algorithm\"},\"id\":\"1843\",\"type\":\"TableColumn\"},{\"attributes\":{\"margin\":[5,5,5,5],\"name\":\"HSpacer03115\",\"sizing_mode\":\"stretch_width\"},\"id\":\"1873\",\"type\":\"Spacer\"},{\"attributes\":{\"children\":[{\"id\":\"1833\"},{\"id\":\"1866\"},{\"id\":\"1873\"}],\"margin\":[0,0,0,0],\"name\":\"Row03110\",\"tags\":[\"embedded\"]},\"id\":\"1832\",\"type\":\"Row\"},{\"attributes\":{},\"id\":\"1851\",\"type\":\"StringFormatter\"},{\"attributes\":{},\"id\":\"1869\",\"type\":\"UnionRenderers\"},{\"attributes\":{},\"id\":\"1861\",\"type\":\"NumberFormatter\"},{\"attributes\":{},\"id\":\"1862\",\"type\":\"IntEditor\"},{\"attributes\":{},\"id\":\"1852\",\"type\":\"StringEditor\"},{\"attributes\":{\"editor\":{\"id\":\"1837\"},\"field\":\"CoinName\",\"formatter\":{\"id\":\"1836\"},\"title\":\"CoinName\"},\"id\":\"1838\",\"type\":\"TableColumn\"},{\"attributes\":{\"source\":{\"id\":\"1834\"}},\"id\":\"1868\",\"type\":\"CDSView\"},{\"attributes\":{\"editor\":{\"id\":\"1852\"},\"field\":\"TotalCoinSupply\",\"formatter\":{\"id\":\"1851\"},\"title\":\"TotalCoinSupply\"},\"id\":\"1853\",\"type\":\"TableColumn\"},{\"attributes\":{},\"id\":\"1835\",\"type\":\"Selection\"},{\"attributes\":{},\"id\":\"1837\",\"type\":\"StringEditor\"},{\"attributes\":{\"format\":\"0,0.0[00000]\"},\"id\":\"1856\",\"type\":\"NumberFormatter\"},{\"attributes\":{},\"id\":\"1841\",\"type\":\"StringFormatter\"},{\"attributes\":{},\"id\":\"1847\",\"type\":\"StringEditor\"}],\"root_ids\":[\"1832\"]},\"title\":\"Bokeh Application\",\"version\":\"2.3.0\"}};\n",
       "    var render_items = [{\"docid\":\"54fcb05b-57c8-4042-90a6-96fadaecf7b4\",\"root_ids\":[\"1832\"],\"roots\":{\"1832\":\"7e8df402-d376-47e8-933a-989c2c0b466a\"}}];\n",
       "    root.Bokeh.embed.embed_items_notebook(docs_json, render_items);\n",
       "  }\n",
       "  if (root.Bokeh !== undefined && root.Bokeh.Panel !== undefined) {\n",
       "    embed_document(root);\n",
       "  } else {\n",
       "    var attempts = 0;\n",
       "    var timer = setInterval(function(root) {\n",
       "      if (root.Bokeh !== undefined && root.Bokeh.Panel !== undefined) {\n",
       "        clearInterval(timer);\n",
       "        embed_document(root);\n",
       "      } else if (document.readyState == \"complete\") {\n",
       "        attempts++;\n",
       "        if (attempts > 100) {\n",
       "          clearInterval(timer);\n",
       "          console.log(\"Bokeh: ERROR: Unable to run BokehJS code because BokehJS library is missing\");\n",
       "        }\n",
       "      }\n",
       "    }, 10, root)\n",
       "  }\n",
       "})(window);</script>"
      ],
      "text/plain": [
       ":Table   [CoinName,Algorithm,ProofType,TotalCoinSupply,TotalCoinsMined,class]"
      ]
     },
     "execution_count": 53,
     "metadata": {
      "application/vnd.holoviews_exec.v0+json": {
       "id": "1832"
      }
     },
     "output_type": "execute_result"
    }
   ],
   "source": [
    "# Table with tradable cryptos\n",
    "columns = ['CoinName', 'Algorithm', 'ProofType', 'TotalCoinSupply', 'TotalCoinsMined', 'class']\n",
    "clustered_df.hvplot.table(columns, width=800)\n"
   ]
  },
  {
   "cell_type": "code",
   "execution_count": 54,
   "metadata": {},
   "outputs": [
    {
     "name": "stdout",
     "output_type": "stream",
     "text": [
      "There are 532 tradable cryptocurrencies\n"
     ]
    }
   ],
   "source": [
    "# Print the total number of tradable cryptocurrencies\n",
    "count = clustered_df['CoinName'].count()\n",
    "print(f\"There are {count} tradable cryptocurrencies\")\n"
   ]
  },
  {
   "cell_type": "markdown",
   "metadata": {},
   "source": [
    "#### Scatter Plot with Tradable Cryptocurrencies"
   ]
  },
  {
   "cell_type": "code",
   "execution_count": 65,
   "metadata": {},
   "outputs": [],
   "source": [
    "# Scale data to create the scatter plot\n",
    "clustered_df['TotalCoinsMined'] = clustered_df['TotalCoinsMined'].astype(float) / 1000000\n",
    "clustered_df['TotalCoinSupply'] = clustered_df['TotalCoinSupply'].astype(float) / 1000000\n",
    "\n"
   ]
  },
  {
   "cell_type": "code",
   "execution_count": 66,
   "metadata": {},
   "outputs": [
    {
     "data": {},
     "metadata": {},
     "output_type": "display_data"
    },
    {
     "data": {
      "application/vnd.holoviews_exec.v0+json": "",
      "text/html": [
       "<div id='2617'>\n",
       "\n",
       "\n",
       "\n",
       "\n",
       "\n",
       "  <div class=\"bk-root\" id=\"4fb388a6-04a4-41cd-b4b9-a0f18ef121b3\" data-root-id=\"2617\"></div>\n",
       "</div>\n",
       "<script type=\"application/javascript\">(function(root) {\n",
       "  function embed_document(root) {\n",
       "    var docs_json = {\"e1674fbe-ba59-4ab2-9489-aa174a7e8b62\":{\"defs\":[{\"extends\":null,\"module\":null,\"name\":\"DataModel\",\"overrides\":[],\"properties\":[]}],\"roots\":{\"references\":[{\"attributes\":{},\"id\":\"2675\",\"type\":\"UnionRenderers\"},{\"attributes\":{\"below\":[{\"id\":\"2631\"}],\"center\":[{\"id\":\"2634\"},{\"id\":\"2638\"}],\"height\":300,\"left\":[{\"id\":\"2635\"}],\"margin\":[5,5,5,5],\"min_border_bottom\":10,\"min_border_left\":10,\"min_border_right\":10,\"min_border_top\":10,\"renderers\":[{\"id\":\"2658\"}],\"sizing_mode\":\"fixed\",\"title\":{\"id\":\"2623\"},\"toolbar\":{\"id\":\"2645\"},\"width\":700,\"x_range\":{\"id\":\"2619\"},\"x_scale\":{\"id\":\"2627\"},\"y_range\":{\"id\":\"2620\"},\"y_scale\":{\"id\":\"2629\"}},\"id\":\"2622\",\"subtype\":\"Figure\",\"type\":\"Plot\"},{\"attributes\":{\"active_multi\":null,\"tools\":[{\"id\":\"2621\"},{\"id\":\"2639\"},{\"id\":\"2640\"},{\"id\":\"2641\"},{\"id\":\"2642\"},{\"id\":\"2643\"}]},\"id\":\"2645\",\"type\":\"Toolbar\"},{\"attributes\":{},\"id\":\"2653\",\"type\":\"Selection\"},{\"attributes\":{\"end\":1.1000000000000001e-08,\"reset_end\":1.1000000000000001e-08,\"reset_start\":-1e-09,\"start\":-1e-09,\"tags\":[[[\"TotalCoinSupply\",\"TotalCoinSupply\",null]]]},\"id\":\"2620\",\"type\":\"Range1d\"},{\"attributes\":{},\"id\":\"2639\",\"type\":\"SaveTool\"},{\"attributes\":{},\"id\":\"2629\",\"type\":\"LinearScale\"},{\"attributes\":{},\"id\":\"2640\",\"type\":\"PanTool\"},{\"attributes\":{\"source\":{\"id\":\"2652\"}},\"id\":\"2659\",\"type\":\"CDSView\"},{\"attributes\":{\"angle\":{\"value\":0.0},\"fill_alpha\":{\"value\":1.0},\"fill_color\":{\"value\":\"#30a2da\"},\"hatch_alpha\":{\"value\":1.0},\"hatch_color\":{\"value\":\"black\"},\"hatch_scale\":{\"value\":12.0},\"hatch_weight\":{\"value\":1.0},\"line_alpha\":{\"value\":1.0},\"line_cap\":{\"value\":\"butt\"},\"line_color\":{\"value\":\"#30a2da\"},\"line_dash\":{\"value\":[]},\"line_dash_offset\":{\"value\":0},\"line_join\":{\"value\":\"bevel\"},\"line_width\":{\"value\":1},\"marker\":{\"value\":\"circle\"},\"size\":{\"value\":5.477225575051661},\"x\":{\"field\":\"TotalCoinsMined\"},\"y\":{\"field\":\"TotalCoinSupply\"}},\"id\":\"2660\",\"type\":\"Scatter\"},{\"attributes\":{},\"id\":\"2641\",\"type\":\"WheelZoomTool\"},{\"attributes\":{\"margin\":[5,5,5,5],\"name\":\"HSpacer04359\",\"sizing_mode\":\"stretch_width\"},\"id\":\"2618\",\"type\":\"Spacer\"},{\"attributes\":{\"margin\":[5,5,5,5],\"name\":\"HSpacer04360\",\"sizing_mode\":\"stretch_width\"},\"id\":\"2687\",\"type\":\"Spacer\"},{\"attributes\":{\"children\":[{\"id\":\"2618\"},{\"id\":\"2622\"},{\"id\":\"2687\"}],\"margin\":[0,0,0,0],\"name\":\"Row04355\",\"tags\":[\"embedded\"]},\"id\":\"2617\",\"type\":\"Row\"},{\"attributes\":{\"overlay\":{\"id\":\"2644\"}},\"id\":\"2642\",\"type\":\"BoxZoomTool\"},{\"attributes\":{},\"id\":\"2662\",\"type\":\"BasicTickFormatter\"},{\"attributes\":{\"data\":{\"CoinName\":[\"42 Coin\",\"404Coin\",\"EliteCoin\",\"Bitcoin\",\"Ethereum\",\"Litecoin\",\"Dash\",\"Monero\",\"Ethereum Classic\",\"ZCash\",\"Bitshares\",\"DigiByte\",\"BitcoinDark\",\"PayCoin\",\"ProsperCoin\",\"KoboCoin\",\"Spreadcoin\",\"Argentum\",\"Aurora Coin\",\"BlueCoin\",\"MyriadCoin\",\"MoonCoin\",\"ZetaCoin\",\"SexCoin\",\"Quatloo\",\"EnergyCoin\",\"QuarkCoin\",\"Riecoin\",\"Digitalcoin \",\"BitBar\",\"Catcoin\",\"CryptoBullion\",\"CannaCoin\",\"CryptCoin\",\"CasinoCoin\",\"Diamond\",\"Verge\",\"DevCoin\",\"EarthCoin\",\"E-Gulden\",\"Einsteinium\",\"Emerald\",\"Exclusive Coin\",\"FlutterCoin\",\"Franko\",\"FeatherCoin\",\"GrandCoin\",\"GlobalCoin\",\"GoldCoin\",\"HoboNickels\",\"HyperStake\",\"Infinite Coin\",\"IOCoin\",\"IXcoin\",\"KrugerCoin\",\"LuckyCoin\",\"Litebar \",\"MaxCoin\",\"MegaCoin\",\"MediterraneanCoin\",\"MintCoin\",\"MinCoin\",\"MazaCoin\",\"Nautilus Coin\",\"NavCoin\",\"NobleCoin\",\"Namecoin\",\"NyanCoin\",\"OpalCoin\",\"Orbitcoin\",\"PotCoin\",\"PhoenixCoin\",\"Reddcoin\",\"RonPaulCoin\",\"StableCoin\",\"SmartCoin\",\"SuperCoin\",\"SyncCoin\",\"SysCoin\",\"TeslaCoin\",\"TigerCoin\",\"TittieCoin\",\"TorCoin\",\"TerraCoin\",\"UnbreakableCoin\",\"Unobtanium\",\"UroCoin\",\"UnitaryStatus Dollar\",\"UltraCoin\",\"ViaCoin\",\"VeriCoin\",\"Vertcoin\",\"WorldCoin\",\"X11 Coin\",\"Crypti\",\"JouleCoin\",\"StealthCoin\",\"ZCC Coin\",\"ByteCoin\",\"DigitalNote \",\"BurstCoin\",\"StorjCoin\",\"MonaCoin\",\"Neutron\",\"FairCoin\",\"Gulden\",\"RubyCoin\",\"PesetaCoin\",\"Kore\",\"Wild Beast Coin\",\"Dnotes\",\"Flo\",\"8BIT Coin\",\"Sativa Coin\",\"ArtByte\",\"Folding Coin\",\"Ucoin\",\"Unitus\",\"CypherPunkCoin\",\"OmniCron\",\"Vtorrent\",\"GreenCoin\",\"Cryptonite\",\"MasterCoin\",\"SoonCoin\",\"1Credit\",\"IslaCoin\",\"Nexus\",\"MarsCoin \",\"Crypto\",\"Anarchists Prime\",\"Droidz\",\"BowsCoin\",\"Squall Coin\",\"Song Coin\",\"BitZeny\",\"Diggits\",\"Expanse\",\"Paycon\",\"Siacoin\",\"Emercoin\",\"EverGreenCoin\",\"MindCoin\",\"I0coin\",\"Decred\",\"Revolution VR\",\"HOdlcoin\",\"EDRCoin\",\"Hitcoin\",\"Gamecredits\",\"DubaiCoin\",\"CarpeDiemCoin\",\"PWR Coin\",\"BillaryCoin\",\"GPU Coin\",\"Adzcoin\",\"SoilCoin\",\"YoCoin\",\"SibCoin\",\"EuropeCoin\",\"ZeitCoin\",\"SwingCoin\",\"SafeExchangeCoin\",\"Nebuchadnezzar\",\"Francs\",\"BolivarCoin\",\"Ratecoin\",\"Revenu\",\"Clockcoin\",\"VIP Tokens\",\"BitSend\",\"Omni\",\"Let it Ride\",\"PutinCoin\",\"iBankCoin\",\"Frankywillcoin\",\"MudraCoin\",\"PizzaCoin\",\"Lutetium Coin\",\"Komodo\",\"GoldBlocks\",\"CarterCoin\",\"Karbo\",\"BitTokens\",\"ZayedCoin\",\"MustangCoin\",\"ZoneCoin\",\"Circuits of Value\",\"RootCoin\",\"DopeCoin\",\"BitCurrency\",\"DollarCoin\",\"Swiscoin\",\"Shilling\",\"BuzzCoin\",\"Opair\",\"PesoBit\",\"Halloween Coin\",\"ZCoin\",\"CoffeeCoin\",\"RoyalCoin\",\"GanjaCoin V2\",\"TeamUP\",\"LanaCoin\",\"Elementrem\",\"ZClassic\",\"ARK\",\"InsaneCoin\",\"KiloCoin\",\"ArtexCoin\",\"EmberCoin\",\"XenixCoin\",\"FreeCoin\",\"PLNCoin\",\"AquariusCoin\",\"Kurrent\",\"Creatio\",\"Eternity\",\"Eurocoin\",\"BitcoinFast\",\"Stakenet\",\"BitConnect Coin\",\"MoneyCoin\",\"Enigma\",\"Cannabis Industry Coin\",\"Russiacoin\",\"PandaCoin\",\"GameUnits\",\"GAKHcoin\",\"Allsafe\",\"LiteCreed\",\"OsmiumCoin\",\"Bikercoins\",\"HexxCoin\",\"Klingon Empire Darsek\",\"Internet of People\",\"KushCoin\",\"Printerium\",\"PacCoin\",\"Impeach\",\"Citadel\",\"Zilbercoin\",\"FirstCoin\",\"BeaverCoin\",\"FindCoin\",\"VaultCoin\",\"Zero\",\"OpenChat\",\"Canada eCoin\",\"Zoin\",\"RenosCoin\",\"DubaiCoin\",\"VirtacoinPlus\",\"TajCoin\",\"Impact\",\"EB3coin\",\"Atmos\",\"HappyCoin\",\"Coinonat\",\"MacronCoin\",\"Condensate\",\"Independent Money System\",\"ArgusCoin\",\"LomoCoin\",\"ProCurrency\",\"GoldReserve\",\"BenjiRolls\",\"GrowthCoin\",\"ILCoin\",\"Phreak\",\"Degas Coin\",\"HTML5 Coin\",\"Ultimate Secure Cash\",\"EquiTrader\",\"QTUM\",\"Quantum Resistant Ledger\",\"Espers\",\"Dynamic\",\"Nano\",\"ChanCoin\",\"Dinastycoin\",\"Denarius\",\"DigitalPrice\",\"Virta Unique Coin\",\"Bitcoin Planet\",\"Unify\",\"BritCoin\",\"SocialCoin\",\"ArcticCoin\",\"DAS\",\"Linda\",\"LeviarCoin\",\"DeepOnion\",\"Bitcore\",\"gCn Coin\",\"SmartCash\",\"Signatum\",\"Onix\",\"Cream\",\"Bitcoin Cash\",\"Monoeci\",\"Draftcoin\",\"Vechain\",\"Sojourn Coin\",\"Stakecoin\",\"NewYorkCoin\",\"FrazCoin\",\"Kronecoin\",\"AdCoin\",\"Linx\",\"CoinonatX\",\"Ethereum Dark\",\"Sumokoin\",\"Obsidian\",\"Cardano\",\"Regalcoin\",\"BitcoinZ\",\"TrezarCoin\",\"Elements\",\"TerraNovaCoin\",\"VIVO Coin\",\"Rupee\",\"Bitcoin Gold\",\"WomenCoin\",\"Theresa May Coin\",\"NamoCoin\",\"LUXCoin\",\"Pirl\",\"Xios\",\"Bitcloud 2.0\",\"eBoost\",\"KekCoin\",\"BlackholeCoin\",\"Infinity Economics\",\"Pura\",\"Innova\",\"Ellaism\",\"GoByte\",\"Magnet\",\"Lamden Tau\",\"Electra\",\"Bitcoin Diamond\",\"SHIELD\",\"Cash & Back Coin\",\"UltraNote\",\"BitCoal\",\"DaxxCoin\",\"Bulwark\",\"Kalkulus\",\"AC3\",\"Lethean\",\"GermanCoin\",\"LiteCoin Ultra\",\"PopularCoin\",\"PhantomX\",\"Photon\",\"Sucre\",\"SparksPay\",\"Digiwage\",\"GunCoin\",\"IrishCoin\",\"Trollcoin\",\"Litecoin Plus\",\"Monkey Project\",\"Pioneer Coin\",\"UnitedBitcoin\",\"Interzone\",\"TokenPay\",\"1717 Masonic Commemorative Token\",\"My Big Coin\",\"TurtleCoin\",\"MUNcoin\",\"Unified Society USDEX\",\"Niobio Cash\",\"ShareChain\",\"Travelflex\",\"KREDS\",\"Tokyo Coin\",\"BiblePay\",\"LitecoinCash\",\"BitFlip\",\"LottoCoin\",\"Crypto Improvement Fund\",\"Stipend\",\"Poa Network\",\"Pushi\",\"Ellerium\",\"Velox\",\"Ontology\",\"Callisto Network\",\"BitTube\",\"Poseidon\",\"Aidos Kuneen\",\"Bitspace\",\"Briacoin\",\"Ignition\",\"Bitrolium\",\"MedicCoin\",\"Alpenschillling\",\"Bitcoin Green\",\"Deviant Coin\",\"Abjcoin\",\"Semux\",\"FuturoCoin\",\"Carebit\",\"Zealium\",\"Monero Classic\",\"Proton\",\"iDealCash\",\"Jumpcoin\",\"Infinex\",\"Bitcoin Incognito\",\"KEYCO\",\"HollyWoodCoin\",\"GINcoin\",\"PlatinCoin\",\"Loki\",\"Newton Coin\",\"Swisscoin\",\"Xt3ch\",\"MassGrid\",\"TheVig\",\"PluraCoin\",\"EmaratCoin\",\"Dekado\",\"Lynx\",\"Poseidon Quark\",\"BitcoinWSpectrum\",\"Muse\",\"Motion\",\"PlusOneCoin\",\"Axe\",\"Trivechain\",\"Dystem\",\"Giant\",\"Peony Coin\",\"Absolute Coin\",\"Vitae\",\"HexCoin\",\"TPCash\",\"Webchain\",\"Ryo\",\"Urals Coin\",\"Qwertycoin\",\"ARENON\",\"EUNO\",\"MMOCoin\",\"Ketan\",\"Project Pai\",\"XDNA\",\"PAXEX\",\"Azart\",\"ThunderStake\",\"Kcash\",\"Xchange\",\"Acute Angle Cloud\",\"CrypticCoin\",\"Bettex coin\",\"Actinium\",\"Bitcoin SV\",\"BitMoney\",\"Junson Ming Chan Coin\",\"FREDEnergy\",\"HerbCoin\",\"Universal Molecule\",\"Lithium\",\"PirateCash\",\"Exosis\",\"Block-Logic\",\"Oduwa\",\"Beam\",\"Galilel\",\"Bithereum\",\"Crypto Sports\",\"Credit\",\"SLICE\",\"Dash Platinum\",\"Nasdacoin\",\"Beetle Coin\",\"Titan Coin\",\"Award\",\"BLAST\",\"Bitcoin Rhodium\",\"GlobalToken\",\"Insane Coin\",\"ALAX\",\"LiteDoge\",\"SolarCoin\",\"TruckCoin\",\"UFO Coin\",\"OrangeCoin\",\"BlakeCoin\",\"BitstarCoin\",\"NeosCoin\",\"HyperCoin\",\"PinkCoin\",\"Crypto Escudo\",\"AudioCoin\",\"IncaKoin\",\"Piggy Coin\",\"Crown Coin\",\"Genstake\",\"SmileyCoin\",\"XiaoMiCoin\",\"Groestlcoin\",\"CapriCoin\",\" ClubCoin\",\"Radium\",\"Bata\",\"Pakcoin\",\"Creditbit \",\"OKCash\",\"Lisk\",\"HiCoin\",\"WhiteCoin\",\"FriendshipCoin\",\"JoinCoin\",\"Triangles Coin\",\"Vollar\",\"EOS\",\"Reality Clash\",\"Oxycoin\",\"TigerCash\",\"Waves\",\"Particl\",\"BitTorrent\",\"Nxt\",\"ZEPHYR\",\"Gapcoin\",\"Beldex\",\"Horizen\",\"BitcoinPlus\"],\"TotalCoinSupply\":{\"__ndarray__\":\"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\",\"dtype\":\"float64\",\"order\":\"little\",\"shape\":[532]},\"TotalCoinsMined\":{\"__ndarray__\":\"wWTxJJH9HjzIecS0KTSnPWXi5Q7kHvQ92z/DC/I6ST2ZxnePqvFyPTjuFPwRLmY9QXGQwrtrOT343EVtXTVIPVrXuGRE8XM97uvCfQ3IND3LaIBh1SS+Pb5PW8VpWt89rZzJmMgFDT1EYw1dxuFAPaFpEWKBPDA9CHTfilX5UT0IlTvlOmI/Pfuzh+yZLUE99OfZvduFST34+HayPPKbPU+fz2QDkLI9eI2kuK47MDwtfuICU/F9PZrIVfT7rnY9C8sok9m1ND3YK5Z/QaZ1PQaTfi+11IY9BloulvBuYT0WcRuejYhXPe3vHPKGrr48rKK97IZSND2t7bmDGWYHPTc+hzsBeyo9T9t3g2ohLD01U7a633z7PQOWn8tEmiI9vp9VkbTk5T2xNrnAds3pPVUNHBXGO+E9Y+ZGQcttTT2Q5cWUjkCDPfDZ+SJ1cEs92+J9SlH5Lz3ufMQSvk+UPbq9/v9muwk953BibM9agj3UGfiPL3GjPev3fNVFG2c92IGXC45QXT35lJNZc2hvPSjRXjGddLI9tvln/+IgDz5U6rh2addIPXLGSh49rk095fvThZikej2Y9c5QCjNLPXVK820c3gg90WGOzIueZT0N/Q1z2thaPUxvqUqOc1w9rqxFSyJE7T1zwDnSXlYwPaXZIneLvrE90dJ2mHXFRj1wEhqwmEBnPe7oCXTiA7o9Wdgw/1i9RD1LusZO+3CNPewSlt6nVEU9qYZsr2UhIj3hOvLPPpaDPRuqe8OoBWo9/wIXxj8l9D3b3wDACN0IPTMIYyY4ClE9QdoMzI4CUj16WNYSV9dhPYYcsxzII2s8Rm0wCJvGmD2Hi8pKOD1sPdd+uoTkol49bFu8b3HWsT3/1taOBx8QPRm3WnOsI1A95DMeAFKmGT0yVkrjtRjiPKZQRharLws9hyN/mI0qqD1rGrIayaxhPbxtDnV+SlA9O+nK+miIVj1+srG7UQFiPceDzySeCnU9GysCBpqQMz0R6i2BmZdxPbhIlm7glFs9QJEztaJJVz3bUkNH4wh6PYilD0FYnx8+CrAtNxT80j0+IzGfPO+zPWKSD11EAWI9ivmmJG7+Zz0kKD+xiYdbPXYlwztGt2I9uX1cgdlAkj1dYrNXHyFTPWcuQZw+MXg9kwbNr1vFFj2QSlasxWLgPAlawZpcuX49v/OJPanJej3rjp99w4YQPY8wKc7O+TM9fINkjJZtoT2UUd9L6qOfPd9eXPHaSB49wzSxheLoZj2bDmHVq+oxPf0tIAysijw95j8UrwpVQD3kwHlFeljJPVm09QETKZ89JlENVxjm+zx1OuLOIYpBPQDaoJI2yM88XyhiafQKET1onKaOu2VmPeJdZtyFrFY92/6R2ldXQz0vUPwePcFEPbGsuBvsHTg9nZp/wIxTRj3CDorn1abtPJ+9D2Nx6lY9HxCGqb+aaj0R6i2BmZdxPXlVjhKlij09auMEjPw2UD1uWFrCtr72PY4CXYn2TF49fdGdjuUKQz2KWSSL8FRGPbVv3GgjjU094MURrs0sPT3FNXCUx3iCPWXBGynrHEA96rRrU5WoJD3kOVCQ+DnePYz8atRGkmg9U0wTLLDfLD2yC+6WEuHtPcVRI62+rds955WzIkdUOT1+kCoWsntcPSX0OIFavl89z9GWM8IMMD1VGKDp6an8PNZdK3XHS0g9zVdCbDpLPT3FEOdyDGj5PeKpthUKpCg94QhjDKGctz2BdklowiVMPXT7bxLEfjI9j7y702Y3Qz0WgB/a0Kt3PRWVJ3+76wo9h/Rj4WlzRz3A7qJIi1xtPauE8UdNKVE9w/fHWynD+zzHNo/PuCdbPWZbj41N4aE9zNP2zh57KT0R6i2BmZdxPYF2SWjCJSw93t+OlCYHDz100EGSKeWcPZbcyXmWY3Q91YP+6HnnRT0tcApUAWBePZc5HyWoBDY9MJJnONTQ+jwTbWcvKZMxPRROvuUHnv08vNCClwUSHT2WZHnhf/2lPcV0w29Z1xU9UXm+wj2OdD0VUVbqCtZ9Pc51oDkUojk97DBfoHxBnT0Al/ZdOkw/PUfR3k5S6Oo9Z3/CW18Maj3S01uF9ZZXPWnIjG4HSIc93P0OeYVNNT17zBInnCl6PTmHOecdJhw9EeotgZmXcT05SyJZ2xNJPcx1rbcIzKc9mwuZLcVwUj079GVn+pkvPcFRSRj9CHM9elCQ4rHQST0ZdajCPESBPRexVSa1HqI9D1Nwz12tDz6nUmSoOrElPRHqLYGZl2E9S246Yy0NSD3NklUbbZQbPYBnLEBAl2U9gXZJaMIlTD0KUUzThRUxPU8yNviIeUE9O9OYna19TD0f3z09k5hqPcLcln+AMD89p6puwaq4Pj00Tf8xQlgCPfgnEj2fBgY90YWHyuSUNz2GbIGeeDz3PUqnS5IYjSM9KeLBOI6qIj2CLJSe2po9PemjoetYRVU9B4tggbUhBD3mD3wTflY6PZWnSbufHxU9eKy0tTfdUD3YUPzs7HAcPZ9a40Oe2y89Wk5i9DmjQD2KYKZz4Z2XPVYqtLkfwus8z8JTHTrgPj2K8Io87nMgPXmBsqf1WXM9ejhLV4+JIT3xhA0XIXFEPS9VJrPFYVU9HyfTx5N7Mz2WZHnhf/2lPbmYGiCMkHE97E4WNtAZSj0vlG2kQV5ZPaa7rSHmIxk9vq2GUWGGQj2gA0640SVBPWSCO4hZdnM9zrOPVUKNZj27Pnv2HI1zPSIhopjfSU49aDrLy4h+PD0cj/9pmqeRPRiZ2idTZ3U9EiNoB3M5Lj3mpoYdo9sJPZsroYabhPY8KU4dhC2wcT1XVBtypCpIPbp+EA88iUw9VkY0Idz1iT2RtLlJQvqsPZi+3erCB0A99kYlRE4PTj1AdCR5z/D7PdLqmJX/HD09/9Q3JV0+Qz0R6i2BmZdxPaJ9Ais2Smg9kGkmBrNW7z055+mkBNhLPZFcSEX4cHc9+KbO/OnnST0qkvd8MuWzPaSD4VKYeyc9gLt0MhO6WD2Nhq1vUSVmPeALdj4PJzM91Ah6CSyFST1ashNAo+5NPQguBXWMFy09BoKhE2BTUj29OmRF9IcdPbCYr+fN3Ng9xvoex1PuQz2qsTMdcNhOPf1r1UDMDUk9r9nbMD0DHD7J7WxG4aO4PV9hAz2p/nI9M/cP+c+LdT1V0v0ORadgPWav8C6YU0k94gGS2I2wQT2jok1ZKURKPZh7ap3ZDQM+qSjm9CLa9TybK6GGm4QmPQ5WHvZ/kRg+cj/kyn9QOz2pd+89YJBIPURMXrsc+VY9F8XAUNS5Vz0tKU3l4H9LPfygj4DWpCc9qVOcLr4uOT0R6i2BmZdRPblHv3Mj0fE90srptxxxND03tOLxm6bMPVyY07GmEIA9JkDqw9y3vT3JzPSa468JPULP5cDKcyc9tOD4pHTjUD0qGCrDzTVIPSh5eE+KpgA+K53md5kxcD2hTEJ6YaeYPfTEvx3xYDc9pdADzozqVz0boWTGDTQYPXx9JEiAnFU9BvnLOiaXcT017wIkpFpBPZosOWY6B0c9A4Iy3S+92D0BaWFRBdN+PTHgGbjb8TE9aObRL/fzQT28CAu5nmowPQww2EE/4Vo9SB99DTlXiT1bpt8FCITzPYl24J7RJIA9XAn10s0vlT2QeLZv9YVzPYOxHBMwgOo9DlF19y5VKT3t+DpWuOiWPQfVsZfMpEI9expTR/XcRz07xPWkPUJsPXJRGjUJaJM9x1VwdlIAyz1nzUOZ0bI3PRAZeQUey8U9bnx76tzJXz2or71Vbq30PXANnI6wzic9p0zu/agWNj3yCpCG3zVTPQxpBonZXoo98yOttr8AYD2dv/YWU/6ZPSZNvqiwMhw92/aG/oTPKD3Jfrg1Ht03PTm+dzSRYUw9PgkLQWfFQD0SKR7gZcZMPWuKS6CpNxI93tMrqfB0Oj3imdi1OkICPo8+8VL1Hys9VYrsjESohD2/g/04yI93Pbu919nffNs9T79oEoDhcj1EnqJgf1CcPXHfZOreQYQ9RK/1iP57sz0NGyPMixOcPQ9VehsuhEE9jKP9ipLq4z2QIt30/5WCPfW9Wkxyqz898NYRaHX8gT0fA4IRVmgYPba3QYDq4fI8dF58uEj+UT0t36Rw55+cPRsR/5u8x4U9m3+fLi4qbD1G/6M8y+kmPRHqLYGZl1E96hHTIJlnQz0MIVwlxQoDPf/SR6Wmngo9tEUxRyEbaT3/XR0yAoOHPak4jxc6PVM9b1302k2YOz00XZL+3slOPTsxWPymzzs9j0lDShS5Cz2pcAmK12BWPSyty9tPlXg9vDIux48sPz2/R5L0ropGPctgWG6Lyig989ezQ7Tgrj25yckwCKdNPczDmoyLsiw9h88KotqxPj3CzCKUcOkBPcl+NYXMPFs9FtH+RTuqMz1rsvd4TV/OPCb86LzS9Eo9RguA2Ztg/D0LLeGlnAncPVLFXpP+eTU9MineArPmdz1+UOirqGNXPaN47tgBopg9YV+ddPtlTj2UTLwMhE9VPe3/r+WywQo+rzXpxhmVHj1nrdXsJldkPbktn6Nqm0k9PZ4xhk3fNj0QpCzzq1U4Pc58QzC3Gyw9pHMnZHr7WT0nv63FZu8zPdVuxCBxqTA9kHFZ9sp2Bz3s5nn0lMNCPQYVNLiaPWc9sJFuroHmDz3IAbw7s2suPWtyD79b7UU9vYNHgYaIKz1ed6qP3MBEPU+p8mBkGhE+Ce9ol5IeSz2Zw9+2O6dVPd0Cs85A9XI9PJ5aGOhAOj02Q4x5+Ra3PSIyYlfNTSo9SNyedN5bKT2rmJKZpTwsPVB8CNECT6c9lmR54X/9pT35MIv3UXQ7PZZkeeF//aU9uoYwumNIxz3Gi0hD1xozPdbcMfF4MEM9w0yOkHxSST1wy9IeXFeCPZw9Lh80p+c9HL8w0kqHtD3iifshR9lYPUvt/w4WxRE9D2BuDmJNRj1OTqs8NvdCPQcfS8/rSfI8JnVZXlTUWD29pclbLMxEPZ8Iw17kHFk9reyl8Km0ST0o+sRZw7JRPTtR0t1lyBU96L+Jj+ou9T1xn0i9ATFCPWh6G+1+HQA9nleyvKrqTD3YethSsH+BPYcuRpUQtqM9jCa5mbmzRT1/kLDGNWZiPbgbLOZGWgo9U4lQQEXFbT0luUqjGLtQPZZkeeF//aU9as/YrtoN5T2eZu5t24xjPUqxCYNIVoU9cAPl/8MGxT1q/xgEkukjPSpiX9OVb1A9G6JAGXr1TD0epotG6bkoPSFNX9ACHDs9lt52secwkz0SICEeMiihPTRHVocIkaU9XnrUx/qn6D3S+hS7p7yVPRCNpP70LFA94Rg3zlEcZT3rFdNueFT0PfqD9+UyyJE9moSdgh3KaT1pIxdRUraBPW6J0OS2OnI99uE/2P6CJT2ZO5IegHEsPXoJ7SSehGg9mfMHpTvJRz373rvSOEZqPefAK8XdHHU93Sqc7Qt92z38K9MrqSqGPTE4pm+UOgk9pH0UXj/DIj0c/CxcOlzZPBHqLYGZl3E9mqWoqCdxpj3PyhQYWztRPVMQr1Zzrqg9lmR54X/9pT0R6i2BmZdxPdA5f6A0ITo9NGkTQIVCRT6WZHnhf/2lPcW0m+B//bU9TyKT73kDRT0Tl+eiKY6lPSBdT5m1iTQ9/UwSxAke1zw=\",\"dtype\":\"float64\",\"order\":\"little\",\"shape\":[532]}},\"selected\":{\"id\":\"2653\"},\"selection_policy\":{\"id\":\"2675\"}},\"id\":\"2652\",\"type\":\"ColumnDataSource\"},{\"attributes\":{},\"id\":\"2627\",\"type\":\"LinearScale\"},{\"attributes\":{},\"id\":\"2665\",\"type\":\"BasicTickFormatter\"},{\"attributes\":{},\"id\":\"2643\",\"type\":\"ResetTool\"},{\"attributes\":{\"fill_color\":{\"value\":\"#30a2da\"},\"line_color\":{\"value\":\"#30a2da\"},\"size\":{\"value\":5.477225575051661},\"x\":{\"field\":\"TotalCoinsMined\"},\"y\":{\"field\":\"TotalCoinSupply\"}},\"id\":\"2655\",\"type\":\"Scatter\"},{\"attributes\":{\"text_color\":\"black\",\"text_font_size\":\"12pt\"},\"id\":\"2623\",\"type\":\"Title\"},{\"attributes\":{\"axis\":{\"id\":\"2635\"},\"dimension\":1,\"grid_line_color\":null,\"ticker\":null},\"id\":\"2638\",\"type\":\"Grid\"},{\"attributes\":{\"callback\":null,\"renderers\":[{\"id\":\"2658\"}],\"tags\":[\"hv_created\"],\"tooltips\":[[\"TotalCoinsMined\",\"@{TotalCoinsMined}\"],[\"TotalCoinSupply\",\"@{TotalCoinSupply}\"],[\"CoinName\",\"@{CoinName}\"]]},\"id\":\"2621\",\"type\":\"HoverTool\"},{\"attributes\":{},\"id\":\"2663\",\"type\":\"AllLabels\"},{\"attributes\":{},\"id\":\"2632\",\"type\":\"BasicTicker\"},{\"attributes\":{\"axis\":{\"id\":\"2631\"},\"grid_line_color\":null,\"ticker\":null},\"id\":\"2634\",\"type\":\"Grid\"},{\"attributes\":{},\"id\":\"2666\",\"type\":\"AllLabels\"},{\"attributes\":{\"axis_label\":\"TotalCoinsMined\",\"formatter\":{\"id\":\"2662\"},\"major_label_policy\":{\"id\":\"2663\"},\"ticker\":{\"id\":\"2632\"}},\"id\":\"2631\",\"type\":\"LinearAxis\"},{\"attributes\":{\"end\":1.0324168011566912e-08,\"reset_end\":1.0324168011566912e-08,\"reset_start\":-4.242808767504215e-10,\"start\":-4.242808767504215e-10,\"tags\":[[[\"TotalCoinsMined\",\"TotalCoinsMined\",null]]]},\"id\":\"2619\",\"type\":\"Range1d\"},{\"attributes\":{},\"id\":\"2636\",\"type\":\"BasicTicker\"},{\"attributes\":{\"axis_label\":\"TotalCoinSupply\",\"formatter\":{\"id\":\"2665\"},\"major_label_policy\":{\"id\":\"2666\"},\"ticker\":{\"id\":\"2636\"}},\"id\":\"2635\",\"type\":\"LinearAxis\"},{\"attributes\":{\"fill_alpha\":{\"value\":0.1},\"fill_color\":{\"value\":\"#30a2da\"},\"line_alpha\":{\"value\":0.1},\"line_color\":{\"value\":\"#30a2da\"},\"size\":{\"value\":5.477225575051661},\"x\":{\"field\":\"TotalCoinsMined\"},\"y\":{\"field\":\"TotalCoinSupply\"}},\"id\":\"2656\",\"type\":\"Scatter\"},{\"attributes\":{\"fill_alpha\":{\"value\":0.2},\"fill_color\":{\"value\":\"#30a2da\"},\"line_alpha\":{\"value\":0.2},\"line_color\":{\"value\":\"#30a2da\"},\"size\":{\"value\":5.477225575051661},\"x\":{\"field\":\"TotalCoinsMined\"},\"y\":{\"field\":\"TotalCoinSupply\"}},\"id\":\"2657\",\"type\":\"Scatter\"},{\"attributes\":{\"data_source\":{\"id\":\"2652\"},\"glyph\":{\"id\":\"2655\"},\"hover_glyph\":null,\"muted_glyph\":{\"id\":\"2657\"},\"nonselection_glyph\":{\"id\":\"2656\"},\"selection_glyph\":{\"id\":\"2660\"},\"view\":{\"id\":\"2659\"}},\"id\":\"2658\",\"type\":\"GlyphRenderer\"},{\"attributes\":{\"bottom_units\":\"screen\",\"fill_alpha\":0.5,\"fill_color\":\"lightgrey\",\"left_units\":\"screen\",\"level\":\"overlay\",\"line_alpha\":1.0,\"line_color\":\"black\",\"line_dash\":[4,4],\"line_width\":2,\"right_units\":\"screen\",\"syncable\":false,\"top_units\":\"screen\"},\"id\":\"2644\",\"type\":\"BoxAnnotation\"}],\"root_ids\":[\"2617\"]},\"title\":\"Bokeh Application\",\"version\":\"2.3.0\"}};\n",
       "    var render_items = [{\"docid\":\"e1674fbe-ba59-4ab2-9489-aa174a7e8b62\",\"root_ids\":[\"2617\"],\"roots\":{\"2617\":\"4fb388a6-04a4-41cd-b4b9-a0f18ef121b3\"}}];\n",
       "    root.Bokeh.embed.embed_items_notebook(docs_json, render_items);\n",
       "  }\n",
       "  if (root.Bokeh !== undefined && root.Bokeh.Panel !== undefined) {\n",
       "    embed_document(root);\n",
       "  } else {\n",
       "    var attempts = 0;\n",
       "    var timer = setInterval(function(root) {\n",
       "      if (root.Bokeh !== undefined && root.Bokeh.Panel !== undefined) {\n",
       "        clearInterval(timer);\n",
       "        embed_document(root);\n",
       "      } else if (document.readyState == \"complete\") {\n",
       "        attempts++;\n",
       "        if (attempts > 100) {\n",
       "          clearInterval(timer);\n",
       "          console.log(\"Bokeh: ERROR: Unable to run BokehJS code because BokehJS library is missing\");\n",
       "        }\n",
       "      }\n",
       "    }, 10, root)\n",
       "  }\n",
       "})(window);</script>"
      ],
      "text/plain": [
       ":Scatter   [TotalCoinsMined]   (TotalCoinSupply,CoinName)"
      ]
     },
     "execution_count": 66,
     "metadata": {
      "application/vnd.holoviews_exec.v0+json": {
       "id": "2617"
      }
     },
     "output_type": "execute_result"
    }
   ],
   "source": [
    "# Plot the scatter with x=\"TotalCoinsMined\" and y=\"TotalCoinSupply\"\n",
    "clustered_df.hvplot.scatter(\n",
    "    x=\"TotalCoinsMined\", \n",
    "    y=\"TotalCoinSupply\",\n",
    "    hover_cols=[\"CoinName\"]\n",
    ")"
   ]
  },
  {
   "cell_type": "code",
   "execution_count": null,
   "metadata": {},
   "outputs": [],
   "source": []
  }
 ],
 "metadata": {
  "file_extension": ".py",
  "kernelspec": {
   "display_name": "Python [conda env:pyvizenv]",
   "language": "python",
   "name": "conda-env-pyvizenv-py"
  },
  "language_info": {
   "codemirror_mode": {
    "name": "ipython",
    "version": 3
   },
   "file_extension": ".py",
   "mimetype": "text/x-python",
   "name": "python",
   "nbconvert_exporter": "python",
   "pygments_lexer": "ipython3",
   "version": "3.7.9"
  },
  "mimetype": "text/x-python",
  "name": "python",
  "npconvert_exporter": "python",
  "pygments_lexer": "ipython3",
  "version": 3
 },
 "nbformat": 4,
 "nbformat_minor": 4
}
